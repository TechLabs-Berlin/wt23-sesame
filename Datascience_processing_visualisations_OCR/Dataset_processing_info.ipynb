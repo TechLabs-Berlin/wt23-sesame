{
 "cells": [
  {
   "cell_type": "code",
   "execution_count": null,
   "id": "9c07fd5b",
   "metadata": {},
   "outputs": [],
   "source": [
    "import pandas as pd\n",
    "import numpy as np\n",
    "import seaborn as sns\n",
    "import matplotlib.pyplot as plt\n",
    "\n",
    "url = \"https://raw.githubusercontent.com/TechLabs-Berlin/wt23-sesame/DS_Storytelling_FeatureDevelopment/data/cristina_dataset/Cristina_Dataset_230222.csv\"\n",
    "      \n",
    "df = pd.read_csv(url)   \n",
    "\n",
    "df.head"
   ]
  },
  {
   "cell_type": "code",
   "execution_count": null,
   "id": "0ff57489",
   "metadata": {},
   "outputs": [],
   "source": [
    "# Which type is the Date\n",
    "df.info()"
   ]
  },
  {
   "cell_type": "code",
   "execution_count": null,
   "id": "e6f845fb",
   "metadata": {},
   "outputs": [],
   "source": [
    "# Convert Date from Object to Datetime\n",
    "\n",
    "df[\"Date\"] = pd.to_datetime(df[\"Date\"], format = \"%d-%b\")"
   ]
  }
 ],
 "metadata": {
  "kernelspec": {
   "display_name": "Python 3 (ipykernel)",
   "language": "python",
   "name": "python3"
  },
  "language_info": {
   "codemirror_mode": {
    "name": "ipython",
    "version": 3
   },
   "file_extension": ".py",
   "mimetype": "text/x-python",
   "name": "python",
   "nbconvert_exporter": "python",
   "pygments_lexer": "ipython3",
   "version": "3.9.12"
  }
 },
 "nbformat": 4,
 "nbformat_minor": 5
}
