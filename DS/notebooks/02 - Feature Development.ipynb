{
 "cells": [
  {
   "cell_type": "code",
   "execution_count": 1,
   "metadata": {},
   "outputs": [],
   "source": [
    "import pandas as pd\n",
    "import numpy as np\n",
    "import pytesseract\n",
    "import PIL.Image\n",
    "from PIL import Image, ImageEnhance\n",
    "import cv2 as cv2\n",
    "import os\n",
    "import re"
   ]
  },
  {
   "attachments": {},
   "cell_type": "markdown",
   "metadata": {},
   "source": [
    "# Pytesseract for Optical Character Recognition"
   ]
  },
  {
   "cell_type": "code",
   "execution_count": 2,
   "metadata": {},
   "outputs": [],
   "source": [
    "#embed the location of tesseract.exe\n",
    "pytesseract.pytesseract.tesseract_cmd = r'C:\\Program Files\\Tesseract-OCR\\tesseract.exe'"
   ]
  },
  {
   "cell_type": "code",
   "execution_count": 3,
   "metadata": {},
   "outputs": [
    {
     "name": "stdout",
     "output_type": "stream",
     "text": [
      "Done\n"
     ]
    }
   ],
   "source": [
    "path = r\"..\\Data\\raw_data\\sample_receipt\"\n",
    "list_fn = os.listdir(path)\n",
    "\n",
    "\n",
    "# Set the enhancement factors\n",
    "brightness_factor = 1.1\n",
    "contrast_factor = 1.5\n",
    "sharpness_factor = 1.6\n",
    "\n",
    "# Loop through all the files in the directory\n",
    "for filename in os.listdir(path):\n",
    "    if filename.endswith(\".jpg\"):\n",
    "        # Load the image using OpenCV\n",
    "        image = cv2.imread(os.path.join(path, filename))\n",
    "\n",
    "        # Convert the image to Pillow format\n",
    "        pil_image = Image.fromarray(image)\n",
    "\n",
    "        # Adjust the brightness of the image using Pillow\n",
    "        enhancer = ImageEnhance.Brightness(pil_image)\n",
    "        brightened = enhancer.enhance(brightness_factor)\n",
    "\n",
    "        # Adjust the contrast of the image using Pillow\n",
    "        enhancer = ImageEnhance.Contrast(brightened)\n",
    "        contrasted = enhancer.enhance(contrast_factor)\n",
    "\n",
    "        # Adjust the sharpness of the image using Pillow\n",
    "        enhancer = ImageEnhance.Sharpness(contrasted)\n",
    "        sharpened = enhancer.enhance(sharpness_factor)\n",
    "\n",
    "        # Convert the image back to OpenCV format\n",
    "        improved_image = cv2.cvtColor(np.array(sharpened), cv2.COLOR_RGB2BGR)\n",
    "\n",
    "        # Save the improved image\n",
    "        cv2.imwrite(os.path.join(path, filename.split(\".\")[0]+\"_adjQuality.jpg\"), improved_image)\n",
    "\n",
    "print(\"Done\")"
   ]
  },
  {
   "attachments": {},
   "cell_type": "markdown",
   "metadata": {},
   "source": [
    "PyTesseract differentiates between psm (Page segmentation modes) and oem (OCR Engine modes):\n",
    "\n",
    "in ***psm*** 14 modes are provided:\n",
    "\n",
    "- Orientation and script detection (OSD) only.\n",
    "- Automatic page segmentation with OSD.\n",
    "- Automatic page segmentation, but no OSD, or OCR. (not implemented)\n",
    "- Fully automatic page segmentation, but no OSD. (Default)\n",
    "- Assume a single column of text of variable sizes.\n",
    "- Assume a single uniform block of vertically aligned text.\n",
    "- Assume a single uniform block of text.\n",
    "- Treat the image as a single text line.\n",
    "- Treat the image as a single word.\n",
    "- Treat the image as a single word in a circle.\n",
    "- Treat the image as a single character.\n",
    "- Sparse text. Find as much text as possible in no particular order.\n",
    "- Sparse text with OSD.\n",
    "- Raw line. Treat the image as a single text line, bypassing hacks that are Tesseract-specific.\n",
    "\n",
    "\n",
    "in ***oem*** 4 modes are provided:\n",
    "\n",
    "- Legacy engine only.\n",
    "- Neural nets LSTM engine only.\n",
    "- Legacy + LSTM engines.\n",
    "- Default, based on what is available.\n",
    "\n",
    "\n",
    "***psm*** is adjusted to the best fit, while ***oem*** is kept at mode 3 (default, based on what is available)"
   ]
  },
  {
   "cell_type": "code",
   "execution_count": 4,
   "metadata": {},
   "outputs": [
    {
     "name": "stdout",
     "output_type": "stream",
     "text": [
      "Edeka Fil. 2139\n",
      "Ohstallee 28-30\n",
      "13593 Berlin\n",
      "Tel. 030 36403 330\n",
      "wt\n",
      "G&G Haferflocken 0,\n",
      "383 Kakaorolle 1,49 A\n",
      "G&G Naturjoghurt 1,09 4\n",
      "BANANEN G+G 1,45 A\n",
      "1,000 kg x 1,45 EUR/kg\n",
      "Posten: 4 Tones\n",
      "SUMME EUR 4,82\n",
      "Bar EUR 5,00\n",
      "Ruckge Id EUR -0,18\n",
      "BevwSt =. NETTO. = MwS?-=—sUMSATZ\n",
      "ms 4,50 0,32 4,82\n",
      "~ flr Ihren Einkauf von 4,82 Euro auf\n",
      "~» rabatt fahige Artike! hatten Sie\n",
      "2 DeutschlandCard Punkte erhalten!\n",
      "Helden Ste sich gleich hier im Markt\n",
      "oder unter ww.deutschlandcard.de an.\n",
      "alii iit\n",
      "Datum Uhrveit Pos (\n",
      "17.02.23 18:07 001 A at,\n",
      "oteuernumier : NE266067317\n",
      "ISE Trangakt LAV Abilimmens tA oe\n",
      "\n"
     ]
    }
   ],
   "source": [
    "#test read two different image qualities\n",
    "#potential modes for psm (1,3,4,5,6,11,12)\n",
    "myconfig_Edeka = r\"--psm 6--oem 3\"\n",
    "\n",
    "\n",
    "text_Edeka = pytesseract.image_to_string(PIL.Image.open(path+\"\\\\\"+\"Edeka_1_adjQuality.jpg\"), config=myconfig_Edeka)   ### 6 / 3\n",
    "print(text_Edeka)\n",
    "\n"
   ]
  },
  {
   "cell_type": "code",
   "execution_count": 5,
   "metadata": {},
   "outputs": [
    {
     "name": "stdout",
     "output_type": "stream",
     "text": [
      "EuroShop Berlin\n",
      "Car|1-Schurz-StraBe 23\n",
      "13597 Berlin\n",
      "www. euroshop-on! ine. de\n",
      "\n",
      "Menge EUR\n",
      "\n",
      "Milka Choco Moo 200g 1 1,50\n",
      "Total EUR 1,50\n",
      "Bar 1,50\n",
      "MwSt % Netto MwSt Brutto\n",
      "7.20 1,40 0,10 1,56\n",
      "\n",
      "17.11.2022 13:49 #:58234 0p:13294 C:1 5:62\n",
      "Wir danken fdr Ihren Einkauf\n",
      "USt-IdNr. DE 237 646 296\n",
      "\n",
      "TSE Seriennummer :\n",
      "\n",
      "TIAFOACCBC 7CC3ASODE4C77BS0BE26345F 95248864\n",
      "819040 1064F 0D 7ABEA1BB1\n",
      "\n",
      "TSE Start: 9022-11-12712:49:05 .G00Z +01 00\n",
      "TSE Ende : 2022-11-12712:50:04.0002+01 00\n",
      "\n",
      "TSE Identifikation: 62-1)\n",
      "TSE Transaktionsnr.: 199095\n",
      "TSE Signaturzahler: 420600\n",
      "\n",
      "TSE Signatur: iM\n",
      "DhwPCnNePIBIRFm)EPW4UL wmbXc9J7 JUL YAPIEGR3R\n",
      "\n",
      "bFTWw4zrOB7NOIS2TatyELfZfrPSQ+/z jmeBWucdtg\n",
      "SPJaZFo2hdTqMWodgt iMDEatAbJHPomBh j 2Vf2dMFz\n",
      "6s\n",
      "\n"
     ]
    }
   ],
   "source": [
    "myconfig_EuroShop = r\"--psm 1--oem 3\"\n",
    "text_Euroshop = pytesseract.image_to_string(PIL.Image.open(path+\"\\\\\"+\"Euroshop_1_adjQuality.jpg\"), config=myconfig_EuroShop)\n",
    "print(text_Euroshop)"
   ]
  },
  {
   "cell_type": "code",
   "execution_count": 6,
   "metadata": {},
   "outputs": [
    {
     "name": "stdout",
     "output_type": "stream",
     "text": [
      "L¢DE.\n",
      "\n",
      "Seeburger Str. 18\n",
      "13581 Berlin Spandau\n",
      "\n",
      "EUR\n",
      "Strauchtomaten 0,52 A\n",
      "0,524 kg x 0, 99 EUR/kg\n",
      "Gurken 0,59 A\n",
      "Birnen 1,59 A\n",
      "H-Milch 1,5% 0,99 A\n",
      "Tomatenmark 0,59 A\n",
      "Direxteéfte Orange 1,39 B\n",
      "ZU zahlen 5 67\n",
      "Bar 6,00\n",
      "Riickgeld -0,33\n",
      "MWST% MWST + Netto = Brutto\n",
      "A 7% (0,28 4,00 4,28\n",
      "B 19 Big — 0,22 Me u : \"\n",
      "\n",
      "0,50\n",
      "\n",
      "alll Rasad otpennoseiian +a wah fj\n",
      "\n",
      "Prifwert : ton] tert hey eT ee\n",
      "pFVL2hVr Leg? 7BqWOKhovF rONncOZyVTSynBa3tKSt\n",
      "B4N4mKaG IW) goX6cF f305b/uOCBmNaNdx/GKAtE fut tt\n",
      "weWr47jfekXu\n",
      "\n",
      "Signaturzahler: 246687\n",
      "-2021-06-17T19:23:45.000+0200\n",
      "“2021-06- 1771924; 12.000+\n",
      "\n",
      "J 6395\n",
      "“ fe\n",
      "\n",
      "\n"
     ]
    }
   ],
   "source": [
    "myconfig_Lidl = r\"--psm 3--oem 3\"\n",
    "\n",
    "\n",
    "text_Lidl = pytesseract.image_to_string(PIL.Image.open(path+\"\\\\\"+\"Lidl_1_adjQuality.jpg\"), config=myconfig_Lidl)\n",
    "print(text_Lidl)\n",
    "\n"
   ]
  },
  {
   "cell_type": "code",
   "execution_count": 7,
   "metadata": {},
   "outputs": [
    {
     "name": "stdout",
     "output_type": "stream",
     "text": [
      "Primark\n",
      "\n",
      "Primark Mode Ltd & CO KG\n",
      "Alexanderplatz 7\n",
      "10178 Berlin\n",
      "USt-Id.Nr.: DE276960607\n",
      "\n",
      "VERKAUFT\n",
      "\n",
      "210423655 Blickdicht warm 8,00 B\n",
      "210422997 Blickdicht warm 8,00 B\n",
      "210413648 Langarm-Shirt 6,00 B\n",
      "Summe € 22,00\n",
      "‘Debit MasterCard € 22,00\n",
      "\n",
      "Karten-Nr. KK KKKKKKKKKKB IGG\n",
      "\n",
      "Handler-Nr. ¥¥¥**13619\n",
      "\n",
      "Auth.-Nr. NURERS\n",
      "\n",
      "App. Nr. © A0000000041010\n",
      "\n",
      "Kassenterminal-ID ****0312\n",
      "\n",
      "PAN-Laufnr.\n",
      "\n",
      "Quelle kontaktlos\n",
      "\n",
      "Verifizieruns nicht ausgsefuhrt\n",
      "\n",
      "(MwSt.-Obersicht )\n",
      "Cong MuSt .-Satz pp iketbetraa MwSt.-Betr.\n",
      "\n",
      "19,00% 4 3,51\n",
      "SUMMEN 18,49 3,51\n",
      "Filiale:0808 Kasse:002 Trans. :007322\n",
      "\n",
      "Datum:25.11.2022 Zeit: 15:02 Ben. :10291577\n",
      "\n",
      "Verkaufte Artikel: 3\n",
      "Zurlickgegebene Artikel: 0\n",
      "\n",
      "a i jeu 0 el oi m= 88 8 @eeeem ome lm oe\n",
      "\n"
     ]
    }
   ],
   "source": [
    "myconfig_Primark = r\"--psm 3--oem 3\"\n",
    "\n",
    "text_Primark = pytesseract.image_to_string(PIL.Image.open(path+\"\\\\\"+\"Primark_1_adjQuality.jpg\"), config=myconfig_Primark)\n",
    "print(text_Primark)\n",
    "\n",
    "# text2 = pytesseract.image_to_string(PIL.Image.open(path+\"\\\\\"+\"Edeka_1_sharp1.jpg\"), config=myconfig)\n",
    "# print(text2)"
   ]
  },
  {
   "cell_type": "code",
   "execution_count": 8,
   "metadata": {},
   "outputs": [
    {
     "name": "stdout",
     "output_type": "stream",
     "text": [
      "REWE\n",
      "\n",
      "Rheinstr.\n",
      "\n",
      "12161 Berlin\n",
      "Telefon: 030 _/ 85074370\n",
      "UID Nr. : DE812706034\n",
      "RUCOTELLA KAESE 4°03 B\n",
      "See =Handeingabe E-Bon 0, 193 kg\n",
      "meee FEIGENSENFSAUCE 4,29 B\n",
      "fees Versch. Sorten Bile\n",
      "fees CIABATTA 0,99 B\n",
      "memes PANE RUSTICO 1,39 B\n",
      "ee CRACKER PAPRIKA 2,49 B\n",
      "See 15 CRACK. SALT 2,49 B -\n",
      "Seems HUMMUS NATUR 2,70 B\n",
      "Sees ZTTRONE BIO [Pasi\n",
      "me 2 otk x 20, (9\n",
      "SALAT SALATTRIO 1,79 B\n",
      "GURKE MINI eee\n",
      "4Stkx 0,49\n",
      "BIO EIER KL. M-L 2,30 8\n",
      "FR. BIO HEUMI. 1,99 B\n",
      "ESSIGESSENZ HELL 1,49 B\n",
      "SALTLETTS _ 2, lan\n",
      "UNIV MEGAPERLS 4,59 A\n",
      "KLAPPBOX 8,99 A\n",
      "SUMME EUR 47,54\n",
      "Geg. Maestro EUR 47,54\n",
      "\n",
      "* * Kundenbeleg * *\n",
      "11. 02. 2023\n",
      "\n",
      "Datum: :\n",
      "\n",
      "Uhrzeit 14:01:06 Uhr\n",
      "\n",
      "Beleg-Nr 1181\n",
      "\n",
      "race-N 671124\n",
      "Ge a aed Mey a ractless\n",
      "\n",
      "\n"
     ]
    }
   ],
   "source": [
    "myconfig_Rewe = r\"--psm 3--oem 3\"\n",
    "\n",
    "\n",
    "text_Rewe = pytesseract.image_to_string(PIL.Image.open(path+\"\\\\\"+\"Rewe_receipt_02_adjQuality.jpg\"), config=myconfig_Rewe)\n",
    "print(text_Rewe)"
   ]
  },
  {
   "cell_type": "code",
   "execution_count": 9,
   "metadata": {},
   "outputs": [
    {
     "name": "stdout",
     "output_type": "stream",
     "text": [
      "Edeka Fil. 2139\n",
      "EuroShop Berlin\n",
      "L¢DE.\n",
      "Primark\n",
      "REWE\n"
     ]
    }
   ],
   "source": [
    "print(text_Edeka.split(\"\\n\")[0])  # Customer\n",
    "print(text_Euroshop.split(\"\\n\")[0])  # Customer\n",
    "print(text_Lidl.split(\"\\n\")[0])  # Customer\n",
    "print(text_Primark.split(\"\\n\")[0])  # Customer\n",
    "print(text_Rewe.split(\"\\n\")[0])  # Customer"
   ]
  },
  {
   "cell_type": "code",
   "execution_count": 10,
   "metadata": {},
   "outputs": [],
   "source": [
    "files_list= [text_Edeka,text_Euroshop,text_Lidl,text_Primark,text_Rewe]"
   ]
  },
  {
   "cell_type": "code",
   "execution_count": 11,
   "metadata": {},
   "outputs": [],
   "source": [
    "shopping_location = []\n",
    "\n",
    "for i in files_list:\n",
    "\n",
    "    shopping_location.append(i.split(\"\\n\")[0])"
   ]
  },
  {
   "cell_type": "code",
   "execution_count": 12,
   "metadata": {},
   "outputs": [],
   "source": [
    "#Dates"
   ]
  },
  {
   "cell_type": "code",
   "execution_count": 13,
   "metadata": {},
   "outputs": [
    {
     "name": "stdout",
     "output_type": "stream",
     "text": [
      "Date: 17.02.23 \n",
      "Date: 17.11.2022\n",
      "Date: 2021-06-17\n",
      "Date: 25.11.2022\n",
      "Date: 11.02.2023\n"
     ]
    }
   ],
   "source": [
    "shopping_date = []\n",
    "\n",
    "\n",
    "for i in files_list:\n",
    "\n",
    "    date_pattern = r\"\\d{2}\\-\\d{2}\\-\\d{4}|\\d{2}\\.\\d{2}\\.\\d{4}|\\d{2}\\. \\d{2}\\. \\d{4}|\\d{4}\\-\\d{2}\\-\\d{2}|\\d{2}\\.\\d{2}\\.\\d{2} \"\n",
    "    dates = re.findall(date_pattern, i)\n",
    "    if dates:\n",
    "        print(\"Date:\", dates[0].replace('. ', '.'))\n",
    "    else:\n",
    "        print('No date found')\n",
    "\n",
    "    shopping_date.append(dates[0])"
   ]
  },
  {
   "cell_type": "code",
   "execution_count": 14,
   "metadata": {},
   "outputs": [
    {
     "data": {
      "text/plain": [
       "['2023-02-17', '2022-11-17', '2021-06-17', '2022-11-25', '2023-02-11']"
      ]
     },
     "execution_count": 14,
     "metadata": {},
     "output_type": "execute_result"
    }
   ],
   "source": [
    "#converting dates to '%Y-%m-%d'\n",
    "from datetime import datetime\n",
    "date_format = ['%d.%m.%y', '%d.%m.%Y', '%Y-%m-%d', '%d.%m.%Y', '%d. %m. %Y']\n",
    "\n",
    "# Convert date strings to datetime objects\n",
    "datetime_list = [datetime.strptime(date_str.strip(), fmt) for date_str, fmt in zip(shopping_date, date_format)]\n",
    "\n",
    "# Convert datetime objects to desired strftime format\n",
    "strftime_format = '%Y-%m-%d'  # Example format: YYYY-MM-DD\n",
    "formatted_dates = [date_obj.strftime(strftime_format) for date_obj in datetime_list]\n",
    "formatted_dates"
   ]
  },
  {
   "cell_type": "code",
   "execution_count": 15,
   "metadata": {},
   "outputs": [],
   "source": [
    "# extracting the sum per receipt"
   ]
  },
  {
   "cell_type": "code",
   "execution_count": 16,
   "metadata": {},
   "outputs": [
    {
     "name": "stdout",
     "output_type": "stream",
     "text": [
      "Sum: 4,82 €\n",
      "Sum: 1,50 €\n",
      "Sum: None €\n",
      "Sum: None €\n",
      "Sum: 47,54 €\n"
     ]
    }
   ],
   "source": [
    "# use regular expression to find the sum after \"SUMME EUR\"\n",
    "sum_perReceipt = []\n",
    "\n",
    "\n",
    "for i in files_list:\n",
    "    match = re.search(r' EUR\\s*(\\d+,\\d{2})|Summe € \\d+,\\d{2}|ZU zahlen ', i)\n",
    "    if match:\n",
    "        sum_str = match.group(1)\n",
    "        print(\"Sum:\", sum_str, \"€\")\n",
    "    else:\n",
    "        print(\"Sum not found\")\n",
    "    sum_perReceipt.append(sum_str)"
   ]
  },
  {
   "cell_type": "code",
   "execution_count": 17,
   "metadata": {},
   "outputs": [
    {
     "data": {
      "text/plain": [
       "['4,82', '1,50', None, None, '47,54']"
      ]
     },
     "execution_count": 17,
     "metadata": {},
     "output_type": "execute_result"
    }
   ],
   "source": [
    "sum_perReceipt"
   ]
  },
  {
   "cell_type": "code",
   "execution_count": 18,
   "metadata": {},
   "outputs": [
    {
     "name": "stdout",
     "output_type": "stream",
     "text": [
      "          Location        Time   Cost\n",
      "0  Edeka Fil. 2139  2023-02-17   4,82\n",
      "1  EuroShop Berlin  2022-11-17   1,50\n",
      "2            L¢DE.  2021-06-17   None\n",
      "3          Primark  2022-11-25   None\n",
      "4             REWE  2023-02-11  47,54\n"
     ]
    }
   ],
   "source": [
    "# Create dataframe\n",
    "df_OCR = pd.DataFrame({'Location': shopping_location, 'Time': formatted_dates, 'Cost': sum_perReceipt})\n",
    "\n",
    "# Print dataframe\n",
    "print(df_OCR)"
   ]
  }
 ],
 "metadata": {
  "kernelspec": {
   "display_name": "py310",
   "language": "python",
   "name": "py310"
  },
  "language_info": {
   "codemirror_mode": {
    "name": "ipython",
    "version": 3
   },
   "file_extension": ".py",
   "mimetype": "text/x-python",
   "name": "python",
   "nbconvert_exporter": "python",
   "pygments_lexer": "ipython3",
   "version": "3.10.8"
  },
  "orig_nbformat": 4
 },
 "nbformat": 4,
 "nbformat_minor": 2
}
