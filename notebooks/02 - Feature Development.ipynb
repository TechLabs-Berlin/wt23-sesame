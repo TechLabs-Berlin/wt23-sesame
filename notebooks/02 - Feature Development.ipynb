{
 "cells": [
  {
   "cell_type": "code",
   "execution_count": 1,
   "metadata": {},
   "outputs": [],
   "source": [
    "import pandas as pd\n",
    "import numpy as np\n",
    "import pytesseract\n",
    "import PIL.Image\n",
    "import cv2 as cv2\n",
    "import os"
   ]
  },
  {
   "cell_type": "code",
   "execution_count": 2,
   "metadata": {},
   "outputs": [
    {
     "data": {
      "text/plain": [
       "'c:\\\\Users\\\\wasy\\\\Desktop\\\\SESAME\\\\wt23-sesame\\\\notebooks'"
      ]
     },
     "execution_count": 2,
     "metadata": {},
     "output_type": "execute_result"
    }
   ],
   "source": [
    "os.getcwd()"
   ]
  },
  {
   "cell_type": "code",
   "execution_count": 3,
   "metadata": {},
   "outputs": [],
   "source": [
    "img = cv2.imread(r\"..\\data\\sample_receipt\\IMG-4652.jpg\")\n"
   ]
  },
  {
   "cell_type": "code",
   "execution_count": 7,
   "metadata": {},
   "outputs": [
    {
     "name": "stdout",
     "output_type": "stream",
     "text": [
      "dict_keys(['level', 'page_num', 'block_num', 'par_num', 'line_num', 'word_num', 'left', 'top', 'width', 'height', 'conf', 'text'])\n"
     ]
    }
   ],
   "source": [
    "from pytesseract import Output\n",
    "d = pytesseract.image_to_data(img, output_type=Output.DICT)\n",
    "print(d.keys())"
   ]
  },
  {
   "cell_type": "code",
   "execution_count": 8,
   "metadata": {},
   "outputs": [
    {
     "data": {
      "text/plain": [
       "0"
      ]
     },
     "execution_count": 8,
     "metadata": {},
     "output_type": "execute_result"
    },
    {
     "ename": "",
     "evalue": "",
     "output_type": "error",
     "traceback": [
      "\u001b[1;31mThe Kernel crashed while executing code in the the current cell or a previous cell. Please review the code in the cell(s) to identify a possible cause of the failure. Click <a href='https://aka.ms/vscodeJupyterKernelCrash'>here</a> for more info. View Jupyter <a href='command:jupyter.viewOutput'>log</a> for further details."
     ]
    }
   ],
   "source": [
    "n_boxes = len(d['text'])\n",
    "for i in range(n_boxes):\n",
    "    if int(d['conf'][i]) > 60:\n",
    "        (x, y, w, h) = (d['left'][i], d['top'][i], d['width'][i], d['height'][i])\n",
    "        img = cv2.rectangle(img, (x, y), (x + w, y + h), (0, 255, 0), 2)\n",
    "\n",
    "cv2.imshow('img', img)\n",
    "cv2.waitKey(0)"
   ]
  },
  {
   "attachments": {},
   "cell_type": "markdown",
   "metadata": {},
   "source": [
    "# Pytesseract for Optical Character Recognition"
   ]
  },
  {
   "cell_type": "code",
   "execution_count": 3,
   "metadata": {},
   "outputs": [],
   "source": [
    "#embed the location of tesseract.exe\n",
    "pytesseract.pytesseract.tesseract_cmd = r'C:\\Program Files\\Tesseract-OCR\\tesseract.exe'"
   ]
  },
  {
   "cell_type": "code",
   "execution_count": 4,
   "metadata": {},
   "outputs": [
    {
     "data": {
      "text/plain": [
       "'c:\\\\Users\\\\wasy\\\\Desktop\\\\SESAME\\\\wt23-sesame\\\\notebooks'"
      ]
     },
     "execution_count": 4,
     "metadata": {},
     "output_type": "execute_result"
    }
   ],
   "source": [
    "os.getcwd()"
   ]
  },
  {
   "cell_type": "code",
   "execution_count": null,
   "metadata": {},
   "outputs": [],
   "source": [
    "https://nanonets.com/blog/ocr-with-tesseract/"
   ]
  },
  {
   "cell_type": "code",
   "execution_count": 10,
   "metadata": {},
   "outputs": [
    {
     "name": "stdout",
     "output_type": "stream",
     "text": [
      "REWE\n",
      "\n",
      "Rheinstr.\n",
      "12161 Berlin\n",
      "Telefon: 030 / 85074370\n",
      "UID Nr. : DE812706034\n",
      "\n",
      "1\n",
      "\n",
      "RUCOTELLA KAESE a B\n",
      "Handeingabe E-Bon 0, 193 kg\n",
      "FET GENSENFSAUCE 4,29 B\n",
      "YVersch. Sorten 2,19 B\n",
      "CIABATTA 0,99 B\n",
      "PANE RUSTICO 1,39 B\n",
      "CRACKER PAPRIKA 2,49 B\n",
      "TS CRACK. SALT 2,49 By\n",
      "HUMMUS NATUR 2; (OB\n",
      "ZITRONE BIO 1,58 B\n",
      "2 alk xX 0, 79\n",
      "SALAT SALATTRIO 1,79 B\n",
      "GURKE MINI 1,96 B\n",
      "4 Stk x 0, 49\n",
      "BIO EJER KL. M-L 2,39 B\n",
      "FR. BIO HEUMI. 1,99 B\n",
      "ESSIGESSENZ HELL 1,49 B\n",
      "SALTLETTS 2,19 B\n",
      "UNIV MEGAPERLS 4,59 A\n",
      "KLAPPBO 8,99 A\n",
      "SUMME EUR 47,54\n",
      "Geg. Maestro EUR 47,54\n",
      "* x Kundenbeleg * *\n",
      "11. 02. 2023\n",
      "\n",
      "14:01:06 Uhr\n",
      "1181\n",
      "ors\n",
      "\n",
      "\n"
     ]
    }
   ],
   "source": [
    "#potential modes for psm (1,3,4,5,6,11,12)\n",
    "myconfig = r\"--psm 3--oem 3\"\n",
    "text = pytesseract.image_to_string(PIL.Image.open(r\"..\\data\\sample_receipt\\IMG-4652.jpg\"), config=myconfig)\n",
    "print(text)"
   ]
  },
  {
   "cell_type": "markdown",
   "metadata": {},
   "source": []
  }
 ],
 "metadata": {
  "kernelspec": {
   "display_name": "py310",
   "language": "python",
   "name": "py310"
  },
  "language_info": {
   "codemirror_mode": {
    "name": "ipython",
    "version": 3
   },
   "file_extension": ".py",
   "mimetype": "text/x-python",
   "name": "python",
   "nbconvert_exporter": "python",
   "pygments_lexer": "ipython3",
   "version": "3.10.8"
  },
  "orig_nbformat": 4
 },
 "nbformat": 4,
 "nbformat_minor": 2
}
