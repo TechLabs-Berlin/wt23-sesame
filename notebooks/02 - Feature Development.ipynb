{
 "cells": [
  {
   "cell_type": "code",
   "execution_count": 12,
   "metadata": {},
   "outputs": [],
   "source": [
    "import pandas as pd\n",
    "import numpy as np\n",
    "import pytesseract\n",
    "import PIL.Image\n",
    "import cv2 as cv2\n",
    "import os\n",
    "import re"
   ]
  },
  {
   "cell_type": "code",
   "execution_count": 13,
   "metadata": {},
   "outputs": [
    {
     "data": {
      "text/plain": [
       "'/Users/cristinaescubos/Desktop/Sesame/wt23-sesame/notebooks'"
      ]
     },
     "execution_count": 13,
     "metadata": {},
     "output_type": "execute_result"
    }
   ],
   "source": [
    "os.getcwd()"
   ]
  },
  {
   "cell_type": "code",
   "execution_count": 14,
   "metadata": {},
   "outputs": [],
   "source": [
    "img = cv2.imread(r\"../data/sample_receipt/IMG-4652.jpg\")\n"
   ]
  },
  {
   "cell_type": "code",
   "execution_count": 15,
   "metadata": {},
   "outputs": [
    {
     "name": "stdout",
     "output_type": "stream",
     "text": [
      "/opt/homebrew/bin/tesseract\n"
     ]
    }
   ],
   "source": [
    "!which tesseract"
   ]
  },
  {
   "cell_type": "code",
   "execution_count": 16,
   "metadata": {},
   "outputs": [],
   "source": [
    "pytesseract.pytesseract.tesseract_cmd = '/opt/homebrew/bin/tesseract'"
   ]
  },
  {
   "cell_type": "code",
   "execution_count": 17,
   "metadata": {},
   "outputs": [
    {
     "name": "stdout",
     "output_type": "stream",
     "text": [
      "dict_keys(['level', 'page_num', 'block_num', 'par_num', 'line_num', 'word_num', 'left', 'top', 'width', 'height', 'conf', 'text'])\n"
     ]
    }
   ],
   "source": [
    "from pytesseract import Output\n",
    "d = pytesseract.image_to_data(img, output_type=Output.DICT)\n",
    "print(d.keys())"
   ]
  },
  {
   "cell_type": "code",
   "execution_count": 18,
   "metadata": {},
   "outputs": [],
   "source": [
    "#n_boxes = len(d['text'])\n",
    "#for i in range(n_boxes):\n",
    "#    if int(d['conf'][i]) > 60:\n",
    "#        (x, y, w, h) = (d['left'][i], d['top'][i], d['width'][i], d['height'][i])\n",
    "#        img = cv2.rectangle(img, (x, y), (x + w, y + h), (0, 255, 0), 2)\n",
    "\n",
    "# cv2.imshow('img', img)\n",
    "# cv2.waitKey(0)"
   ]
  },
  {
   "attachments": {},
   "cell_type": "markdown",
   "metadata": {},
   "source": [
    "# Pytesseract for Optical Character Recognition"
   ]
  },
  {
   "cell_type": "code",
   "execution_count": 19,
   "metadata": {},
   "outputs": [],
   "source": [
    "#embed the location of tesseract.exe\n",
    "pytesseract.pytesseract.tesseract_cmd = '/opt/homebrew/bin/tesseract'"
   ]
  },
  {
   "cell_type": "code",
   "execution_count": 20,
   "metadata": {},
   "outputs": [
    {
     "data": {
      "text/plain": [
       "'/Users/cristinaescubos/Desktop/Sesame/wt23-sesame/notebooks'"
      ]
     },
     "execution_count": 20,
     "metadata": {},
     "output_type": "execute_result"
    }
   ],
   "source": [
    "os.getcwd()"
   ]
  },
  {
   "cell_type": "markdown",
   "metadata": {},
   "source": [
    "https://nanonets.com/blog/ocr-with-tesseract/"
   ]
  },
  {
   "cell_type": "code",
   "execution_count": 23,
   "metadata": {},
   "outputs": [
    {
     "name": "stdout",
     "output_type": "stream",
     "text": [
      "REWE\n",
      "\n",
      "Rheinstr.\n",
      "12161 Berlin\n",
      "Telefon: 030 / 85074370\n",
      "UID Nr. : DE812706034\n",
      "\n",
      "1\n",
      "\n",
      "RUCOTELLA KAESE a B\n",
      "Handeingabe E-Bon 0, 193 kg\n",
      "FET GENSENFSAUCE 4,29 B\n",
      "YVersch. Sorten 2,19 B\n",
      "CIABATTA 0,99 B\n",
      "PANE RUSTICO 1,39 B\n",
      "CRACKER PAPRIKA 2,49 B\n",
      "TS CRACK. SALT 2,49 By\n",
      "HUMMUS NATUR 2; (OB\n",
      "ZITRONE BIO 1,58 B\n",
      "2 alk xX 0, 79\n",
      "SALAT SALATTRIO 1,79 B\n",
      "GURKE MINI 1,96 B\n",
      "4 Stk x 0, 49\n",
      "BIO EJER KL. M-L 2,39 B\n",
      "FR. BIO HEUMI. 1,99 B\n",
      "ESSIGESSENZ HELL 1,49 B\n",
      "SALTLETTS 2,19 B\n",
      "UNIV MEGAPERLS 4,59 A\n",
      "KLAPPBO 8,99 A\n",
      "SUMME EUR 47,54\n",
      "Geg. Maestro EUR 47,54\n",
      "* x Kundenbeleg * *\n",
      "11. 02. 2023\n",
      "\n",
      "14:01:06 Uhr\n",
      "1181\n",
      "ors\n",
      "\n",
      "\n"
     ]
    }
   ],
   "source": [
    "#potential modes for psm (1,3,4,5,6,11,12)\n",
    "myconfig = r\"--psm 3--oem 3\"\n",
    "text1 = pytesseract.image_to_string(PIL.Image.open(r\"../data/sample_receipt/IMG-4652.jpg\"), config=myconfig)\n",
    "print(text1)\n"
   ]
  },
  {
   "cell_type": "code",
   "execution_count": 35,
   "metadata": {},
   "outputs": [
    {
     "name": "stdout",
     "output_type": "stream",
     "text": [
      "Edeka Fil, 2139\n",
      "Obstallee 28-30\n",
      "13593 Berlin\n",
      "Tel. 030 36403 330\n",
      "\n",
      "7\n",
      "GaG Haferf locken 0,\n",
      "38G Kakaorolle 1,49 A\n",
      "G&G Naturjoghurt 1,09 £\n",
      "BANANEN G+G 1,45 A\n",
      "1,000 kg x 1,45 EUR/kg\n",
      "Posten: 4 tt tenn ~~\n",
      "SUMME EUR 4,8\n",
      "Bar EUR 5,00\n",
      "RUckge Id EUR -0,18\n",
      "\n",
      "Must ~~ NETTO Mwot  UMSATZ\n",
      "™ 1% 4,50 0,32 4,82\n",
      "_ fir Thren Einkauf von 4,82 Euro auf\n",
      "\n",
      "~— rabatt fahige Artike}] hatten Sie\n",
      "\n",
      "\"2 DeutschlandCard Punkte erhalten!\n",
      "\n",
      "Helden Ste sich gleich hier im Markt\n",
      "oder unter www. deutschlandcard.de an.\n",
      "\n",
      "0013662170223001007352\n",
      "\n",
      "i te\n",
      "\n",
      "Vatum Uhrzeit Pos Bed Bon\n",
      "1702.23 18:07 001 O10 7352\n",
      "\n",
      "steuernummnier ; UE2660673 17\n",
      "ISE Trangakt 4M AV lems CANS\n",
      "\n"
     ]
    }
   ],
   "source": [
    "text2 = pytesseract.image_to_string(PIL.Image.open(r\"../data/sample_receipt/Edeka_1.jpg\"), config=myconfig)\n",
    "print(text2)"
   ]
  },
  {
   "cell_type": "code",
   "execution_count": 44,
   "metadata": {},
   "outputs": [
    {
     "name": "stdout",
     "output_type": "stream",
     "text": [
      "Schum EuroShop GmbH & Co.KG\n",
      "EuroShop Berlin\n",
      "Car1-Schurz-StraBe 23\n",
      "13597 Berlin\n",
      "www. euroshop-on! ine.de\n",
      "\n",
      "Menge EUR\n",
      "\n",
      "Milka Choco Moo 200g | 50\n",
      "Total EUR 1,50\n",
      "Bar 1,50\n",
      "MwSt % Netto MwSt Brutto\n",
      "7.90 1,40 0,10 1,50\n",
      "\n",
      "17.11.2022 13:49 #:58234 0p:13294 C:1 8¢62\n",
      "Wir danken fir Ihren Einkauf\n",
      "USt-IdNr. DE 237 646 256\n",
      "\n",
      "TSE Seriennummer:\n",
      "\n",
      "TIAFOACCECTCC3ASODE4CT 7BSDBEZ63A5F 95248884\n",
      "8190A01064F CD 7ABEA1BB1\n",
      "\n",
      "TSE Start: 2022-11-12712:49:05 .G002+01 : 00\n",
      "TSE Ende : 2022-11-12712:50:04,000Z+01 :00\n",
      "\n",
      "TSE Identif ikation: 62-11\n",
      "TSE Transaktionsnr.: 199095\n",
      "TSE Signaturzahler: 420600\n",
      "\n",
      "TSE Signatur:\n",
      "DhwPCnNEPBIRFm)EPW4UL wMbXc9Ij JULYAPIEARIR\n",
      "\n",
      "bFTWw4zrOB/NOTS2TatyELfZfrPSQ+/z jmeBWucdtg\n",
      "5PJaZFe2hdT qMwW9dgt iMDEotABJHPomBh12VF2dMFz\n",
      "6s\n",
      "\n"
     ]
    }
   ],
   "source": [
    "text3 = pytesseract.image_to_string(PIL.Image.open(r\"../data/sample_receipt/Euroshop_1.jpg\"), config=myconfig)\n",
    "print(text3)"
   ]
  },
  {
   "cell_type": "code",
   "execution_count": 46,
   "metadata": {},
   "outputs": [],
   "source": [
    "from PIL import Image, ImageEnhance, ImageFilter\n",
    "\n",
    "# open the image\n",
    "image = PIL.Image.open(r\"../data/sample_receipt/Edeka_2_1.jpg\")\n",
    "\n",
    "# enhance brightness\n",
    "enhancer = ImageEnhance.Brightness(image)\n",
    "bright_image = enhancer.enhance(1.2)  # adjust the enhancement factor to control brightness\n",
    "\n",
    "# enhance sharpness\n",
    "sharp_image = bright_image.filter(ImageFilter.SHARPEN)\n",
    "\n",
    "# save the enhanced image\n",
    "sharp_image.save(\"enhanced_image.jpg\")"
   ]
  },
  {
   "cell_type": "code",
   "execution_count": 47,
   "metadata": {},
   "outputs": [
    {
     "name": "stdout",
     "output_type": "stream",
     "text": [
      "Edeka Fil. 2139\n",
      "Obstallee 28-30\n",
      "13593 Berlin\n",
      "Tel. 030 36403 330\n",
      "\n",
      "EUR\n",
      "2x ; 1,15 Po. ,\n",
      "G&G H-Milch 3,5% 2,30 A\n",
      "2 x 1,49\n",
      "Gas Vollk.Sandwich 2,98 A\n",
      "G&G Backpulver 0,59 A\n",
      "BANANEN GtG 1,18 AW\n",
      "1,182 kg x |, UU EUR/kg '\n",
      "GG Zwiebeln 1,99 A\n",
      "Posten: 7\n",
      "SUMME EUR 904\n",
      "Bar EUR 20 , 00\n",
      "— Ruckge Id EUR ~10,96\n",
      "Mwot NETIO MwSt UMSATZ\n",
      "A 7% 8, 45 0,69 9,04\n",
      "\n",
      "Fir Dhren Einkauf von 9,04-Furs aut\n",
      "rabattfahige Artike! hatten Sie\n",
      "4 DeutschlandGard Punkte erhalten!\n",
      "\n",
      "_ Welden Sie sich gleich hier im Markt\n",
      "oder si. www. deutsch} i f an.\n",
      "\n",
      "4\n",
      "\n",
      "UU\n",
      ", Datun uhirzeit Pos Bed Bo\n",
      "03.02.23 14:55 001 009 3112\n",
      "\n",
      "Steuernummer: DE266067317\n",
      "\n",
      "» TSE Transaktionsnummer: 189113\n",
      ". (OVO ee, MHY wk AY crt eo)\n",
      "_ tac OT ope aonb? FOV FLSeCm\n",
      "\n",
      "3 SovOctavedl Cao\n",
      "\n",
      "FDAIUD\n",
      "\n",
      "’ ai (hs ,\n",
      ".. i\n",
      "eeld i 4 >\n",
      "\n",
      "if\n",
      "\n",
      "a 5/1\n",
      "\n",
      "\n"
     ]
    }
   ],
   "source": [
    "text4a = pytesseract.image_to_string(PIL.Image.open(r\"../data/sample_receipt/Edeka_2_1.jpg\"), config=myconfig)\n",
    "print(text4a)"
   ]
  },
  {
   "cell_type": "code",
   "execution_count": 48,
   "metadata": {},
   "outputs": [
    {
     "name": "stdout",
     "output_type": "stream",
     "text": [
      "Edeka Fil. 2139\n",
      "Obstallee 28-30\n",
      "13593 Berlin\n",
      "Tel. 030 36403. 330\n",
      "\n",
      "EUR\n",
      "\n",
      "tae 3 4 tg:\n",
      "GG H-Milch 3,5% 2,30 A\n",
      "2 x 1,49\n",
      "Gas Vollk Sandwich 2,98 A\n",
      "G&G Backpulver 0,59 A\n",
      "BANANEN G+G ET oe\n",
      "\n",
      "1,182 kg x |,0U EUR/kKg _\n",
      "6G Zwiebeln 1,99 4\n",
      "Posten: 7 mete n nee\n",
      "SUMME EUR 9,04\n",
      "Bar EUR 20,00\n",
      "RUckge Id EUR ~10,96\n",
      "MwSt NETIO MwSt UMSATZ\n",
      "A 7% 8, 45 0,59 9,04\n",
      "\n",
      "Fir thren Einkauf von 9,04-Fure aut\n",
      "rabattfahige Artikel hatten Sie\n",
      "la dcard.Punkte erhalten!\n",
      "\n",
      "Helden Sie sich gleich hier im Markt\n",
      "oder ae WWW . pal Aa Ny os an.\n",
      "\n",
      "AWN MUN\n",
      "Datuin Ulrzeit Pos Bed Bon\n",
      "03.02.23 14:55 001 009 9112\n",
      "\n",
      "Steuernummer: 0E266067317\n",
      "\n",
      "TSE Transaktionsnummer: 189113\n",
      "Ser prume: Ne or ee\n",
      "\n",
      "\n"
     ]
    }
   ],
   "source": [
    "text4b = pytesseract.image_to_string(PIL.Image.open(r\"../notebooks/enhanced_image.jpg\"), config=myconfig)\n",
    "print(text4b)"
   ]
  },
  {
   "cell_type": "code",
   "execution_count": 41,
   "metadata": {},
   "outputs": [
    {
     "name": "stdout",
     "output_type": "stream",
     "text": [
      "Sum1: 47.54 €\n",
      "Sum2: 4.8 €\n"
     ]
    }
   ],
   "source": [
    "# use regular expression to find the sum after \"SUMME EUR\"\n",
    "match = re.search(r'SUMME EUR\\s*([\\d,]+)', text1)\n",
    "if match:\n",
    "    sum_str = match.group(1)\n",
    "    sum_str = sum_str.replace(',', '.')  # replace comma with dot for decimal separator\n",
    "    print(\"Sum1:\", sum_str, \"€\")\n",
    "else:\n",
    "    print(\"Sum not found\")\n",
    "\n",
    "# use regular expression to find the sum after \"SUMME EUR\"\n",
    "match = re.search(r'SUMME EUR\\s*([\\d,]+)', text2)\n",
    "if match:\n",
    "    sum_str = match.group(1)\n",
    "    sum_str = sum_str.replace(',', '.')  # replace comma with dot for decimal separator\n",
    "    print(\"Sum2:\", sum_str, \"€\")\n",
    "else:\n",
    "    print(\"Sum not found\")\n"
   ]
  },
  {
   "cell_type": "code",
   "execution_count": null,
   "metadata": {},
   "outputs": [
    {
     "name": "stdout",
     "output_type": "stream",
     "text": [
      "Date: 11.02.2023\n"
     ]
    }
   ],
   "source": [
    "date_pattern = r'\\d{2}\\.\\s\\d{2}\\.\\s\\d{4}'\n",
    "dates = re.findall(date_pattern, text)\n",
    "if dates:\n",
    "    print(\"Date:\", dates[0].replace('. ', '.'))\n",
    "else:\n",
    "    print('No date found')\n",
    "\n",
    "#testing"
   ]
  },
  {
   "cell_type": "markdown",
   "metadata": {},
   "source": []
  }
 ],
 "metadata": {
  "kernelspec": {
   "display_name": "py310",
   "language": "python",
   "name": "py310"
  },
  "language_info": {
   "codemirror_mode": {
    "name": "ipython",
    "version": 3
   },
   "file_extension": ".py",
   "mimetype": "text/x-python",
   "name": "python",
   "nbconvert_exporter": "python",
   "pygments_lexer": "ipython3",
   "version": "3.9.13"
  },
  "orig_nbformat": 4
 },
 "nbformat": 4,
 "nbformat_minor": 2
}
