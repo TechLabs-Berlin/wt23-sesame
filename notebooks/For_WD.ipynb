{
 "cells": [
  {
   "cell_type": "code",
   "execution_count": 2,
   "metadata": {},
   "outputs": [],
   "source": [
    "#Importing necessary libraries\n",
    "import pandas as pd\n",
    "import numpy as np\n",
    "import matplotlib.pyplot as plt\n",
    "import seaborn as sns\n",
    "import os"
   ]
  },
  {
   "attachments": {},
   "cell_type": "markdown",
   "metadata": {},
   "source": [
    "## Financial spendings dataset\n",
    "**We are showing the trends of spending per month in the form of bar charts.**"
   ]
  },
  {
   "attachments": {},
   "cell_type": "markdown",
   "metadata": {},
   "source": [
    "\n",
    "\n"
   ]
  },
  {
   "attachments": {},
   "cell_type": "markdown",
   "metadata": {},
   "source": [
    "# Data Inspection - unpreprocessed dataset"
   ]
  },
  {
   "cell_type": "code",
   "execution_count": 24,
   "metadata": {},
   "outputs": [],
   "source": [
    "#Reading in the CSV\n",
    "os.getcwd()\n",
    "file_path01 = r\"../data/cristina_dataset/Cristina_Dataset_230316.csv\"\n",
    "df = pd.read_csv(file_path01)"
   ]
  },
  {
   "cell_type": "code",
   "execution_count": 25,
   "metadata": {},
   "outputs": [
    {
     "data": {
      "text/html": [
       "<div>\n",
       "<style scoped>\n",
       "    .dataframe tbody tr th:only-of-type {\n",
       "        vertical-align: middle;\n",
       "    }\n",
       "\n",
       "    .dataframe tbody tr th {\n",
       "        vertical-align: top;\n",
       "    }\n",
       "\n",
       "    .dataframe thead th {\n",
       "        text-align: right;\n",
       "    }\n",
       "</style>\n",
       "<table border=\"1\" class=\"dataframe\">\n",
       "  <thead>\n",
       "    <tr style=\"text-align: right;\">\n",
       "      <th></th>\n",
       "      <th>Category</th>\n",
       "      <th>Detail</th>\n",
       "      <th>Cost</th>\n",
       "      <th>Date</th>\n",
       "    </tr>\n",
       "  </thead>\n",
       "  <tbody>\n",
       "    <tr>\n",
       "      <th>0</th>\n",
       "      <td>Eating Out</td>\n",
       "      <td>Brunch</td>\n",
       "      <td>€15.00</td>\n",
       "      <td>25-Jul-2022</td>\n",
       "    </tr>\n",
       "    <tr>\n",
       "      <th>1</th>\n",
       "      <td>Shopping</td>\n",
       "      <td>Uniqlo</td>\n",
       "      <td>€144.50</td>\n",
       "      <td>25-Jul-2022</td>\n",
       "    </tr>\n",
       "    <tr>\n",
       "      <th>2</th>\n",
       "      <td>Hobbies</td>\n",
       "      <td>Salsa Class</td>\n",
       "      <td>€130.00</td>\n",
       "      <td>27-Jul-2022</td>\n",
       "    </tr>\n",
       "    <tr>\n",
       "      <th>3</th>\n",
       "      <td>Groceries</td>\n",
       "      <td>Groceries</td>\n",
       "      <td>€6.78</td>\n",
       "      <td>27-Jul-2022</td>\n",
       "    </tr>\n",
       "    <tr>\n",
       "      <th>4</th>\n",
       "      <td>Eating Out</td>\n",
       "      <td>Ditsch</td>\n",
       "      <td>€2.00</td>\n",
       "      <td>27-Jul-2022</td>\n",
       "    </tr>\n",
       "    <tr>\n",
       "      <th>...</th>\n",
       "      <td>...</td>\n",
       "      <td>...</td>\n",
       "      <td>...</td>\n",
       "      <td>...</td>\n",
       "    </tr>\n",
       "    <tr>\n",
       "      <th>324</th>\n",
       "      <td>Groceries</td>\n",
       "      <td>Groceries</td>\n",
       "      <td>€8.26</td>\n",
       "      <td>21-Feb-2023</td>\n",
       "    </tr>\n",
       "    <tr>\n",
       "      <th>325</th>\n",
       "      <td>Groceries</td>\n",
       "      <td>Groceries</td>\n",
       "      <td>€27.25</td>\n",
       "      <td>22-Feb-2023</td>\n",
       "    </tr>\n",
       "    <tr>\n",
       "      <th>326</th>\n",
       "      <td>Groceries</td>\n",
       "      <td>Groceries</td>\n",
       "      <td>€13.69</td>\n",
       "      <td>23-Feb-2023</td>\n",
       "    </tr>\n",
       "    <tr>\n",
       "      <th>327</th>\n",
       "      <td>Rent + Bills</td>\n",
       "      <td>Phone Norway</td>\n",
       "      <td>€4.50</td>\n",
       "      <td>24-Feb-2023</td>\n",
       "    </tr>\n",
       "    <tr>\n",
       "      <th>328</th>\n",
       "      <td>Eating Out</td>\n",
       "      <td>Coffee</td>\n",
       "      <td>€4.31</td>\n",
       "      <td>24-Feb-2023</td>\n",
       "    </tr>\n",
       "  </tbody>\n",
       "</table>\n",
       "<p>329 rows × 4 columns</p>\n",
       "</div>"
      ],
      "text/plain": [
       "         Category        Detail     Cost         Date\n",
       "0      Eating Out        Brunch   €15.00  25-Jul-2022\n",
       "1        Shopping        Uniqlo  €144.50  25-Jul-2022\n",
       "2         Hobbies   Salsa Class  €130.00  27-Jul-2022\n",
       "3       Groceries     Groceries    €6.78  27-Jul-2022\n",
       "4      Eating Out        Ditsch    €2.00  27-Jul-2022\n",
       "..            ...           ...      ...          ...\n",
       "324     Groceries     Groceries    €8.26  21-Feb-2023\n",
       "325     Groceries     Groceries   €27.25  22-Feb-2023\n",
       "326     Groceries     Groceries   €13.69  23-Feb-2023\n",
       "327  Rent + Bills  Phone Norway    €4.50  24-Feb-2023\n",
       "328    Eating Out        Coffee    €4.31  24-Feb-2023\n",
       "\n",
       "[329 rows x 4 columns]"
      ]
     },
     "execution_count": 25,
     "metadata": {},
     "output_type": "execute_result"
    }
   ],
   "source": [
    "#Looking at the dataset\n",
    "df"
   ]
  },
  {
   "cell_type": "code",
   "execution_count": 26,
   "metadata": {},
   "outputs": [
    {
     "data": {
      "text/plain": [
       "Category    0\n",
       "Detail      0\n",
       "Cost        0\n",
       "Date        0\n",
       "dtype: int64"
      ]
     },
     "execution_count": 26,
     "metadata": {},
     "output_type": "execute_result"
    }
   ],
   "source": [
    "#Checking for NA values\n",
    "df.isna().sum()"
   ]
  },
  {
   "cell_type": "code",
   "execution_count": 27,
   "metadata": {},
   "outputs": [
    {
     "data": {
      "text/plain": [
       "Category    object\n",
       "Detail      object\n",
       "Cost        object\n",
       "Date        object\n",
       "dtype: object"
      ]
     },
     "execution_count": 27,
     "metadata": {},
     "output_type": "execute_result"
    }
   ],
   "source": [
    "#Checking data types\n",
    "df.dtypes"
   ]
  },
  {
   "cell_type": "code",
   "execution_count": 28,
   "metadata": {},
   "outputs": [
    {
     "name": "stdout",
     "output_type": "stream",
     "text": [
      "The dataframe has 329 rows and 4 columns.\n"
     ]
    }
   ],
   "source": [
    "# Checking the shape of the dataframe\n",
    "print(\"The dataframe has \" +str(df.shape[0]) +\" rows and \" +str(df.shape[1])+ \" columns.\")"
   ]
  },
  {
   "cell_type": "code",
   "execution_count": 29,
   "metadata": {},
   "outputs": [
    {
     "name": "stdout",
     "output_type": "stream",
     "text": [
      "Empty DataFrame\n",
      "Columns: [Category, Detail, Cost, Date]\n",
      "Index: []\n"
     ]
    }
   ],
   "source": [
    "# check for duplicate rows where every column value is duplicated\n",
    "duplicate_rows = df[df.duplicated(subset=df.columns, keep=False)]\n",
    "\n",
    "# print the duplicate rows\n",
    "print(duplicate_rows)"
   ]
  },
  {
   "cell_type": "code",
   "execution_count": 30,
   "metadata": {},
   "outputs": [],
   "source": [
    "# Convert the 'Date' column to datetime\n",
    "df['Date'] = pd.to_datetime(df['Date'])"
   ]
  },
  {
   "cell_type": "code",
   "execution_count": 32,
   "metadata": {},
   "outputs": [],
   "source": [
    "# Convert the 'cost' column to float\n",
    "df['Cost'] = df['Cost'].str.replace('€', '').astype(float)"
   ]
  },
  {
   "cell_type": "code",
   "execution_count": 33,
   "metadata": {},
   "outputs": [
    {
     "data": {
      "text/plain": [
       "Category            object\n",
       "Detail              object\n",
       "Cost               float64\n",
       "Date        datetime64[ns]\n",
       "dtype: object"
      ]
     },
     "execution_count": 33,
     "metadata": {},
     "output_type": "execute_result"
    }
   ],
   "source": [
    "# Checking code worked\n",
    "df.dtypes"
   ]
  },
  {
   "cell_type": "code",
   "execution_count": 35,
   "metadata": {},
   "outputs": [
    {
     "data": {
      "text/plain": [
       "(Timestamp('2022-07-25 00:00:00'), Timestamp('2023-02-24 00:00:00'))"
      ]
     },
     "execution_count": 35,
     "metadata": {},
     "output_type": "execute_result"
    }
   ],
   "source": [
    "# Checking the first and last day of the dataset\n",
    "df.Date.min(),df.Date.max()"
   ]
  },
  {
   "cell_type": "code",
   "execution_count": 19,
   "metadata": {},
   "outputs": [
    {
     "data": {
      "text/plain": [
       "Date\n",
       "1     39\n",
       "2     41\n",
       "7     13\n",
       "8     53\n",
       "9     47\n",
       "10    44\n",
       "11    52\n",
       "12    35\n",
       "Name: Category, dtype: int64"
      ]
     },
     "execution_count": 19,
     "metadata": {},
     "output_type": "execute_result"
    }
   ],
   "source": [
    "# Count of data points per month\n",
    "df.groupby(df.Date.dt.month)['Category'].count()"
   ]
  },
  {
   "cell_type": "code",
   "execution_count": 60,
   "metadata": {},
   "outputs": [
    {
     "data": {
      "text/html": [
       "<div>\n",
       "<style scoped>\n",
       "    .dataframe tbody tr th:only-of-type {\n",
       "        vertical-align: middle;\n",
       "    }\n",
       "\n",
       "    .dataframe tbody tr th {\n",
       "        vertical-align: top;\n",
       "    }\n",
       "\n",
       "    .dataframe thead th {\n",
       "        text-align: right;\n",
       "    }\n",
       "</style>\n",
       "<table border=\"1\" class=\"dataframe\">\n",
       "  <thead>\n",
       "    <tr style=\"text-align: right;\">\n",
       "      <th></th>\n",
       "      <th>Category</th>\n",
       "      <th>Detail</th>\n",
       "      <th>Cost</th>\n",
       "      <th>Date</th>\n",
       "      <th>Month_period</th>\n",
       "    </tr>\n",
       "  </thead>\n",
       "  <tbody>\n",
       "    <tr>\n",
       "      <th>0</th>\n",
       "      <td>Eating Out</td>\n",
       "      <td>Brunch</td>\n",
       "      <td>15.00</td>\n",
       "      <td>2022-07-25</td>\n",
       "      <td>Jul - Aug 22</td>\n",
       "    </tr>\n",
       "    <tr>\n",
       "      <th>1</th>\n",
       "      <td>Shopping</td>\n",
       "      <td>Uniqlo</td>\n",
       "      <td>144.50</td>\n",
       "      <td>2022-07-25</td>\n",
       "      <td>Jul - Aug 22</td>\n",
       "    </tr>\n",
       "    <tr>\n",
       "      <th>2</th>\n",
       "      <td>Hobbies</td>\n",
       "      <td>Salsa Class</td>\n",
       "      <td>130.00</td>\n",
       "      <td>2022-07-27</td>\n",
       "      <td>Jul - Aug 22</td>\n",
       "    </tr>\n",
       "    <tr>\n",
       "      <th>3</th>\n",
       "      <td>Groceries</td>\n",
       "      <td>Groceries</td>\n",
       "      <td>6.78</td>\n",
       "      <td>2022-07-27</td>\n",
       "      <td>Jul - Aug 22</td>\n",
       "    </tr>\n",
       "    <tr>\n",
       "      <th>4</th>\n",
       "      <td>Eating Out</td>\n",
       "      <td>Ditsch</td>\n",
       "      <td>2.00</td>\n",
       "      <td>2022-07-27</td>\n",
       "      <td>Jul - Aug 22</td>\n",
       "    </tr>\n",
       "  </tbody>\n",
       "</table>\n",
       "</div>"
      ],
      "text/plain": [
       "     Category       Detail    Cost       Date  Month_period\n",
       "0  Eating Out       Brunch   15.00 2022-07-25  Jul - Aug 22\n",
       "1    Shopping       Uniqlo  144.50 2022-07-25  Jul - Aug 22\n",
       "2     Hobbies  Salsa Class  130.00 2022-07-27  Jul - Aug 22\n",
       "3   Groceries    Groceries    6.78 2022-07-27  Jul - Aug 22\n",
       "4  Eating Out       Ditsch    2.00 2022-07-27  Jul - Aug 22"
      ]
     },
     "execution_count": 60,
     "metadata": {},
     "output_type": "execute_result"
    }
   ],
   "source": [
    "# Defining the start and end dates for each period\n",
    "periods = {'Jul - Aug 22': ('2022-07-25', '2022-08-24'),\n",
    "           'Aug - Sep 22': ('2022-08-25', '2022-09-24'),\n",
    "           'Sep - Oct 22': ('2022-09-25', '2022-10-24'),\n",
    "           'Oct - Nov 22': ('2022-10-25', '2022-11-24'),\n",
    "           'Nov - Dec 22': ('2022-11-25', '2022-12-24'),\n",
    "           'Dec - Jan 22': ('2022-12-25', '2023-01-24'),\n",
    "           'Jan - Feb 23': ('2023-01-25', '2023-02-24')}\n",
    "\n",
    "# Sort the keys in chronological order\n",
    "periods = dict(sorted(periods.items(), key=lambda x: pd.to_datetime(x[1][0])))\n",
    "\n",
    "# Iterating over the periods and creating a new column with the corresponding period label\n",
    "for period, dates in periods.items():\n",
    "    start_date = pd.to_datetime(dates[0])\n",
    "    end_date = pd.to_datetime(dates[1])\n",
    "    mask = (df['Date'] >= start_date) & (df['Date'] <= end_date)\n",
    "    df.loc[mask, 'Month_period'] = period\n",
    "\n",
    "# Checking the new column\n",
    "df.head()"
   ]
  },
  {
   "attachments": {},
   "cell_type": "markdown",
   "metadata": {},
   "source": [
    "## Looking at the data"
   ]
  },
  {
   "attachments": {},
   "cell_type": "markdown",
   "metadata": {},
   "source": [
    "### Monthly Period vs Cost vs Category\n",
    "Months started from the 25th of every month until the 24th of the following month, since pay day was always around or closest to the 25th."
   ]
  },
  {
   "cell_type": "code",
   "execution_count": 61,
   "metadata": {},
   "outputs": [
    {
     "name": "stdout",
     "output_type": "stream",
     "text": [
      "Month_period\n",
      "Jul - Aug 22    1728.87\n",
      "Aug - Sep 22    1776.55\n",
      "Sep - Oct 22    1631.22\n",
      "Oct - Nov 22    1098.53\n",
      "Nov - Dec 22    1374.09\n",
      "Dec - Jan 22    1178.47\n",
      "Jan - Feb 23    1593.46\n",
      "Name: Cost, dtype: float64\n"
     ]
    }
   ],
   "source": [
    "# Grouping by month_period and summing the costs\n",
    "month_period_costs = df.groupby('Month_period')['Cost'].sum().round(2)\n",
    "\n",
    "# Sort the results by the chronological order of the periods\n",
    "month_period_costs = month_period_costs.reindex(list(periods.keys()))\n",
    "\n",
    "print(month_period_costs)"
   ]
  },
  {
   "cell_type": "code",
   "execution_count": 63,
   "metadata": {},
   "outputs": [
    {
     "name": "stdout",
     "output_type": "stream",
     "text": [
      "Month_period  Category    \n",
      "Jul - Aug 22  Eating Out      116.40\n",
      "              Shopping        201.29\n",
      "              Hobbies         174.34\n",
      "              Groceries       362.07\n",
      "              Rent + Bills    637.75\n",
      "                               ...  \n",
      "Jan - Feb 23  Transport       180.77\n",
      "              Student Loan     82.43\n",
      "              Travel          290.62\n",
      "              Healthcare       67.11\n",
      "              Selfcare           NaN\n",
      "Name: Cost, Length: 77, dtype: float64\n"
     ]
    }
   ],
   "source": [
    "# Grouping by month_period and category and summing the costs, then sorting in chronological order\n",
    "month_period_category_costs = df.groupby(['Month_period', 'Category'])['Cost'].sum().round(2)\n",
    "month_period_category_costs = month_period_category_costs.reindex(pd.MultiIndex.from_product([periods.keys(), df['Category'].unique()], names=['Month_period', 'Category']))\n",
    "\n",
    "print(month_period_category_costs)"
   ]
  },
  {
   "cell_type": "markdown",
   "metadata": {},
   "source": [
    "# Visualizations"
   ]
  },
  {
   "attachments": {},
   "cell_type": "markdown",
   "metadata": {},
   "source": [
    "**Bar chart**"
   ]
  }
 ],
 "metadata": {
  "kernelspec": {
   "display_name": "py310",
   "language": "python",
   "name": "py310"
  },
  "language_info": {
   "codemirror_mode": {
    "name": "ipython",
    "version": 3
   },
   "file_extension": ".py",
   "mimetype": "text/x-python",
   "name": "python",
   "nbconvert_exporter": "python",
   "pygments_lexer": "ipython3",
   "version": "3.9.13"
  },
  "orig_nbformat": 4,
  "vscode": {
   "interpreter": {
    "hash": "63d10bd90fcb75d3e3fff2b3fd48214af6a02618a076037a7f9d8a6eed4b6a0a"
   }
  }
 },
 "nbformat": 4,
 "nbformat_minor": 2
}
