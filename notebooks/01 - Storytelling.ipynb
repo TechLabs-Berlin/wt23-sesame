{
 "cells": [
  {
   "cell_type": "code",
   "execution_count": 1602,
   "metadata": {},
   "outputs": [],
   "source": [
    "import pandas as pd\n",
    "import numpy as np\n",
    "import matplotlib.pyplot as plt\n",
    "import os"
   ]
  },
  {
   "attachments": {},
   "cell_type": "markdown",
   "metadata": {},
   "source": [
    "# STORYTELLING with financial spendings.\n"
   ]
  },
  {
   "cell_type": "markdown",
   "metadata": {},
   "source": [
    "\n",
    "***starting with a sample dataset***, we potentially want to investigate what insigths can be derived from a dataset concentrating ones spendings (Habits; trends etc.)\n",
    "  \n",
    "  ***with respect to time:***\n",
    " - How does the data differ from months to months\n",
    " - How does the data differ from summer vs. winter\n",
    "\n",
    "therefore we differentiate the data regarding:\n",
    "- fix vs. flexible costs\n",
    "- basic need / luxoury (\"nice to have\") spendings\n",
    "\n",
    "- are there any trends in the way money is spend?\n",
    "- how does the absolute and relative spendings within the different categories differ?\n",
    "\n"
   ]
  },
  {
   "attachments": {},
   "cell_type": "markdown",
   "metadata": {},
   "source": [
    "# Data Inspection - unpreprocessed dataset"
   ]
  },
  {
   "cell_type": "code",
   "execution_count": 1603,
   "metadata": {},
   "outputs": [],
   "source": [
    "os.getcwd()\n",
    "file_path01 = r\"../data/cristina_dataset/Cristina_Dataset_230218.xlsx\"\n",
    "file_path02 = r\"../data/cristina_dataset/Cristina_Dataset_230222.csv\"\n",
    "\n"
   ]
  },
  {
   "cell_type": "code",
   "execution_count": 1604,
   "metadata": {},
   "outputs": [],
   "source": [
    "#read dataframe\n",
    "df = pd.read_excel(file_path01)\n"
   ]
  },
  {
   "cell_type": "code",
   "execution_count": 1605,
   "metadata": {},
   "outputs": [
    {
     "name": "stdout",
     "output_type": "stream",
     "text": [
      "         Category                        Detail    Cost       Date\n",
      "0      Eating Out                        Brunch   15.00 2022-07-25\n",
      "1        Shopping                        Uniqlo  144.50 2022-07-25\n",
      "2         Hobbies                   Salsa Class  130.00 2022-07-27\n",
      "3       Groceries                     Groceries    6.78 2022-07-27\n",
      "4      Eating Out                        Ditsch    2.00 2022-07-27\n",
      "5       Groceries                     Groceries   45.27 2022-07-27\n",
      "6    Rent + Bills  Shared Rent + Bills expenses   14.18 2022-07-28\n",
      "7       Groceries                     Groceries   10.89 2022-07-29\n",
      "8       Groceries                     Groceries   29.06 2022-07-29\n",
      "9      Eating Out                        Ditsch    2.20 2022-07-29\n",
      "10   Rent + Bills                        Moving   17.78 2022-07-31\n",
      "11     Investment                    Weekly ETH    6.00 2022-08-01\n",
      "12      Groceries                     Groceries   65.17 2022-08-01\n",
      "13   Rent + Bills                          Rent  500.00 2022-08-01\n",
      "14      Transport                           BVG    9.00 2022-08-01\n",
      "15   Rent + Bills                         Phone   20.00 2022-08-12\n",
      "16     Investment                    Weekly ETH    6.00 2022-07-25\n",
      "17     Investment                    Weekly ETH   10.00 2022-08-08\n",
      "18     Investment                    Weekly ETH   10.00 2022-08-15\n",
      "19     Investment                    Weekly ETH   10.00 2022-08-22\n",
      "20   Rent + Bills               Postal re-route   30.90 2022-08-02\n",
      "21      Groceries                     Groceries   19.59 2022-08-03\n",
      "22     Eating Out                        Snacks    1.00 2022-08-03\n",
      "23        Hobbies                   Salsa Class   39.00 2022-08-05\n",
      "24     Investment                 Bi-Weekly ETF   50.00 2022-08-16\n",
      "25     Investment                         Stock   10.00 2022-08-16\n",
      "26      Groceries                     Groceries   19.49 2022-08-03\n",
      "27      Groceries                     Groceries   18.62 2022-08-06\n",
      "28   Rent + Bills               Passport photos   10.00 2022-08-08\n",
      "29     Eating Out           Restaurant + Drinks   25.30 2022-08-06\n",
      "30        Hobbies      Salsa Festival Surcharge    5.34 2022-08-08\n",
      "31   Rent + Bills     Driver license conversion   36.30 2022-08-08\n",
      "32      Transport                           BVG   11.50 2022-08-08\n",
      "33      Groceries                     Groceries   30.62 2022-08-09\n",
      "34   Student Loan                  Student Loan   86.40 2022-08-10\n",
      "35      Groceries                     Groceries   31.30 2022-08-11\n",
      "36      Groceries                     Groceries   18.99 2022-08-12\n",
      "37     Eating Out                      Sisyphos   38.00 2022-08-13\n",
      "38   Rent + Bills                        Google    1.88 2022-08-04\n",
      "39   Rent + Bills                       Patreon    1.77 2022-08-01\n",
      "40   Rent + Bills                     Insurance    4.94 2022-07-29\n",
      "41      Groceries                     Groceries    6.72 2022-08-15\n",
      "42      Groceries                     Groceries    8.04 2022-08-15\n",
      "43     Eating Out              Post salsa pizza    2.70 2022-08-15\n",
      "44      Groceries                     Groceries    5.16 2022-08-16\n",
      "45     Eating Out                      Pub Quiz   10.00 2022-08-17\n",
      "46      Groceries                     Groceries    1.43 2022-08-18\n",
      "47      Groceries                     Groceries   11.21 2022-08-19\n",
      "48     Eating Out                        Brunch   15.00 2022-08-21\n",
      "49      Groceries                     Groceries   33.73 2022-08-20\n",
      "50       Shopping                   Flea market   31.00 2022-08-21\n",
      "51     Eating Out                         Juice    5.20 2022-08-21\n",
      "52         Travel                    Poland Bus    1.00 2022-08-22\n",
      "53       Shopping              Birthday present   25.79 2022-08-23\n",
      "54         Travel               Train castellvi    5.50 2022-08-24\n",
      "55         Travel                          YEGO    3.90 2022-08-24\n",
      "56     Healthcare            Pills pills pills    17.72 2022-08-24\n",
      "57     Investment                    Weekly ETH   10.00 2022-08-29\n",
      "58     Investment                    Weekly ETH   10.00 2022-09-05\n",
      "59     Investment                    Weekly ETH   10.00 2022-09-12\n",
      "60     Investment                    Weekly ETH   10.00 2022-09-19\n",
      "61     Investment                 Bi-Weekly ETF   50.00 2022-09-02\n",
      "62     Investment                 Bi-Weekly ETF   50.00 2022-09-16\n",
      "63     Investment               Bi-Weekly Stock   10.00 2022-08-30\n",
      "64     Investment               Bi-Weekly Stock   10.00 2022-09-13\n",
      "65   Rent + Bills                          Rent  500.00 2022-09-01\n",
      "66   Rent + Bills                         Phone   25.19 2022-09-12\n",
      "67   Rent + Bills                        Google    1.88 2022-09-04\n",
      "68   Rent + Bills                       Patreon    1.77 2022-09-01\n",
      "69   Rent + Bills                     Insurance    4.94 2022-08-29\n",
      "70   Student Loan                  Student Loan   86.40 2022-09-10\n",
      "71      Transport                           BVG   63.42 2022-09-01\n",
      "72     Healthcare             Pills pills pills   82.35 2022-08-25\n",
      "73     Healthcare                       Tampons    7.65 2022-08-26\n",
      "74      Groceries                     Olive oil   37.00 2022-08-26\n",
      "75       Shopping            Libro de la abuela   25.75 2022-08-26\n",
      "76      Groceries               Spanish foooood   43.28 2022-08-30\n",
      "77         Travel                  Taxi airport   26.15 2022-08-31\n",
      "78        Hobbies                         Salsa  120.00 2022-09-06\n",
      "79         Travel                        Travel   64.75 2022-09-04\n",
      "80     Healthcare                    Finger cut   12.50 2022-09-03\n",
      "81      Groceries                     Groceries   20.94 2022-09-03\n",
      "82     Eating Out                     Thai park   13.50 2022-09-04\n",
      "83      Groceries                     Groceries    8.79 2022-09-05\n",
      "84         Travel                Baptism flight   61.49 2022-09-05\n",
      "85         Travel   Train tickets to visit Fran   67.30 2022-09-05\n",
      "86     Healthcare                Teeth cleaning   65.00 2022-09-14\n",
      "87         Travel                  Poland hotel   56.00 2022-09-09\n",
      "88   Rent + Bills                      UK Phone   10.00 2022-09-13\n",
      "89     Eating Out                          Date   18.50 2022-09-08\n",
      "90         Travel                Salsa Festival   62.02 2022-09-09\n",
      "91      Transport          Extension ticket BVG    1.80 2022-09-12\n",
      "92      Groceries                     Groceries   16.97 2022-09-12\n",
      "93      Transport              Extension ticket    1.80 2022-09-13\n",
      "94       Shopping                       Avanico    1.50 2022-09-14\n",
      "95   Rent + Bills               Phone surcharge    4.00 2022-09-14\n",
      "96      Groceries                         Fruit    0.72 2022-09-19\n",
      "97       Shopping              Hot water bottle    6.75 2022-09-20\n",
      "98       Shopping                            DM   25.25 2022-09-21\n",
      "99       Shopping            Vase and tea spoon    7.90 2022-09-21\n",
      "100     Groceries                     Groceries   22.06 2022-09-21\n",
      "101     Groceries                     Groceries    0.64 2022-09-22\n",
      "102     Groceries                     Groceries    6.24 2022-09-23\n",
      "103    Eating Out                        Drinks   14.80 2022-09-23\n",
      "104    Healthcare                   Moisturiser    8.69 2022-09-24\n",
      "105     Groceries                     Groceries   10.86 2022-09-24\n",
      "106    Investment                    Weekly ETH   10.00 2022-09-26\n",
      "107    Investment                    Weekly ETH   10.00 2022-10-03\n",
      "108    Investment                    Weekly ETH   10.00 2022-10-10\n",
      "109    Investment                    Weekly ETH   10.00 2022-10-17\n",
      "110    Investment                 Bi-Weekly ETF   50.00 2022-10-03\n",
      "111    Investment                 Bi-Weekly ETF  105.00 2022-10-17\n",
      "112    Investment               Bi-Weekly Stock   10.00 2022-10-03\n",
      "113    Investment               Bi-Weekly Stock   10.00 2022-10-17\n",
      "114  Rent + Bills                          Rent  500.00 2022-09-01\n",
      "115  Rent + Bills                         Phone   25.19 2022-10-12\n",
      "116  Rent + Bills                        Google    1.88 2022-10-04\n",
      "117  Rent + Bills                       Patreon    1.77 2022-10-01\n",
      "118  Rent + Bills                     Insurance    4.94 2022-09-29\n",
      "119  Student Loan                  Student Loan   86.40 2022-10-10\n",
      "120     Transport                           BVG   29.00 2022-10-01\n",
      "121  Rent + Bills                      UK Phone   10.00 2022-10-13\n",
      "122      Shopping                Shoes + jacket  100.00 2022-09-25\n",
      "123     Groceries                     Groceries   40.00 2022-09-26\n",
      "124    Eating Out                         Lunch   10.00 2022-09-27\n",
      "125     Groceries                     Groceries    8.69 2022-09-28\n",
      "126     Transport         BVG extension ticket     1.80 2022-09-28\n",
      "127        Travel                    Copenhagen  143.00 2022-10-02\n",
      "128     Transport              BVG from airport    4.15 2022-10-02\n",
      "129     Groceries                     Groceries   54.87 2022-10-05\n",
      "130        Travel          Flight back from BCN   46.99 2022-10-05\n",
      "131     Transport            Train to Stratford   10.50 2022-10-05\n",
      "132     Transport                Bus to airport   11.47 2022-10-05\n",
      "133      Shopping                   iPhone case   11.36 2022-10-06\n",
      "134    Eating Out                        Drinks   15.30 2022-10-07\n",
      "135    Eating Out                        Burger   10.00 2022-10-07\n",
      "136      Shopping                        Market   30.00 2022-10-08\n",
      "137     Groceries                     Groceries   26.34 2022-10-08\n",
      "138     Groceries                     Groceries   14.11 2022-10-08\n",
      "139    Eating Out                         Lunch   14.50 2022-10-11\n",
      "140     Groceries                     Groceries   24.85 2022-10-12\n",
      "141     Transport                   Airport BVG    3.45 2022-10-13\n",
      "142      Shopping                       Sweater   39.90 2022-10-14\n",
      "143      Shopping               Eyebrows + cash   11.50 2022-10-15\n",
      "144     Groceries                     Groceries    3.16 2022-10-15\n",
      "145     Transport                         Train    1.80 2022-10-19\n",
      "146    Eating Out               Boots meal deal    5.84 2022-10-19\n",
      "147    Investment                    Weekly ETH   10.00 2022-10-24\n",
      "148    Healthcare                      Pharmacy   15.44 2022-10-20\n",
      "149     Groceries                     Groceries   43.34 2022-10-20\n",
      "150     Groceries                     Groceries    8.06 2022-10-21\n",
      "151     Groceries                     Groceries   28.72 2022-10-22\n",
      "152  Rent + Bills               Legal Insurance    7.90 2022-10-24\n",
      "153  Rent + Bills                          Rent  500.00 2022-11-01\n",
      "154  Rent + Bills                         Phone   25.19 2022-11-12\n",
      "155  Rent + Bills                        Google    1.88 2022-11-04\n",
      "156  Rent + Bills  Personal Liability Insurance    4.94 2022-11-01\n",
      "157  Student Loan                  Student Loan   86.40 2022-11-10\n",
      "158     Transport                           BVG   28.58 2022-11-01\n",
      "159  Rent + Bills                      UK Phone   10.00 2022-11-13\n",
      "160  Rent + Bills               Legal Insurance   35.00 2022-11-01\n",
      "161    Eating Out                         Lunch    6.00 2022-10-25\n",
      "162    Eating Out                         Lunch   10.00 2022-10-26\n",
      "163     Transport             Train to airport     3.80 2022-10-27\n",
      "164     Transport             Train to airport     1.80 2022-10-30\n",
      "165     Transport              Train to potsdam    7.60 2022-11-02\n",
      "166    Eating Out              Lunch in Potsdam   14.25 2022-11-02\n",
      "167     Groceries                   Supermarket    1.72 2022-11-02\n",
      "168    Eating Out                Bubble Tea Ido    5.10 2022-11-04\n",
      "169    Eating Out        Drinks, Dinner, Comedy   42.80 2022-11-04\n",
      "170    Eating Out         Bunker tour Mom visit   28.00 2022-11-04\n",
      "171     Groceries                     Groceries   23.59 2022-11-06\n",
      "172    Eating Out                         Snack    1.00 2022-11-08\n",
      "173    Eating Out               Drinks with mom   10.00 2022-11-08\n",
      "174     Groceries                     Groceries   21.08 2022-11-10\n",
      "175    Eating Out              Tacos and drinks   28.30 2022-11-11\n",
      "176     Groceries                     Groceries   24.66 2022-11-12\n",
      "177    Eating Out                      Cocktail    6.20 2022-11-15\n",
      "178     Groceries                     Groceries   11.82 2022-11-17\n",
      "179     Groceries                     Groceries    7.34 2022-11-18\n",
      "180  Rent + Bills                          Tape    3.19 2022-11-18\n",
      "181  Rent + Bills                           Car   25.00 2022-11-18\n",
      "182     Transport                 Train airport    1.80 2022-11-20\n",
      "183    Eating Out                      Sandwich    7.95 2022-11-21\n",
      "184     Transport                   Train Tonya    8.00 2022-11-21\n",
      "185      Shopping                           Wax   22.00 2022-11-22\n",
      "186    Healthcare                          Pill   10.00 2022-11-22\n",
      "187     Groceries                     Groceries    6.65 2022-11-22\n",
      "188     Transport                         Metro    7.95 2022-11-22\n",
      "189     Groceries                     Groceries    2.49 2022-11-23\n",
      "190    Eating Out                        Andreu   23.85 2022-11-24\n",
      "191      Shopping                         Books    5.00 2022-11-24\n",
      "192    Eating Out                         Lunch   15.38 2022-11-25\n",
      "193  Rent + Bills                         Phone   27.60 2022-11-12\n",
      "194  Rent + Bills                        Google    1.88 2022-11-04\n",
      "195  Rent + Bills  Personal Liability Insurance    4.94 2022-11-01\n",
      "196  Student Loan                  Student Loan   86.40 2022-11-10\n",
      "197     Transport                           BVG   28.58 2022-11-01\n",
      "198  Rent + Bills                      UK Phone   10.00 2022-11-13\n",
      "199  Rent + Bills               Legal Insurance   35.00 2022-11-01\n",
      "200      Shopping                       Clothes   49.59 2022-11-25\n",
      "201     Groceries                     Groceries   22.29 2022-11-26\n",
      "202     Groceries                     Groceries   31.85 2022-11-26\n",
      "203     Transport                     Metro BCN    7.95 2022-11-26\n",
      "204    Eating Out                          McDs    5.50 2022-11-28\n",
      "205     Groceries                     Groceries   23.05 2022-11-28\n",
      "206     Groceries                     Groceries   39.01 2022-11-29\n",
      "207    Healthcare                          Pill   49.97 2022-11-29\n",
      "208     Transport                 Airport train    1.80 2022-11-30\n",
      "209     Groceries                     Groceries   17.51 2022-12-03\n",
      "210    Eating Out                        Comedy   10.00 2022-12-03\n",
      "211     Groceries                     Groceries   48.60 2022-12-06\n",
      "212    Eating Out              Christmas market   10.00 2022-12-07\n",
      "213    Eating Out         Bubble tea and Indian   15.80 2022-12-08\n",
      "214    Eating Out                        Coffee    2.80 2022-12-09\n",
      "215     Groceries                     Groceries   12.52 2022-12-09\n",
      "216    Eating Out                    Ikea Lunch    6.95 2022-12-10\n",
      "217      Shopping                   Ikea things    6.26 2022-12-10\n",
      "218     Groceries                     Groceries   11.46 2022-12-10\n",
      "219    Eating Out                        Brunch   12.00 2022-12-11\n",
      "220    Eating Out                      Glühwein    7.50 2022-12-11\n",
      "221    Eating Out                         Lunch   16.00 2022-12-12\n",
      "222  Rent + Bills                      Printing    9.16 2022-12-12\n",
      "223     Groceries                    Groceries    28.95 2022-12-14\n",
      "224      Shopping    Christmas presents + shoes  126.91 2022-12-15\n",
      "225    Eating Out                         Lunch   10.00 2022-12-16\n",
      "226     Groceries                     Groceries    8.70 2022-12-17\n",
      "227     Groceries                     Groceries   16.68 2022-12-17\n",
      "228  Rent + Bills                          Rent  500.00 2022-12-01\n",
      "229  Rent + Bills                           Car   20.15 2022-12-21\n",
      "230     Transport                           BVG    1.80 2022-12-22\n",
      "231    Eating Out                           McD    4.79 2022-12-23\n",
      "232     Transport                   BVG Airport    1.80 2022-12-23\n",
      "233     Groceries                   Toogoodtogo    3.50 2022-12-23\n",
      "234     Groceries                     Xmas food   23.51 2022-12-23\n",
      "235      Shopping                 Xmas presents   27.55 2022-12-24\n",
      "236  Rent + Bills                         Phone   25.00 2022-12-25\n",
      "237  Rent + Bills                        Google    1.88 2023-01-04\n",
      "238  Rent + Bills  Personal Liability Insurance    4.94 2023-01-01\n",
      "239  Student Loan                  Student Loan   82.95 2023-01-10\n",
      "240  Rent + Bills                      UK Phone   14.68 2023-01-13\n",
      "241  Rent + Bills               Legal Insurance   35.00 2023-01-01\n",
      "242      Shopping                 Xmas presents   18.53 2022-12-25\n",
      "243    Eating Out                         Beers   10.00 2022-12-25\n",
      "244       Hobbies                         Pádel   14.00 2022-12-26\n",
      "245       Hobbies                         Cards    5.00 2022-12-26\n",
      "246       Hobbies                     Norwegian   18.82 2022-12-27\n",
      "247     Groceries                     Groceries    4.02 2022-12-27\n",
      "248  Rent + Bills                          Rent  500.00 2023-01-01\n",
      "249     Groceries                     Groceries    7.50 2023-01-03\n",
      "250     Groceries                     Groceries    4.66 2023-01-08\n",
      "251      Selfcare                       Douglas   32.76 2023-01-11\n",
      "252      Selfcare                    PromoFarma   52.36 2023-01-11\n",
      "253      Selfcare                       Haircut   24.00 2023-01-13\n",
      "254  Rent + Bills                      Ethernet    5.00 2023-01-13\n",
      "255     Groceries                         Bread    3.17 2023-01-14\n",
      "256     Groceries                    Vegetables    4.50 2023-01-14\n",
      "257       Hobbies                      Crossfit   35.00 2023-01-19\n",
      "258      Selfcare                        Waxing   39.00 2023-01-20\n",
      "259    Healthcare                      Medicine    3.62 2023-01-20\n",
      "260     Groceries                     Groceries   14.25 2023-01-20\n",
      "261     Transport                       Parking    0.20 2023-01-21\n",
      "262     Transport                         Metro   22.70 2023-01-21\n",
      "263    Eating Out                        Drinks    7.00 2023-01-21\n",
      "264     Groceries                     Groceries   12.15 2023-01-22\n",
      "265    Eating Out                       Churros    4.00 2023-01-22\n",
      "266      Shopping                  Gift for mom   24.50 2023-01-22\n",
      "267     Groceries                     Groceries   11.36 2023-01-22\n",
      "268     Transport                          Fuel   20.01 2023-01-22\n",
      "269     Transport                          Fuel   79.86 2023-01-23\n",
      "270      Selfcare                         Druni   36.05 2023-01-23\n",
      "271  Rent + Bills                         Phone   25.00 2022-12-25\n",
      "272  Rent + Bills                        Google    1.88 2023-02-04\n",
      "273  Rent + Bills  Personal Liability Insurance    4.94 2023-02-01\n",
      "274  Student Loan                  Student Loan   82.43 2023-02-10\n",
      "275  Rent + Bills                      UK Phone   10.00 2023-02-13\n",
      "276  Rent + Bills               Legal Insurance   35.00 2023-02-01\n",
      "277       Hobbies                     Norwegian   18.82 2023-01-27\n",
      "278     Groceries                     Groceries   29.45 2023-01-25\n",
      "279      Shopping                         Chino    5.70 2023-01-25\n",
      "280        Travel                       Flights   33.98 2023-01-27\n",
      "281        Travel                       Flights   40.65 2023-01-27\n",
      "282     Groceries                         Bread    4.18 2023-01-27\n",
      "283     Transport                      Car wash    9.95 2023-01-27\n",
      "284    Healthcare                      Pharmacy   13.52 2023-01-27\n",
      "285      Shopping                          IKEA   60.00 2023-01-29\n",
      "286      Shopping                     Decathlon   15.97 2023-01-29\n",
      "287     Groceries                     Groceries   18.96 2023-01-31\n",
      "288      Shopping                          IKEA   29.91 2023-02-01\n",
      "289      Shopping                          IKEA    5.49 2023-02-01\n",
      "290      Shopping                     Hollister   17.28 2023-02-01\n",
      "291      Shopping                         Druni   21.15 2023-02-01\n",
      "292    Eating Out                      Morrysom   25.70 2023-02-01\n",
      "293    Eating Out                    McDonald's    6.10 2023-02-01\n",
      "294     Transport                           Car   79.41 2023-02-02\n",
      "295    Healthcare                          Pill   53.59 2023-02-02\n",
      "296      Shopping                         Bonet   25.50 2023-02-02\n",
      "297      Shopping                         Boots   69.00 2023-02-02\n",
      "298     Groceries                         Bread    1.44 2023-02-02\n",
      "299        Travel                Girona Lockers    8.00 2023-02-03\n",
      "300    Eating Out                         Lunch   32.00 2023-02-03\n",
      "301        Travel                         Train   26.50 2023-02-03\n",
      "302     Groceries                     Groceries    8.94 2023-02-03\n",
      "303      Shopping                       Amarula   15.70 2023-02-04\n",
      "304     Transport                   Oslo ticket   30.19 2023-02-06\n",
      "305     Transport                   Oslo ticket   30.50 2023-02-13\n",
      "\n",
      "\n",
      "<class 'pandas.core.frame.DataFrame'>\n",
      "RangeIndex: 311 entries, 0 to 310\n",
      "Data columns (total 4 columns):\n",
      " #   Column    Non-Null Count  Dtype         \n",
      "---  ------    --------------  -----         \n",
      " 0   Category  311 non-null    object        \n",
      " 1   Detail    311 non-null    object        \n",
      " 2   Cost      311 non-null    float64       \n",
      " 3   Date      311 non-null    datetime64[ns]\n",
      "dtypes: datetime64[ns](1), float64(1), object(2)\n",
      "memory usage: 9.8+ KB\n"
     ]
    }
   ],
   "source": [
    "#set up of the file\n",
    "print(df.head(-5))\n",
    "print(\"\\n\")\n",
    "df.info()\n"
   ]
  },
  {
   "cell_type": "code",
   "execution_count": 1606,
   "metadata": {},
   "outputs": [
    {
     "name": "stdout",
     "output_type": "stream",
     "text": [
      "['Eating Out' 'Shopping' 'Hobbies' 'Groceries' 'Rent + Bills' 'Investment'\n",
      " 'Transport' 'Student Loan' 'Travel' 'Healthcare' 'Selfcare']\n",
      "\n",
      "\n",
      "11\n",
      "\n",
      "\n",
      "['Brunch' 'Uniqlo' 'Salsa Class' 'Groceries' 'Ditsch'\n",
      " 'Shared Rent + Bills expenses' 'Moving' 'Weekly ETH' 'Rent' 'BVG' 'Phone'\n",
      " 'Postal re-route' 'Snacks' 'Bi-Weekly ETF' 'Stock' 'Passport photos'\n",
      " 'Restaurant + Drinks' 'Salsa Festival Surcharge'\n",
      " 'Driver license conversion' 'Student Loan' 'Sisyphos' 'Google' 'Patreon'\n",
      " 'Insurance' 'Post salsa pizza' 'Pub Quiz' 'Flea market' 'Juice'\n",
      " 'Poland Bus' 'Birthday present' 'Train castellvi' 'YEGO'\n",
      " 'Pills pills pills ' 'Bi-Weekly Stock' 'Pills pills pills' 'Tampons'\n",
      " 'Olive oil' 'Libro de la abuela' 'Spanish foooood' 'Taxi airport' 'Salsa'\n",
      " 'Travel' 'Finger cut' 'Thai park' 'Baptism flight'\n",
      " 'Train tickets to visit Fran' 'Teeth cleaning' 'Poland hotel' 'UK Phone'\n",
      " 'Date' 'Salsa Festival' 'Extension ticket BVG' 'Extension ticket'\n",
      " 'Avanico' 'Phone surcharge' 'Fruit' 'Hot water bottle' 'DM'\n",
      " 'Vase and tea spoon' 'Drinks' 'Moisturiser' 'Shoes + jacket' 'Lunch'\n",
      " 'BVG extension ticket ' 'Copenhagen' 'BVG from airport'\n",
      " 'Flight back from BCN' 'Train to Stratford' 'Bus to airport'\n",
      " 'iPhone case' 'Burger' 'Market' 'Airport BVG' 'Sweater' 'Eyebrows + cash'\n",
      " 'Train' 'Boots meal deal' 'Pharmacy' 'Legal Insurance'\n",
      " 'Personal Liability Insurance' 'Train to airport ' 'Train to potsdam'\n",
      " 'Lunch in Potsdam' 'Supermarket' 'Bubble Tea Ido'\n",
      " 'Drinks, Dinner, Comedy' 'Bunker tour Mom visit' 'Snack'\n",
      " 'Drinks with mom' 'Tacos and drinks' 'Cocktail' 'Tape' 'Car'\n",
      " 'Train airport' 'Sandwich' 'Train Tonya' 'Wax' 'Pill' 'Metro' 'Andreu'\n",
      " 'Books' 'Clothes' 'Metro BCN' 'McDs' 'Airport train' 'Comedy'\n",
      " 'Christmas market' 'Bubble tea and Indian' 'Coffee' 'Ikea Lunch'\n",
      " 'Ikea things' 'Glühwein' 'Printing' 'Groceries '\n",
      " 'Christmas presents + shoes' 'McD' 'BVG Airport' 'Toogoodtogo'\n",
      " 'Xmas food' 'Xmas presents' 'Beers' 'Pádel' 'Cards' 'Norwegian' 'Douglas'\n",
      " 'PromoFarma' 'Haircut' 'Ethernet' 'Bread' 'Vegetables' 'Crossfit'\n",
      " 'Waxing' 'Medicine' 'Parking' 'Churros' 'Gift for mom' 'Fuel' 'Druni'\n",
      " 'Chino' 'Flights' 'Car wash' 'IKEA' 'Decathlon' 'Hollister' 'Morrysom'\n",
      " \"McDonald's\" 'Bonet' 'Boots' 'Girona Lockers' 'Amarula' 'Oslo ticket'\n",
      " 'Vday gift' 'Granola' 'Deutsche Post']\n"
     ]
    }
   ],
   "source": [
    "print(df.Category.unique())\n",
    "print(\"\\n\")\n",
    "print(len(df.Category.unique()))\n",
    "print(\"\\n\")\n",
    "print(df.Detail.unique())\n"
   ]
  },
  {
   "cell_type": "code",
   "execution_count": 1607,
   "metadata": {},
   "outputs": [
    {
     "data": {
      "text/html": [
       "<div>\n",
       "<style scoped>\n",
       "    .dataframe tbody tr th:only-of-type {\n",
       "        vertical-align: middle;\n",
       "    }\n",
       "\n",
       "    .dataframe tbody tr th {\n",
       "        vertical-align: top;\n",
       "    }\n",
       "\n",
       "    .dataframe thead th {\n",
       "        text-align: right;\n",
       "    }\n",
       "</style>\n",
       "<table border=\"1\" class=\"dataframe\">\n",
       "  <thead>\n",
       "    <tr style=\"text-align: right;\">\n",
       "      <th></th>\n",
       "      <th>Category</th>\n",
       "      <th>Detail</th>\n",
       "      <th>Cost</th>\n",
       "      <th>Date</th>\n",
       "    </tr>\n",
       "  </thead>\n",
       "  <tbody>\n",
       "    <tr>\n",
       "      <th>11</th>\n",
       "      <td>Investment</td>\n",
       "      <td>Weekly ETH</td>\n",
       "      <td>6.0</td>\n",
       "      <td>2022-08-01</td>\n",
       "    </tr>\n",
       "    <tr>\n",
       "      <th>16</th>\n",
       "      <td>Investment</td>\n",
       "      <td>Weekly ETH</td>\n",
       "      <td>6.0</td>\n",
       "      <td>2022-07-25</td>\n",
       "    </tr>\n",
       "    <tr>\n",
       "      <th>17</th>\n",
       "      <td>Investment</td>\n",
       "      <td>Weekly ETH</td>\n",
       "      <td>10.0</td>\n",
       "      <td>2022-08-08</td>\n",
       "    </tr>\n",
       "    <tr>\n",
       "      <th>18</th>\n",
       "      <td>Investment</td>\n",
       "      <td>Weekly ETH</td>\n",
       "      <td>10.0</td>\n",
       "      <td>2022-08-15</td>\n",
       "    </tr>\n",
       "    <tr>\n",
       "      <th>19</th>\n",
       "      <td>Investment</td>\n",
       "      <td>Weekly ETH</td>\n",
       "      <td>10.0</td>\n",
       "      <td>2022-08-22</td>\n",
       "    </tr>\n",
       "    <tr>\n",
       "      <th>24</th>\n",
       "      <td>Investment</td>\n",
       "      <td>Bi-Weekly ETF</td>\n",
       "      <td>50.0</td>\n",
       "      <td>2022-08-16</td>\n",
       "    </tr>\n",
       "    <tr>\n",
       "      <th>25</th>\n",
       "      <td>Investment</td>\n",
       "      <td>Stock</td>\n",
       "      <td>10.0</td>\n",
       "      <td>2022-08-16</td>\n",
       "    </tr>\n",
       "    <tr>\n",
       "      <th>57</th>\n",
       "      <td>Investment</td>\n",
       "      <td>Weekly ETH</td>\n",
       "      <td>10.0</td>\n",
       "      <td>2022-08-29</td>\n",
       "    </tr>\n",
       "    <tr>\n",
       "      <th>58</th>\n",
       "      <td>Investment</td>\n",
       "      <td>Weekly ETH</td>\n",
       "      <td>10.0</td>\n",
       "      <td>2022-09-05</td>\n",
       "    </tr>\n",
       "    <tr>\n",
       "      <th>59</th>\n",
       "      <td>Investment</td>\n",
       "      <td>Weekly ETH</td>\n",
       "      <td>10.0</td>\n",
       "      <td>2022-09-12</td>\n",
       "    </tr>\n",
       "    <tr>\n",
       "      <th>60</th>\n",
       "      <td>Investment</td>\n",
       "      <td>Weekly ETH</td>\n",
       "      <td>10.0</td>\n",
       "      <td>2022-09-19</td>\n",
       "    </tr>\n",
       "    <tr>\n",
       "      <th>61</th>\n",
       "      <td>Investment</td>\n",
       "      <td>Bi-Weekly ETF</td>\n",
       "      <td>50.0</td>\n",
       "      <td>2022-09-02</td>\n",
       "    </tr>\n",
       "    <tr>\n",
       "      <th>62</th>\n",
       "      <td>Investment</td>\n",
       "      <td>Bi-Weekly ETF</td>\n",
       "      <td>50.0</td>\n",
       "      <td>2022-09-16</td>\n",
       "    </tr>\n",
       "    <tr>\n",
       "      <th>63</th>\n",
       "      <td>Investment</td>\n",
       "      <td>Bi-Weekly Stock</td>\n",
       "      <td>10.0</td>\n",
       "      <td>2022-08-30</td>\n",
       "    </tr>\n",
       "    <tr>\n",
       "      <th>64</th>\n",
       "      <td>Investment</td>\n",
       "      <td>Bi-Weekly Stock</td>\n",
       "      <td>10.0</td>\n",
       "      <td>2022-09-13</td>\n",
       "    </tr>\n",
       "    <tr>\n",
       "      <th>106</th>\n",
       "      <td>Investment</td>\n",
       "      <td>Weekly ETH</td>\n",
       "      <td>10.0</td>\n",
       "      <td>2022-09-26</td>\n",
       "    </tr>\n",
       "    <tr>\n",
       "      <th>107</th>\n",
       "      <td>Investment</td>\n",
       "      <td>Weekly ETH</td>\n",
       "      <td>10.0</td>\n",
       "      <td>2022-10-03</td>\n",
       "    </tr>\n",
       "    <tr>\n",
       "      <th>108</th>\n",
       "      <td>Investment</td>\n",
       "      <td>Weekly ETH</td>\n",
       "      <td>10.0</td>\n",
       "      <td>2022-10-10</td>\n",
       "    </tr>\n",
       "    <tr>\n",
       "      <th>109</th>\n",
       "      <td>Investment</td>\n",
       "      <td>Weekly ETH</td>\n",
       "      <td>10.0</td>\n",
       "      <td>2022-10-17</td>\n",
       "    </tr>\n",
       "    <tr>\n",
       "      <th>110</th>\n",
       "      <td>Investment</td>\n",
       "      <td>Bi-Weekly ETF</td>\n",
       "      <td>50.0</td>\n",
       "      <td>2022-10-03</td>\n",
       "    </tr>\n",
       "    <tr>\n",
       "      <th>111</th>\n",
       "      <td>Investment</td>\n",
       "      <td>Bi-Weekly ETF</td>\n",
       "      <td>105.0</td>\n",
       "      <td>2022-10-17</td>\n",
       "    </tr>\n",
       "    <tr>\n",
       "      <th>112</th>\n",
       "      <td>Investment</td>\n",
       "      <td>Bi-Weekly Stock</td>\n",
       "      <td>10.0</td>\n",
       "      <td>2022-10-03</td>\n",
       "    </tr>\n",
       "    <tr>\n",
       "      <th>113</th>\n",
       "      <td>Investment</td>\n",
       "      <td>Bi-Weekly Stock</td>\n",
       "      <td>10.0</td>\n",
       "      <td>2022-10-17</td>\n",
       "    </tr>\n",
       "    <tr>\n",
       "      <th>147</th>\n",
       "      <td>Investment</td>\n",
       "      <td>Weekly ETH</td>\n",
       "      <td>10.0</td>\n",
       "      <td>2022-10-24</td>\n",
       "    </tr>\n",
       "  </tbody>\n",
       "</table>\n",
       "</div>"
      ],
      "text/plain": [
       "       Category           Detail   Cost       Date\n",
       "11   Investment       Weekly ETH    6.0 2022-08-01\n",
       "16   Investment       Weekly ETH    6.0 2022-07-25\n",
       "17   Investment       Weekly ETH   10.0 2022-08-08\n",
       "18   Investment       Weekly ETH   10.0 2022-08-15\n",
       "19   Investment       Weekly ETH   10.0 2022-08-22\n",
       "24   Investment    Bi-Weekly ETF   50.0 2022-08-16\n",
       "25   Investment            Stock   10.0 2022-08-16\n",
       "57   Investment       Weekly ETH   10.0 2022-08-29\n",
       "58   Investment       Weekly ETH   10.0 2022-09-05\n",
       "59   Investment       Weekly ETH   10.0 2022-09-12\n",
       "60   Investment       Weekly ETH   10.0 2022-09-19\n",
       "61   Investment    Bi-Weekly ETF   50.0 2022-09-02\n",
       "62   Investment    Bi-Weekly ETF   50.0 2022-09-16\n",
       "63   Investment  Bi-Weekly Stock   10.0 2022-08-30\n",
       "64   Investment  Bi-Weekly Stock   10.0 2022-09-13\n",
       "106  Investment       Weekly ETH   10.0 2022-09-26\n",
       "107  Investment       Weekly ETH   10.0 2022-10-03\n",
       "108  Investment       Weekly ETH   10.0 2022-10-10\n",
       "109  Investment       Weekly ETH   10.0 2022-10-17\n",
       "110  Investment    Bi-Weekly ETF   50.0 2022-10-03\n",
       "111  Investment    Bi-Weekly ETF  105.0 2022-10-17\n",
       "112  Investment  Bi-Weekly Stock   10.0 2022-10-03\n",
       "113  Investment  Bi-Weekly Stock   10.0 2022-10-17\n",
       "147  Investment       Weekly ETH   10.0 2022-10-24"
      ]
     },
     "execution_count": 1607,
     "metadata": {},
     "output_type": "execute_result"
    }
   ],
   "source": [
    "df[df[\"Category\"]== \"Investment\"]"
   ]
  },
  {
   "cell_type": "markdown",
   "metadata": {},
   "source": [
    "# Data Inspection - preprocessed dataset"
   ]
  },
  {
   "cell_type": "code",
   "execution_count": 1608,
   "metadata": {},
   "outputs": [],
   "source": [
    "df01 = pd.read_csv(file_path02)"
   ]
  },
  {
   "cell_type": "code",
   "execution_count": 1609,
   "metadata": {},
   "outputs": [
    {
     "data": {
      "text/plain": [
       "Category    0\n",
       "Detail      0\n",
       "Cost        0\n",
       "Date        0\n",
       "dtype: int64"
      ]
     },
     "execution_count": 1609,
     "metadata": {},
     "output_type": "execute_result"
    }
   ],
   "source": [
    "#Checking for NA values\n",
    "df01.isna().sum()"
   ]
  },
  {
   "cell_type": "code",
   "execution_count": 1610,
   "metadata": {},
   "outputs": [
    {
     "data": {
      "text/plain": [
       "Category    object\n",
       "Detail      object\n",
       "Cost        object\n",
       "Date        object\n",
       "dtype: object"
      ]
     },
     "execution_count": 1610,
     "metadata": {},
     "output_type": "execute_result"
    }
   ],
   "source": [
    "# Checking data types\n",
    "df01.dtypes"
   ]
  },
  {
   "cell_type": "code",
   "execution_count": 1611,
   "metadata": {},
   "outputs": [
    {
     "name": "stdout",
     "output_type": "stream",
     "text": [
      "The dataframe has 324 rows and 4 columns.\n"
     ]
    }
   ],
   "source": [
    "# Checking the shape of the dataframe\n",
    "df01.shape\n",
    "\n",
    "print(\"The dataframe has 324 rows and 4 columns.\")"
   ]
  },
  {
   "attachments": {},
   "cell_type": "markdown",
   "metadata": {},
   "source": [
    "# Duplicates check"
   ]
  },
  {
   "cell_type": "code",
   "execution_count": 1612,
   "metadata": {},
   "outputs": [
    {
     "name": "stdout",
     "output_type": "stream",
     "text": [
      "         Category                        Detail     Cost         Date\n",
      "65   Rent + Bills                          Rent  €500.00   1-Sep-2022\n",
      "114  Rent + Bills                          Rent  €500.00   1-Sep-2022\n",
      "155  Rent + Bills                        Google    €1.88   4-Nov-2022\n",
      "156  Rent + Bills  Personal Liability Insurance    €4.94   1-Nov-2022\n",
      "157  Student Loan                  Student Loan   €86.40  10-Nov-2022\n",
      "158     Transport                           BVG   €28.58   1-Nov-2022\n",
      "159  Rent + Bills                      UK Phone   €10.00  13-Nov-2022\n",
      "160  Rent + Bills               Legal Insurance   €35.00   1-Nov-2022\n",
      "194  Rent + Bills                        Google    €1.88   4-Nov-2022\n",
      "195  Rent + Bills  Personal Liability Insurance    €4.94   1-Nov-2022\n",
      "196  Student Loan                  Student Loan   €86.40  10-Nov-2022\n",
      "197     Transport                           BVG   €28.58   1-Nov-2022\n",
      "198  Rent + Bills                      UK Phone   €10.00  13-Nov-2022\n",
      "199  Rent + Bills               Legal Insurance   €35.00   1-Nov-2022\n",
      "236  Rent + Bills                         Phone   €25.00  25-Dec-2022\n",
      "271  Rent + Bills                         Phone   €25.00  25-Dec-2022\n"
     ]
    }
   ],
   "source": [
    "# check for duplicate rows where every column value is duplicated\n",
    "duplicate_rows = df01[df01.duplicated(subset=df01.columns, keep=False)]\n",
    "\n",
    "# print the duplicate rows\n",
    "print(duplicate_rows)"
   ]
  },
  {
   "cell_type": "code",
   "execution_count": 1613,
   "metadata": {},
   "outputs": [],
   "source": [
    "# Correcting the duplicate rent paid in September\n",
    "\n",
    "df01.loc[114, 'Date'] = '1-Oct-2022'"
   ]
  },
  {
   "cell_type": "code",
   "execution_count": 1614,
   "metadata": {},
   "outputs": [
    {
     "name": "stdout",
     "output_type": "stream",
     "text": [
      "         Category                        Detail    Cost         Date\n",
      "155  Rent + Bills                        Google   €1.88   4-Nov-2022\n",
      "156  Rent + Bills  Personal Liability Insurance   €4.94   1-Nov-2022\n",
      "157  Student Loan                  Student Loan  €86.40  10-Nov-2022\n",
      "158     Transport                           BVG  €28.58   1-Nov-2022\n",
      "159  Rent + Bills                      UK Phone  €10.00  13-Nov-2022\n",
      "160  Rent + Bills               Legal Insurance  €35.00   1-Nov-2022\n",
      "194  Rent + Bills                        Google   €1.88   4-Nov-2022\n",
      "195  Rent + Bills  Personal Liability Insurance   €4.94   1-Nov-2022\n",
      "196  Student Loan                  Student Loan  €86.40  10-Nov-2022\n",
      "197     Transport                           BVG  €28.58   1-Nov-2022\n",
      "198  Rent + Bills                      UK Phone  €10.00  13-Nov-2022\n",
      "199  Rent + Bills               Legal Insurance  €35.00   1-Nov-2022\n",
      "236  Rent + Bills                         Phone  €25.00  25-Dec-2022\n",
      "271  Rent + Bills                         Phone  €25.00  25-Dec-2022\n"
     ]
    }
   ],
   "source": [
    "# check for duplicate rows where every column value is duplicated\n",
    "duplicate_rows = df01[df01.duplicated(subset=df01.columns, keep=False)]\n",
    "\n",
    "# print the duplicate rows\n",
    "print(duplicate_rows)"
   ]
  },
  {
   "attachments": {},
   "cell_type": "markdown",
   "metadata": {},
   "source": [
    "#### Working with and standardising columns"
   ]
  },
  {
   "cell_type": "code",
   "execution_count": 1615,
   "metadata": {},
   "outputs": [],
   "source": [
    "# Built-in library to work with dates.\n",
    "from datetime import datetime"
   ]
  },
  {
   "cell_type": "code",
   "execution_count": 1616,
   "metadata": {},
   "outputs": [],
   "source": [
    "# Convert the 'Date' column to datetime\n",
    "df01['Date'] = pd.to_datetime(df01['Date'])"
   ]
  },
  {
   "cell_type": "code",
   "execution_count": 1617,
   "metadata": {},
   "outputs": [],
   "source": [
    "# Convert the 'cost' column to float\n",
    "df01['Cost'] = df01['Cost'].str.replace('€', '').astype(float)"
   ]
  },
  {
   "cell_type": "code",
   "execution_count": 1618,
   "metadata": {},
   "outputs": [
    {
     "data": {
      "text/plain": [
       "Category            object\n",
       "Detail              object\n",
       "Cost               float64\n",
       "Date        datetime64[ns]\n",
       "dtype: object"
      ]
     },
     "execution_count": 1618,
     "metadata": {},
     "output_type": "execute_result"
    }
   ],
   "source": [
    "# Checking code worked\n",
    "df01.dtypes"
   ]
  },
  {
   "cell_type": "code",
   "execution_count": 1619,
   "metadata": {},
   "outputs": [
    {
     "data": {
      "text/html": [
       "<div>\n",
       "<style scoped>\n",
       "    .dataframe tbody tr th:only-of-type {\n",
       "        vertical-align: middle;\n",
       "    }\n",
       "\n",
       "    .dataframe tbody tr th {\n",
       "        vertical-align: top;\n",
       "    }\n",
       "\n",
       "    .dataframe thead th {\n",
       "        text-align: right;\n",
       "    }\n",
       "</style>\n",
       "<table border=\"1\" class=\"dataframe\">\n",
       "  <thead>\n",
       "    <tr style=\"text-align: right;\">\n",
       "      <th></th>\n",
       "      <th>Category</th>\n",
       "      <th>Detail</th>\n",
       "      <th>Cost</th>\n",
       "      <th>Date</th>\n",
       "    </tr>\n",
       "  </thead>\n",
       "  <tbody>\n",
       "    <tr>\n",
       "      <th>0</th>\n",
       "      <td>Eating Out</td>\n",
       "      <td>Brunch</td>\n",
       "      <td>15.00</td>\n",
       "      <td>2022-07-25</td>\n",
       "    </tr>\n",
       "    <tr>\n",
       "      <th>1</th>\n",
       "      <td>Shopping</td>\n",
       "      <td>Uniqlo</td>\n",
       "      <td>144.50</td>\n",
       "      <td>2022-07-25</td>\n",
       "    </tr>\n",
       "    <tr>\n",
       "      <th>2</th>\n",
       "      <td>Hobbies</td>\n",
       "      <td>Salsa Class</td>\n",
       "      <td>130.00</td>\n",
       "      <td>2022-07-27</td>\n",
       "    </tr>\n",
       "    <tr>\n",
       "      <th>3</th>\n",
       "      <td>Groceries</td>\n",
       "      <td>Groceries</td>\n",
       "      <td>6.78</td>\n",
       "      <td>2022-07-27</td>\n",
       "    </tr>\n",
       "    <tr>\n",
       "      <th>4</th>\n",
       "      <td>Eating Out</td>\n",
       "      <td>Ditsch</td>\n",
       "      <td>2.00</td>\n",
       "      <td>2022-07-27</td>\n",
       "    </tr>\n",
       "  </tbody>\n",
       "</table>\n",
       "</div>"
      ],
      "text/plain": [
       "     Category       Detail    Cost       Date\n",
       "0  Eating Out       Brunch   15.00 2022-07-25\n",
       "1    Shopping       Uniqlo  144.50 2022-07-25\n",
       "2     Hobbies  Salsa Class  130.00 2022-07-27\n",
       "3   Groceries    Groceries    6.78 2022-07-27\n",
       "4  Eating Out       Ditsch    2.00 2022-07-27"
      ]
     },
     "execution_count": 1619,
     "metadata": {},
     "output_type": "execute_result"
    }
   ],
   "source": [
    "df01.head()"
   ]
  },
  {
   "attachments": {},
   "cell_type": "markdown",
   "metadata": {},
   "source": [
    "### Classifying the Category column to Variable vs Fixed Costs"
   ]
  },
  {
   "cell_type": "code",
   "execution_count": 1620,
   "metadata": {},
   "outputs": [],
   "source": [
    "# create a dictionary with the category as the key and the corresponding classification as the value\n",
    "category_classification = {\n",
    "    'Eating Out': 'Variable',\n",
    "    'Shopping': 'Variable',\n",
    "    'Hobbies': 'Variable',\n",
    "    'Groceries': 'Variable',\n",
    "    'Rent + Bills': 'Fixed',\n",
    "    'Investment': 'Variable',\n",
    "    'Transport': 'Variable',\n",
    "    'Student Loan': 'Fixed',\n",
    "    'Travel': 'Variable',\n",
    "    'Healthcare': 'Variable',\n",
    "    'Selfcare': 'Variable'\n",
    "}\n",
    "\n",
    "# create a new column with the classifications using the map() function\n",
    "df01['Classification'] = df01['Category'].map(category_classification)\n"
   ]
  },
  {
   "attachments": {},
   "cell_type": "markdown",
   "metadata": {},
   "source": [
    "### Classifying to Nice to Have vs Necessary costs"
   ]
  },
  {
   "cell_type": "code",
   "execution_count": 1621,
   "metadata": {},
   "outputs": [],
   "source": [
    "# create a dictionary with the category as the key and the corresponding classification as the value\n",
    "category_type = {\n",
    "    'Eating Out': 'Nice to have',\n",
    "    'Shopping': 'Nice to have',\n",
    "    'Hobbies': 'Nice to have',\n",
    "    'Groceries': 'Necessary',\n",
    "    'Rent + Bills': 'Necessary',\n",
    "    'Investment': 'Nice to have',\n",
    "    'Transport': 'Necessary',\n",
    "    'Student Loan': 'Necessary',\n",
    "    'Travel': 'Nice to have',\n",
    "    'Healthcare': 'Necessary',\n",
    "    'Selfcare': 'Nice to have'\n",
    "}\n",
    "\n",
    "# create a new column with the classifications using the map() function\n",
    "df01['Type'] = df01['Category'].map(category_type)\n"
   ]
  },
  {
   "cell_type": "code",
   "execution_count": 1622,
   "metadata": {},
   "outputs": [],
   "source": [
    "# Define the start and end dates for each period\n",
    "periods = {'Jul - Aug 22': ('2022-07-25', '2022-08-24'),\n",
    "           'Aug - Sep 22': ('2022-08-25', '2022-09-24'),\n",
    "           'Sep - Oct 22': ('2022-09-25', '2022-10-24'),\n",
    "           'Oct - Nov 22': ('2022-10-25', '2022-11-24'),\n",
    "           'Nov - Dec 22': ('2022-11-25', '2022-12-24'),\n",
    "           'Dec - Jan 22': ('2022-12-25', '2023-01-24'),\n",
    "           'Jan - Feb 23': ('2023-01-25', '2023-02-24')}\n",
    "\n",
    "# Iterate over the periods and create a new column with the corresponding period label\n",
    "for period, dates in periods.items():\n",
    "    start_date = pd.to_datetime(dates[0])\n",
    "    end_date = pd.to_datetime(dates[1])\n",
    "    mask = (df01['Date'] >= start_date) & (df01['Date'] <= end_date)\n",
    "    df01.loc[mask, 'Month'] = period"
   ]
  },
  {
   "attachments": {},
   "cell_type": "markdown",
   "metadata": {},
   "source": [
    "### Looking at the data"
   ]
  },
  {
   "attachments": {},
   "cell_type": "markdown",
   "metadata": {},
   "source": [
    "#### Cost vs Category"
   ]
  },
  {
   "cell_type": "code",
   "execution_count": 1623,
   "metadata": {},
   "outputs": [],
   "source": [
    "# Calculate the total cost for each category\n",
    "category_costs = df01.groupby('Category')['Cost'].sum().round(2).sort_values(ascending=False)"
   ]
  },
  {
   "cell_type": "code",
   "execution_count": 1624,
   "metadata": {},
   "outputs": [],
   "source": [
    "# Calculate the total cost for each category\n",
    "type_costs = df01.groupby('Type')['Cost'].sum().round(2).sort_values(ascending=False)"
   ]
  },
  {
   "cell_type": "code",
   "execution_count": 1625,
   "metadata": {},
   "outputs": [],
   "source": [
    "# Calculate the total cost for each category\n",
    "classification_costs = df01.groupby('Classification')['Cost'].sum().round(2).sort_values(ascending=False)"
   ]
  },
  {
   "cell_type": "code",
   "execution_count": 1626,
   "metadata": {},
   "outputs": [],
   "source": [
    "# Calculate the percentage of the total cost for each category\n",
    "category_percentages = ((category_costs / category_costs.sum()) * 100).round(2)"
   ]
  },
  {
   "cell_type": "code",
   "execution_count": 1627,
   "metadata": {},
   "outputs": [],
   "source": [
    "# Calculate the percentage of the cost for each type\n",
    "type_percentages = ((type_costs / type_costs.sum()) * 100).round(2)"
   ]
  },
  {
   "cell_type": "code",
   "execution_count": 1628,
   "metadata": {},
   "outputs": [],
   "source": [
    "# Calculate the percentage of the cost for each classification\n",
    "classification_percentages = ((classification_costs / classification_costs.sum()) * 100).round(2)"
   ]
  },
  {
   "cell_type": "code",
   "execution_count": 1629,
   "metadata": {},
   "outputs": [
    {
     "data": {
      "image/png": "[encoded data removed]",
      "text/plain": [
       "<Figure size 640x480 with 1 Axes>"
      ]
     },
     "metadata": {},
     "output_type": "display_data"
    }
   ],
   "source": [
    "# Create a bar chart of the total cost for each category\n",
    "fig, ax = plt.subplots()\n",
    "ax.bar(category_costs.index, category_costs)\n",
    "\n",
    "# Set the title and axis labels\n",
    "ax.set_title('Total Cost per Category')\n",
    "ax.set_xlabel('Category')\n",
    "ax.set_ylabel('Total Cost (Euro)')\n",
    "\n",
    "# Rotate the x-axis tick labels for better readability\n",
    "plt.xticks(rotation='vertical')\n",
    "\n",
    "# Show the plot\n",
    "plt.show()"
   ]
  },
  {
   "cell_type": "code",
   "execution_count": 1630,
   "metadata": {},
   "outputs": [
    {
     "data": {
      "image/png": "[encoded data removed]",
      "text/plain": [
       "<Figure size 640x480 with 1 Axes>"
      ]
     },
     "metadata": {},
     "output_type": "display_data"
    }
   ],
   "source": [
    "# Create a pie chart of the percentage of the total cost for each category\n",
    "fig, ax = plt.subplots()\n",
    "ax.pie(category_percentages, labels=category_costs.index, autopct='%1.1f%%', startangle=90)\n",
    "\n",
    "# Set the title\n",
    "ax.set_title('Total Cost per Category')\n",
    "\n",
    "# Show the plot\n",
    "plt.show()"
   ]
  },
  {
   "cell_type": "code",
   "execution_count": 1631,
   "metadata": {},
   "outputs": [
    {
     "data": {
      "image/png": "[encoded data removed]",
      "text/plain": [
       "<Figure size 640x480 with 1 Axes>"
      ]
     },
     "metadata": {},
     "output_type": "display_data"
    }
   ],
   "source": [
    "# Create a pie chart of the percentage of the Nice to Have vs Necessary\n",
    "fig, ax = plt.subplots()\n",
    "ax.pie(type_percentages, labels=type_percentages.index, autopct='%1.1f%%', startangle=90)\n",
    "\n",
    "# Set the title\n",
    "ax.set_title('Nice to Have vs Necessary')\n",
    "\n",
    "# Show the plot\n",
    "plt.show()"
   ]
  },
  {
   "cell_type": "code",
   "execution_count": 1632,
   "metadata": {},
   "outputs": [
    {
     "data": {
      "image/png": "[encoded data removed]",
      "text/plain": [
       "<Figure size 640x480 with 1 Axes>"
      ]
     },
     "metadata": {},
     "output_type": "display_data"
    }
   ],
   "source": [
    "# Create a pie chart of the percentage of the variables vs fixed costs\n",
    "fig, ax = plt.subplots()\n",
    "ax.pie(classification_percentages, labels=classification_percentages.index, autopct='%1.1f%%', startangle=90)\n",
    "\n",
    "# Set the title\n",
    "ax.set_title('Fixed vs Variable costs')\n",
    "\n",
    "# Show the plot\n",
    "plt.show()"
   ]
  },
  {
   "attachments": {},
   "cell_type": "markdown",
   "metadata": {},
   "source": [
    "#### Looking it at it in a month by month basis"
   ]
  },
  {
   "cell_type": "code",
   "execution_count": 1633,
   "metadata": {},
   "outputs": [],
   "source": [
    "# set date column as the index\n",
    "df01.set_index('Date', inplace=True)"
   ]
  },
  {
   "cell_type": "code",
   "execution_count": 1634,
   "metadata": {},
   "outputs": [
    {
     "data": {
      "image/png": "[encoded data removed]",
      "text/plain": [
       "<Figure size 640x480 with 1 Axes>"
      ]
     },
     "metadata": {},
     "output_type": "display_data"
    }
   ],
   "source": [
    "# groupby and sum by month, excluding July\n",
    "monthly_cost = df01.loc[df01.index.month != 7, 'Cost'].resample('M').sum()\n",
    "\n",
    "# modify the x-axis labels\n",
    "x_labels = ['Aug 22', 'Sep 22', 'Oct 22', 'Nov 22', 'Dec 22', 'Jan 22', 'Feb 22']\n",
    "\n",
    "# plot the monthly cost as a bar chart\n",
    "ax = monthly_cost.plot.bar(y=monthly_cost.values)\n",
    "\n",
    "# set the x-axis tick labels\n",
    "ax.set_xticklabels(x_labels)\n",
    "\n",
    "# set the axis labels and title\n",
    "ax.set_xlabel('Month')\n",
    "ax.set_ylabel('Total Cost')\n",
    "ax.set_title('Monthly Cost (excluding July)')\n",
    "\n",
    "# display the chart\n",
    "plt.show()"
   ]
  },
  {
   "cell_type": "code",
   "execution_count": 1635,
   "metadata": {},
   "outputs": [
    {
     "data": {
      "text/plain": [
       "Month\n",
       "Jul - Aug 22    1728.87\n",
       "Aug - Sep 22    1776.55\n",
       "Sep - Oct 22    1631.22\n",
       "Oct - Nov 22    1265.33\n",
       "Nov - Dec 22    1207.29\n",
       "Dec - Jan 22    1203.47\n",
       "Jan - Feb 23    1510.45\n",
       "Name: Cost, dtype: float64"
      ]
     },
     "execution_count": 1635,
     "metadata": {},
     "output_type": "execute_result"
    }
   ],
   "source": [
    "order = ['Jul - Aug 22', 'Aug - Sep 22', 'Sep - Oct 22', 'Oct - Nov 22', 'Nov - Dec 22', 'Dec - Jan 22', 'Jan - Feb 23']\n",
    "costs_by_month = df01.groupby(['Month'])['Cost'].sum().reindex(order)\n",
    "costs_by_month"
   ]
  },
  {
   "cell_type": "code",
   "execution_count": 1636,
   "metadata": {},
   "outputs": [
    {
     "name": "stderr",
     "output_type": "stream",
     "text": [
      "/var/folders/3q/nnwccsgd66z2jvxb97zk6gw40000gn/T/ipykernel_64282/2352677396.py:3: UserWarning: FixedFormatter should only be used together with FixedLocator\n",
      "  ax.set_xticklabels(costs_by_month.index, rotation='vertical')\n"
     ]
    },
    {
     "data": {
      "image/png": "[encoded data removed]",
      "text/plain": [
       "<Figure size 640x480 with 1 Axes>"
      ]
     },
     "metadata": {},
     "output_type": "display_data"
    }
   ],
   "source": [
    "fig, ax = plt.subplots()\n",
    "ax.bar(costs_by_month.index, costs_by_month.values)\n",
    "ax.set_xticklabels(costs_by_month.index, rotation='vertical')\n",
    "ax.set_xlabel('Month')\n",
    "ax.set_ylabel('Total Cost')\n",
    "plt.show()"
   ]
  }
 ],
 "metadata": {
  "kernelspec": {
   "display_name": "py310",
   "language": "python",
   "name": "py310"
  },
  "language_info": {
   "codemirror_mode": {
    "name": "ipython",
    "version": 3
   },
   "file_extension": ".py",
   "mimetype": "text/x-python",
   "name": "python",
   "nbconvert_exporter": "python",
   "pygments_lexer": "ipython3",
   "version": "3.9.13"
  },
  "orig_nbformat": 4,
  "vscode": {
   "interpreter": {
    "hash": "63d10bd90fcb75d3e3fff2b3fd48214af6a02618a076037a7f9d8a6eed4b6a0a"
   }
  }
 },
 "nbformat": 4,
 "nbformat_minor": 2
}
