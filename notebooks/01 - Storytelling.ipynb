{
 "cells": [
  {
   "cell_type": "code",
   "execution_count": 765,
   "metadata": {},
   "outputs": [],
   "source": [
    "import pandas as pd\n",
    "import numpy as np\n",
    "import matplotlib.pyplot as plt\n",
    "import os"
   ]
  },
  {
   "attachments": {},
   "cell_type": "markdown",
   "metadata": {},
   "source": [
    "# STORYTELLING with financial spendings.\n"
   ]
  },
  {
   "cell_type": "markdown",
   "metadata": {},
   "source": [
    "\n",
    "***starting with a sample dataset***, we potentially want to investigate what insigths can be derived from a dataset concentrating ones spendings (Habits; trends etc.)\n",
    "  \n",
    "  ***with respect to time:***\n",
    " - How does the data differ from months to months\n",
    " - How does the data differ from summer vs. winter\n",
    "\n",
    "therefore we differentiate the data regarding:\n",
    "- fix vs. flexible costs\n",
    "- basic need / luxoury (\"nice to have\") spendings\n",
    "\n",
    "- are there any trends in the way money is spend?\n",
    "- how does the absolute and relative spendings within the different categories differ?\n",
    "\n"
   ]
  },
  {
   "attachments": {},
   "cell_type": "markdown",
   "metadata": {},
   "source": [
    "# Data Inspection - unpreprocessed dataset"
   ]
  },
  {
   "cell_type": "code",
   "execution_count": 766,
   "metadata": {},
   "outputs": [],
   "source": [
    "os.getcwd()\n",
    "file_path01 = r\"../data/cristina_dataset/Cristina_Dataset_230218.xlsx\"\n",
    "file_path02 = r\"../data/cristina_dataset/Cristina_Dataset_230222.csv\"\n",
    "\n"
   ]
  },
  {
   "cell_type": "code",
   "execution_count": 767,
   "metadata": {},
   "outputs": [],
   "source": [
    "#read dataframe\n",
    "df = pd.read_excel(file_path01)\n"
   ]
  },
  {
   "cell_type": "code",
   "execution_count": 768,
   "metadata": {},
   "outputs": [
    {
     "name": "stdout",
     "output_type": "stream",
     "text": [
      "       Category       Detail    Cost       Date\n",
      "0    Eating Out       Brunch   15.00 2022-07-25\n",
      "1      Shopping       Uniqlo  144.50 2022-07-25\n",
      "2       Hobbies  Salsa Class  130.00 2022-07-27\n",
      "3     Groceries    Groceries    6.78 2022-07-27\n",
      "4    Eating Out       Ditsch    2.00 2022-07-27\n",
      "..          ...          ...     ...        ...\n",
      "301      Travel        Train   26.50 2023-02-03\n",
      "302   Groceries    Groceries    8.94 2023-02-03\n",
      "303    Shopping      Amarula   15.70 2023-02-04\n",
      "304   Transport  Oslo ticket   30.19 2023-02-06\n",
      "305   Transport  Oslo ticket   30.50 2023-02-13\n",
      "\n",
      "[306 rows x 4 columns]\n",
      "\n",
      "\n",
      "<class 'pandas.core.frame.DataFrame'>\n",
      "RangeIndex: 311 entries, 0 to 310\n",
      "Data columns (total 4 columns):\n",
      " #   Column    Non-Null Count  Dtype         \n",
      "---  ------    --------------  -----         \n",
      " 0   Category  311 non-null    object        \n",
      " 1   Detail    311 non-null    object        \n",
      " 2   Cost      311 non-null    float64       \n",
      " 3   Date      311 non-null    datetime64[ns]\n",
      "dtypes: datetime64[ns](1), float64(1), object(2)\n",
      "memory usage: 9.8+ KB\n"
     ]
    }
   ],
   "source": [
    "#set up of the file\n",
    "print(df.head(-5))\n",
    "print(\"\\n\")\n",
    "df.info()\n"
   ]
  },
  {
   "cell_type": "code",
   "execution_count": 769,
   "metadata": {},
   "outputs": [
    {
     "name": "stdout",
     "output_type": "stream",
     "text": [
      "['Eating Out' 'Shopping' 'Hobbies' 'Groceries' 'Rent + Bills' 'Investment'\n",
      " 'Transport' 'Student Loan' 'Travel' 'Healthcare' 'Selfcare']\n",
      "\n",
      "\n",
      "11\n",
      "\n",
      "\n",
      "['Brunch' 'Uniqlo' 'Salsa Class' 'Groceries' 'Ditsch'\n",
      " 'Shared Rent + Bills expenses' 'Moving' 'Weekly ETH' 'Rent' 'BVG' 'Phone'\n",
      " 'Postal re-route' 'Snacks' 'Bi-Weekly ETF' 'Stock' 'Passport photos'\n",
      " 'Restaurant + Drinks' 'Salsa Festival Surcharge'\n",
      " 'Driver license conversion' 'Student Loan' 'Sisyphos' 'Google' 'Patreon'\n",
      " 'Insurance' 'Post salsa pizza' 'Pub Quiz' 'Flea market' 'Juice'\n",
      " 'Poland Bus' 'Birthday present' 'Train castellvi' 'YEGO'\n",
      " 'Pills pills pills ' 'Bi-Weekly Stock' 'Pills pills pills' 'Tampons'\n",
      " 'Olive oil' 'Libro de la abuela' 'Spanish foooood' 'Taxi airport' 'Salsa'\n",
      " 'Travel' 'Finger cut' 'Thai park' 'Baptism flight'\n",
      " 'Train tickets to visit Fran' 'Teeth cleaning' 'Poland hotel' 'UK Phone'\n",
      " 'Date' 'Salsa Festival' 'Extension ticket BVG' 'Extension ticket'\n",
      " 'Avanico' 'Phone surcharge' 'Fruit' 'Hot water bottle' 'DM'\n",
      " 'Vase and tea spoon' 'Drinks' 'Moisturiser' 'Shoes + jacket' 'Lunch'\n",
      " 'BVG extension ticket ' 'Copenhagen' 'BVG from airport'\n",
      " 'Flight back from BCN' 'Train to Stratford' 'Bus to airport'\n",
      " 'iPhone case' 'Burger' 'Market' 'Airport BVG' 'Sweater' 'Eyebrows + cash'\n",
      " 'Train' 'Boots meal deal' 'Pharmacy' 'Legal Insurance'\n",
      " 'Personal Liability Insurance' 'Train to airport ' 'Train to potsdam'\n",
      " 'Lunch in Potsdam' 'Supermarket' 'Bubble Tea Ido'\n",
      " 'Drinks, Dinner, Comedy' 'Bunker tour Mom visit' 'Snack'\n",
      " 'Drinks with mom' 'Tacos and drinks' 'Cocktail' 'Tape' 'Car'\n",
      " 'Train airport' 'Sandwich' 'Train Tonya' 'Wax' 'Pill' 'Metro' 'Andreu'\n",
      " 'Books' 'Clothes' 'Metro BCN' 'McDs' 'Airport train' 'Comedy'\n",
      " 'Christmas market' 'Bubble tea and Indian' 'Coffee' 'Ikea Lunch'\n",
      " 'Ikea things' 'Glühwein' 'Printing' 'Groceries '\n",
      " 'Christmas presents + shoes' 'McD' 'BVG Airport' 'Toogoodtogo'\n",
      " 'Xmas food' 'Xmas presents' 'Beers' 'Pádel' 'Cards' 'Norwegian' 'Douglas'\n",
      " 'PromoFarma' 'Haircut' 'Ethernet' 'Bread' 'Vegetables' 'Crossfit'\n",
      " 'Waxing' 'Medicine' 'Parking' 'Churros' 'Gift for mom' 'Fuel' 'Druni'\n",
      " 'Chino' 'Flights' 'Car wash' 'IKEA' 'Decathlon' 'Hollister' 'Morrysom'\n",
      " \"McDonald's\" 'Bonet' 'Boots' 'Girona Lockers' 'Amarula' 'Oslo ticket'\n",
      " 'Vday gift' 'Granola' 'Deutsche Post']\n"
     ]
    }
   ],
   "source": [
    "print(df.Category.unique())\n",
    "print(\"\\n\")\n",
    "print(len(df.Category.unique()))\n",
    "print(\"\\n\")\n",
    "print(df.Detail.unique())\n"
   ]
  },
  {
   "cell_type": "code",
   "execution_count": 770,
   "metadata": {},
   "outputs": [
    {
     "data": {
      "text/html": [
       "<div>\n",
       "<style scoped>\n",
       "    .dataframe tbody tr th:only-of-type {\n",
       "        vertical-align: middle;\n",
       "    }\n",
       "\n",
       "    .dataframe tbody tr th {\n",
       "        vertical-align: top;\n",
       "    }\n",
       "\n",
       "    .dataframe thead th {\n",
       "        text-align: right;\n",
       "    }\n",
       "</style>\n",
       "<table border=\"1\" class=\"dataframe\">\n",
       "  <thead>\n",
       "    <tr style=\"text-align: right;\">\n",
       "      <th></th>\n",
       "      <th>Category</th>\n",
       "      <th>Detail</th>\n",
       "      <th>Cost</th>\n",
       "      <th>Date</th>\n",
       "    </tr>\n",
       "  </thead>\n",
       "  <tbody>\n",
       "    <tr>\n",
       "      <th>11</th>\n",
       "      <td>Investment</td>\n",
       "      <td>Weekly ETH</td>\n",
       "      <td>6.0</td>\n",
       "      <td>2022-08-01</td>\n",
       "    </tr>\n",
       "    <tr>\n",
       "      <th>16</th>\n",
       "      <td>Investment</td>\n",
       "      <td>Weekly ETH</td>\n",
       "      <td>6.0</td>\n",
       "      <td>2022-07-25</td>\n",
       "    </tr>\n",
       "    <tr>\n",
       "      <th>17</th>\n",
       "      <td>Investment</td>\n",
       "      <td>Weekly ETH</td>\n",
       "      <td>10.0</td>\n",
       "      <td>2022-08-08</td>\n",
       "    </tr>\n",
       "    <tr>\n",
       "      <th>18</th>\n",
       "      <td>Investment</td>\n",
       "      <td>Weekly ETH</td>\n",
       "      <td>10.0</td>\n",
       "      <td>2022-08-15</td>\n",
       "    </tr>\n",
       "    <tr>\n",
       "      <th>19</th>\n",
       "      <td>Investment</td>\n",
       "      <td>Weekly ETH</td>\n",
       "      <td>10.0</td>\n",
       "      <td>2022-08-22</td>\n",
       "    </tr>\n",
       "    <tr>\n",
       "      <th>24</th>\n",
       "      <td>Investment</td>\n",
       "      <td>Bi-Weekly ETF</td>\n",
       "      <td>50.0</td>\n",
       "      <td>2022-08-16</td>\n",
       "    </tr>\n",
       "    <tr>\n",
       "      <th>25</th>\n",
       "      <td>Investment</td>\n",
       "      <td>Stock</td>\n",
       "      <td>10.0</td>\n",
       "      <td>2022-08-16</td>\n",
       "    </tr>\n",
       "    <tr>\n",
       "      <th>57</th>\n",
       "      <td>Investment</td>\n",
       "      <td>Weekly ETH</td>\n",
       "      <td>10.0</td>\n",
       "      <td>2022-08-29</td>\n",
       "    </tr>\n",
       "    <tr>\n",
       "      <th>58</th>\n",
       "      <td>Investment</td>\n",
       "      <td>Weekly ETH</td>\n",
       "      <td>10.0</td>\n",
       "      <td>2022-09-05</td>\n",
       "    </tr>\n",
       "    <tr>\n",
       "      <th>59</th>\n",
       "      <td>Investment</td>\n",
       "      <td>Weekly ETH</td>\n",
       "      <td>10.0</td>\n",
       "      <td>2022-09-12</td>\n",
       "    </tr>\n",
       "    <tr>\n",
       "      <th>60</th>\n",
       "      <td>Investment</td>\n",
       "      <td>Weekly ETH</td>\n",
       "      <td>10.0</td>\n",
       "      <td>2022-09-19</td>\n",
       "    </tr>\n",
       "    <tr>\n",
       "      <th>61</th>\n",
       "      <td>Investment</td>\n",
       "      <td>Bi-Weekly ETF</td>\n",
       "      <td>50.0</td>\n",
       "      <td>2022-09-02</td>\n",
       "    </tr>\n",
       "    <tr>\n",
       "      <th>62</th>\n",
       "      <td>Investment</td>\n",
       "      <td>Bi-Weekly ETF</td>\n",
       "      <td>50.0</td>\n",
       "      <td>2022-09-16</td>\n",
       "    </tr>\n",
       "    <tr>\n",
       "      <th>63</th>\n",
       "      <td>Investment</td>\n",
       "      <td>Bi-Weekly Stock</td>\n",
       "      <td>10.0</td>\n",
       "      <td>2022-08-30</td>\n",
       "    </tr>\n",
       "    <tr>\n",
       "      <th>64</th>\n",
       "      <td>Investment</td>\n",
       "      <td>Bi-Weekly Stock</td>\n",
       "      <td>10.0</td>\n",
       "      <td>2022-09-13</td>\n",
       "    </tr>\n",
       "    <tr>\n",
       "      <th>106</th>\n",
       "      <td>Investment</td>\n",
       "      <td>Weekly ETH</td>\n",
       "      <td>10.0</td>\n",
       "      <td>2022-09-26</td>\n",
       "    </tr>\n",
       "    <tr>\n",
       "      <th>107</th>\n",
       "      <td>Investment</td>\n",
       "      <td>Weekly ETH</td>\n",
       "      <td>10.0</td>\n",
       "      <td>2022-10-03</td>\n",
       "    </tr>\n",
       "    <tr>\n",
       "      <th>108</th>\n",
       "      <td>Investment</td>\n",
       "      <td>Weekly ETH</td>\n",
       "      <td>10.0</td>\n",
       "      <td>2022-10-10</td>\n",
       "    </tr>\n",
       "    <tr>\n",
       "      <th>109</th>\n",
       "      <td>Investment</td>\n",
       "      <td>Weekly ETH</td>\n",
       "      <td>10.0</td>\n",
       "      <td>2022-10-17</td>\n",
       "    </tr>\n",
       "    <tr>\n",
       "      <th>110</th>\n",
       "      <td>Investment</td>\n",
       "      <td>Bi-Weekly ETF</td>\n",
       "      <td>50.0</td>\n",
       "      <td>2022-10-03</td>\n",
       "    </tr>\n",
       "    <tr>\n",
       "      <th>111</th>\n",
       "      <td>Investment</td>\n",
       "      <td>Bi-Weekly ETF</td>\n",
       "      <td>105.0</td>\n",
       "      <td>2022-10-17</td>\n",
       "    </tr>\n",
       "    <tr>\n",
       "      <th>112</th>\n",
       "      <td>Investment</td>\n",
       "      <td>Bi-Weekly Stock</td>\n",
       "      <td>10.0</td>\n",
       "      <td>2022-10-03</td>\n",
       "    </tr>\n",
       "    <tr>\n",
       "      <th>113</th>\n",
       "      <td>Investment</td>\n",
       "      <td>Bi-Weekly Stock</td>\n",
       "      <td>10.0</td>\n",
       "      <td>2022-10-17</td>\n",
       "    </tr>\n",
       "    <tr>\n",
       "      <th>147</th>\n",
       "      <td>Investment</td>\n",
       "      <td>Weekly ETH</td>\n",
       "      <td>10.0</td>\n",
       "      <td>2022-10-24</td>\n",
       "    </tr>\n",
       "  </tbody>\n",
       "</table>\n",
       "</div>"
      ],
      "text/plain": [
       "       Category           Detail   Cost       Date\n",
       "11   Investment       Weekly ETH    6.0 2022-08-01\n",
       "16   Investment       Weekly ETH    6.0 2022-07-25\n",
       "17   Investment       Weekly ETH   10.0 2022-08-08\n",
       "18   Investment       Weekly ETH   10.0 2022-08-15\n",
       "19   Investment       Weekly ETH   10.0 2022-08-22\n",
       "24   Investment    Bi-Weekly ETF   50.0 2022-08-16\n",
       "25   Investment            Stock   10.0 2022-08-16\n",
       "57   Investment       Weekly ETH   10.0 2022-08-29\n",
       "58   Investment       Weekly ETH   10.0 2022-09-05\n",
       "59   Investment       Weekly ETH   10.0 2022-09-12\n",
       "60   Investment       Weekly ETH   10.0 2022-09-19\n",
       "61   Investment    Bi-Weekly ETF   50.0 2022-09-02\n",
       "62   Investment    Bi-Weekly ETF   50.0 2022-09-16\n",
       "63   Investment  Bi-Weekly Stock   10.0 2022-08-30\n",
       "64   Investment  Bi-Weekly Stock   10.0 2022-09-13\n",
       "106  Investment       Weekly ETH   10.0 2022-09-26\n",
       "107  Investment       Weekly ETH   10.0 2022-10-03\n",
       "108  Investment       Weekly ETH   10.0 2022-10-10\n",
       "109  Investment       Weekly ETH   10.0 2022-10-17\n",
       "110  Investment    Bi-Weekly ETF   50.0 2022-10-03\n",
       "111  Investment    Bi-Weekly ETF  105.0 2022-10-17\n",
       "112  Investment  Bi-Weekly Stock   10.0 2022-10-03\n",
       "113  Investment  Bi-Weekly Stock   10.0 2022-10-17\n",
       "147  Investment       Weekly ETH   10.0 2022-10-24"
      ]
     },
     "execution_count": 770,
     "metadata": {},
     "output_type": "execute_result"
    }
   ],
   "source": [
    "df[df[\"Category\"]== \"Investment\"]"
   ]
  },
  {
   "cell_type": "markdown",
   "metadata": {},
   "source": [
    "# Data Inspection - preprocessed dataset"
   ]
  },
  {
   "cell_type": "code",
   "execution_count": 771,
   "metadata": {},
   "outputs": [
    {
     "data": {
      "text/html": [
       "<div>\n",
       "<style scoped>\n",
       "    .dataframe tbody tr th:only-of-type {\n",
       "        vertical-align: middle;\n",
       "    }\n",
       "\n",
       "    .dataframe tbody tr th {\n",
       "        vertical-align: top;\n",
       "    }\n",
       "\n",
       "    .dataframe thead th {\n",
       "        text-align: right;\n",
       "    }\n",
       "</style>\n",
       "<table border=\"1\" class=\"dataframe\">\n",
       "  <thead>\n",
       "    <tr style=\"text-align: right;\">\n",
       "      <th></th>\n",
       "      <th>Category</th>\n",
       "      <th>Detail</th>\n",
       "      <th>Cost</th>\n",
       "      <th>Date</th>\n",
       "    </tr>\n",
       "  </thead>\n",
       "  <tbody>\n",
       "    <tr>\n",
       "      <th>0</th>\n",
       "      <td>Eating Out</td>\n",
       "      <td>Brunch</td>\n",
       "      <td>€15.00</td>\n",
       "      <td>25-Jul-2022</td>\n",
       "    </tr>\n",
       "    <tr>\n",
       "      <th>1</th>\n",
       "      <td>Shopping</td>\n",
       "      <td>Uniqlo</td>\n",
       "      <td>€144.50</td>\n",
       "      <td>25-Jul-2022</td>\n",
       "    </tr>\n",
       "    <tr>\n",
       "      <th>2</th>\n",
       "      <td>Hobbies</td>\n",
       "      <td>Salsa Class</td>\n",
       "      <td>€130.00</td>\n",
       "      <td>27-Jul-2022</td>\n",
       "    </tr>\n",
       "    <tr>\n",
       "      <th>3</th>\n",
       "      <td>Groceries</td>\n",
       "      <td>Groceries</td>\n",
       "      <td>€6.78</td>\n",
       "      <td>27-Jul-2022</td>\n",
       "    </tr>\n",
       "    <tr>\n",
       "      <th>4</th>\n",
       "      <td>Eating Out</td>\n",
       "      <td>Ditsch</td>\n",
       "      <td>€2.00</td>\n",
       "      <td>27-Jul-2022</td>\n",
       "    </tr>\n",
       "    <tr>\n",
       "      <th>...</th>\n",
       "      <td>...</td>\n",
       "      <td>...</td>\n",
       "      <td>...</td>\n",
       "      <td>...</td>\n",
       "    </tr>\n",
       "    <tr>\n",
       "      <th>319</th>\n",
       "      <td>Groceries</td>\n",
       "      <td>Groceries</td>\n",
       "      <td>€4.07</td>\n",
       "      <td>20-Feb-2023</td>\n",
       "    </tr>\n",
       "    <tr>\n",
       "      <th>320</th>\n",
       "      <td>Eating Out</td>\n",
       "      <td>Lunch</td>\n",
       "      <td>€1.92</td>\n",
       "      <td>20-Feb-2023</td>\n",
       "    </tr>\n",
       "    <tr>\n",
       "      <th>321</th>\n",
       "      <td>Shopping</td>\n",
       "      <td>Ikea</td>\n",
       "      <td>€74.78</td>\n",
       "      <td>21-Feb-2023</td>\n",
       "    </tr>\n",
       "    <tr>\n",
       "      <th>322</th>\n",
       "      <td>Eating Out</td>\n",
       "      <td>Ikea</td>\n",
       "      <td>€9.59</td>\n",
       "      <td>21-Feb-2023</td>\n",
       "    </tr>\n",
       "    <tr>\n",
       "      <th>323</th>\n",
       "      <td>Shopping</td>\n",
       "      <td>Furniture</td>\n",
       "      <td>€147.48</td>\n",
       "      <td>21-Feb-2023</td>\n",
       "    </tr>\n",
       "  </tbody>\n",
       "</table>\n",
       "<p>324 rows × 4 columns</p>\n",
       "</div>"
      ],
      "text/plain": [
       "       Category       Detail     Cost         Date\n",
       "0    Eating Out       Brunch   €15.00  25-Jul-2022\n",
       "1      Shopping       Uniqlo  €144.50  25-Jul-2022\n",
       "2       Hobbies  Salsa Class  €130.00  27-Jul-2022\n",
       "3     Groceries    Groceries    €6.78  27-Jul-2022\n",
       "4    Eating Out       Ditsch    €2.00  27-Jul-2022\n",
       "..          ...          ...      ...          ...\n",
       "319   Groceries    Groceries    €4.07  20-Feb-2023\n",
       "320  Eating Out        Lunch    €1.92  20-Feb-2023\n",
       "321    Shopping         Ikea   €74.78  21-Feb-2023\n",
       "322  Eating Out         Ikea    €9.59  21-Feb-2023\n",
       "323    Shopping    Furniture  €147.48  21-Feb-2023\n",
       "\n",
       "[324 rows x 4 columns]"
      ]
     },
     "execution_count": 771,
     "metadata": {},
     "output_type": "execute_result"
    }
   ],
   "source": [
    "df01 = pd.read_csv(file_path02)\n",
    "df01"
   ]
  },
  {
   "cell_type": "code",
   "execution_count": 772,
   "metadata": {},
   "outputs": [
    {
     "data": {
      "text/plain": [
       "Category    0\n",
       "Detail      0\n",
       "Cost        0\n",
       "Date        0\n",
       "dtype: int64"
      ]
     },
     "execution_count": 772,
     "metadata": {},
     "output_type": "execute_result"
    }
   ],
   "source": [
    "#Checking for NA values\n",
    "df01.isna().sum()"
   ]
  },
  {
   "cell_type": "code",
   "execution_count": 773,
   "metadata": {},
   "outputs": [
    {
     "data": {
      "text/plain": [
       "Category    object\n",
       "Detail      object\n",
       "Cost        object\n",
       "Date        object\n",
       "dtype: object"
      ]
     },
     "execution_count": 773,
     "metadata": {},
     "output_type": "execute_result"
    }
   ],
   "source": [
    "# Checking data types\n",
    "df01.dtypes"
   ]
  },
  {
   "cell_type": "code",
   "execution_count": 774,
   "metadata": {},
   "outputs": [
    {
     "name": "stdout",
     "output_type": "stream",
     "text": [
      "The dataframe has 324 rows and 4 columns.\n"
     ]
    }
   ],
   "source": [
    "# Checking the shape of the dataframe\n",
    "df01.shape\n",
    "\n",
    "print(\"The dataframe has 324 rows and 4 columns.\")"
   ]
  },
  {
   "attachments": {},
   "cell_type": "markdown",
   "metadata": {},
   "source": [
    "#### Working with and standardising columns"
   ]
  },
  {
   "cell_type": "code",
   "execution_count": 775,
   "metadata": {},
   "outputs": [],
   "source": [
    "# Built-in library to work with dates.\n",
    "from datetime import datetime"
   ]
  },
  {
   "cell_type": "code",
   "execution_count": 776,
   "metadata": {},
   "outputs": [],
   "source": [
    "# Convert the 'Date' column to datetime\n",
    "df01['Date'] = pd.to_datetime(df01['Date'])"
   ]
  },
  {
   "cell_type": "code",
   "execution_count": 777,
   "metadata": {},
   "outputs": [],
   "source": [
    "# Convert the 'cost' column to float\n",
    "df01['Cost'] = df01['Cost'].str.replace('€', '').astype(float)"
   ]
  },
  {
   "cell_type": "code",
   "execution_count": 778,
   "metadata": {},
   "outputs": [
    {
     "data": {
      "text/plain": [
       "Category            object\n",
       "Detail              object\n",
       "Cost               float64\n",
       "Date        datetime64[ns]\n",
       "dtype: object"
      ]
     },
     "execution_count": 778,
     "metadata": {},
     "output_type": "execute_result"
    }
   ],
   "source": [
    "# Checking code worked\n",
    "df01.dtypes"
   ]
  },
  {
   "cell_type": "code",
   "execution_count": 779,
   "metadata": {},
   "outputs": [
    {
     "data": {
      "text/html": [
       "<div>\n",
       "<style scoped>\n",
       "    .dataframe tbody tr th:only-of-type {\n",
       "        vertical-align: middle;\n",
       "    }\n",
       "\n",
       "    .dataframe tbody tr th {\n",
       "        vertical-align: top;\n",
       "    }\n",
       "\n",
       "    .dataframe thead th {\n",
       "        text-align: right;\n",
       "    }\n",
       "</style>\n",
       "<table border=\"1\" class=\"dataframe\">\n",
       "  <thead>\n",
       "    <tr style=\"text-align: right;\">\n",
       "      <th></th>\n",
       "      <th>Category</th>\n",
       "      <th>Detail</th>\n",
       "      <th>Cost</th>\n",
       "      <th>Date</th>\n",
       "    </tr>\n",
       "  </thead>\n",
       "  <tbody>\n",
       "    <tr>\n",
       "      <th>0</th>\n",
       "      <td>Eating Out</td>\n",
       "      <td>Brunch</td>\n",
       "      <td>15.00</td>\n",
       "      <td>2022-07-25</td>\n",
       "    </tr>\n",
       "    <tr>\n",
       "      <th>1</th>\n",
       "      <td>Shopping</td>\n",
       "      <td>Uniqlo</td>\n",
       "      <td>144.50</td>\n",
       "      <td>2022-07-25</td>\n",
       "    </tr>\n",
       "    <tr>\n",
       "      <th>2</th>\n",
       "      <td>Hobbies</td>\n",
       "      <td>Salsa Class</td>\n",
       "      <td>130.00</td>\n",
       "      <td>2022-07-27</td>\n",
       "    </tr>\n",
       "    <tr>\n",
       "      <th>3</th>\n",
       "      <td>Groceries</td>\n",
       "      <td>Groceries</td>\n",
       "      <td>6.78</td>\n",
       "      <td>2022-07-27</td>\n",
       "    </tr>\n",
       "    <tr>\n",
       "      <th>4</th>\n",
       "      <td>Eating Out</td>\n",
       "      <td>Ditsch</td>\n",
       "      <td>2.00</td>\n",
       "      <td>2022-07-27</td>\n",
       "    </tr>\n",
       "  </tbody>\n",
       "</table>\n",
       "</div>"
      ],
      "text/plain": [
       "     Category       Detail    Cost       Date\n",
       "0  Eating Out       Brunch   15.00 2022-07-25\n",
       "1    Shopping       Uniqlo  144.50 2022-07-25\n",
       "2     Hobbies  Salsa Class  130.00 2022-07-27\n",
       "3   Groceries    Groceries    6.78 2022-07-27\n",
       "4  Eating Out       Ditsch    2.00 2022-07-27"
      ]
     },
     "execution_count": 779,
     "metadata": {},
     "output_type": "execute_result"
    }
   ],
   "source": [
    "df01.head()"
   ]
  },
  {
   "attachments": {},
   "cell_type": "markdown",
   "metadata": {},
   "source": [
    "### Classifying the Category column to Variable vs Fixed Costs"
   ]
  },
  {
   "cell_type": "code",
   "execution_count": 780,
   "metadata": {},
   "outputs": [
    {
     "name": "stdout",
     "output_type": "stream",
     "text": [
      "       Category                        Detail    Cost       Date  \\\n",
      "0    Eating Out                        Brunch   15.00 2022-07-25   \n",
      "1      Shopping                        Uniqlo  144.50 2022-07-25   \n",
      "2       Hobbies                   Salsa Class  130.00 2022-07-27   \n",
      "3     Groceries                     Groceries    6.78 2022-07-27   \n",
      "4    Eating Out                        Ditsch    2.00 2022-07-27   \n",
      "5     Groceries                     Groceries   45.27 2022-07-27   \n",
      "6  Rent + Bills  Shared Rent + Bills expenses   14.18 2022-07-28   \n",
      "7     Groceries                     Groceries   10.89 2022-07-29   \n",
      "8     Groceries                     Groceries   29.06 2022-07-29   \n",
      "9    Eating Out                        Ditsch    2.20 2022-07-29   \n",
      "\n",
      "  Classification  \n",
      "0       Variable  \n",
      "1       Variable  \n",
      "2       Variable  \n",
      "3       Variable  \n",
      "4       Variable  \n",
      "5       Variable  \n",
      "6          Fixed  \n",
      "7       Variable  \n",
      "8       Variable  \n",
      "9       Variable  \n"
     ]
    }
   ],
   "source": [
    "# create a dictionary with the category as the key and the corresponding classification as the value\n",
    "category_classification = {\n",
    "    'Eating Out': 'Variable',\n",
    "    'Shopping': 'Variable',\n",
    "    'Hobbies': 'Variable',\n",
    "    'Groceries': 'Variable',\n",
    "    'Rent + Bills': 'Fixed',\n",
    "    'Investment': 'Variable',\n",
    "    'Transport': 'Variable',\n",
    "    'Student Loan': 'Fixed',\n",
    "    'Travel': 'Variable',\n",
    "    'Healthcare': 'Variable',\n",
    "    'Selfcare': 'Variable'\n",
    "}\n",
    "\n",
    "# create a new column with the classifications using the map() function\n",
    "df01['Classification'] = df01['Category'].map(category_classification)\n",
    "\n",
    "# display the updated dataframe\n",
    "print(df01.head(10))\n"
   ]
  },
  {
   "attachments": {},
   "cell_type": "markdown",
   "metadata": {},
   "source": [
    "### Classifying to Nice to Have vs Necessary costs"
   ]
  },
  {
   "cell_type": "code",
   "execution_count": 781,
   "metadata": {},
   "outputs": [
    {
     "name": "stdout",
     "output_type": "stream",
     "text": [
      "     Category       Detail    Cost       Date Classification          Type\n",
      "0  Eating Out       Brunch   15.00 2022-07-25       Variable  Nice to have\n",
      "1    Shopping       Uniqlo  144.50 2022-07-25       Variable  Nice to have\n",
      "2     Hobbies  Salsa Class  130.00 2022-07-27       Variable  Nice to have\n",
      "3   Groceries    Groceries    6.78 2022-07-27       Variable     Necessary\n",
      "4  Eating Out       Ditsch    2.00 2022-07-27       Variable  Nice to have\n"
     ]
    }
   ],
   "source": [
    "# create a dictionary with the category as the key and the corresponding classification as the value\n",
    "category_type = {\n",
    "    'Eating Out': 'Nice to have',\n",
    "    'Shopping': 'Nice to have',\n",
    "    'Hobbies': 'Nice to have',\n",
    "    'Groceries': 'Necessary',\n",
    "    'Rent + Bills': 'Necessary',\n",
    "    'Investment': 'Nice to have',\n",
    "    'Transport': 'Necessary',\n",
    "    'Student Loan': 'Necessary',\n",
    "    'Travel': 'Nice to have',\n",
    "    'Healthcare': 'Necessary',\n",
    "    'Selfcare': 'Nice to have'\n",
    "}\n",
    "\n",
    "# create a new column with the classifications using the map() function\n",
    "df01['Type'] = df01['Category'].map(category_type)\n",
    "\n",
    "# display the updated dataframe\n",
    "print(df01.head())\n"
   ]
  },
  {
   "attachments": {},
   "cell_type": "markdown",
   "metadata": {},
   "source": [
    "### Looking at the data"
   ]
  },
  {
   "attachments": {},
   "cell_type": "markdown",
   "metadata": {},
   "source": [
    "#### Cost vs Category"
   ]
  },
  {
   "cell_type": "code",
   "execution_count": 782,
   "metadata": {},
   "outputs": [
    {
     "data": {
      "text/plain": [
       "Category\n",
       "Rent + Bills    3645.36\n",
       "Groceries       1405.87\n",
       "Shopping        1251.30\n",
       "Travel           828.72\n",
       "Eating Out       642.66\n",
       "Student Loan     597.38\n",
       "Transport        554.69\n",
       "Investment       487.00\n",
       "Hobbies          385.98\n",
       "Healthcare       340.05\n",
       "Selfcare         184.17\n",
       "Name: Cost, dtype: float64"
      ]
     },
     "execution_count": 782,
     "metadata": {},
     "output_type": "execute_result"
    }
   ],
   "source": [
    "# Calculate the total cost for each category\n",
    "category_costs = df01.groupby('Category')['Cost'].sum().round(2).sort_values(ascending=False)\n",
    "category_costs"
   ]
  },
  {
   "cell_type": "code",
   "execution_count": 783,
   "metadata": {},
   "outputs": [
    {
     "data": {
      "text/plain": [
       "Type\n",
       "Necessary       6543.35\n",
       "Nice to have    3779.83\n",
       "Name: Cost, dtype: float64"
      ]
     },
     "execution_count": 783,
     "metadata": {},
     "output_type": "execute_result"
    }
   ],
   "source": [
    "# Calculate the total cost for each category\n",
    "type_costs = df01.groupby('Type')['Cost'].sum().round(2).sort_values(ascending=False)\n",
    "type_costs"
   ]
  },
  {
   "cell_type": "code",
   "execution_count": 784,
   "metadata": {},
   "outputs": [
    {
     "data": {
      "text/plain": [
       "Classification\n",
       "Variable    6080.44\n",
       "Fixed       4242.74\n",
       "Name: Cost, dtype: float64"
      ]
     },
     "execution_count": 784,
     "metadata": {},
     "output_type": "execute_result"
    }
   ],
   "source": [
    "# Calculate the total cost for each category\n",
    "classification_costs = df01.groupby('Classification')['Cost'].sum().round(2).sort_values(ascending=False)\n",
    "classification_costs"
   ]
  },
  {
   "cell_type": "code",
   "execution_count": 785,
   "metadata": {},
   "outputs": [
    {
     "data": {
      "text/plain": [
       "Category\n",
       "Rent + Bills    35.31\n",
       "Groceries       13.62\n",
       "Shopping        12.12\n",
       "Travel           8.03\n",
       "Eating Out       6.23\n",
       "Student Loan     5.79\n",
       "Transport        5.37\n",
       "Investment       4.72\n",
       "Hobbies          3.74\n",
       "Healthcare       3.29\n",
       "Selfcare         1.78\n",
       "Name: Cost, dtype: float64"
      ]
     },
     "execution_count": 785,
     "metadata": {},
     "output_type": "execute_result"
    }
   ],
   "source": [
    "# Calculate the percentage of the total cost for each category\n",
    "category_percentages = ((category_costs / category_costs.sum()) * 100).round(2)\n",
    "category_percentages"
   ]
  },
  {
   "cell_type": "code",
   "execution_count": 786,
   "metadata": {},
   "outputs": [
    {
     "data": {
      "text/plain": [
       "Type\n",
       "Necessary       63.39\n",
       "Nice to have    36.61\n",
       "Name: Cost, dtype: float64"
      ]
     },
     "execution_count": 786,
     "metadata": {},
     "output_type": "execute_result"
    }
   ],
   "source": [
    "# Calculate the percentage of the cost for each type\n",
    "type_percentages = ((type_costs / type_costs.sum()) * 100).round(2)\n",
    "type_percentages"
   ]
  },
  {
   "cell_type": "code",
   "execution_count": 787,
   "metadata": {},
   "outputs": [
    {
     "data": {
      "text/plain": [
       "Classification\n",
       "Variable    58.9\n",
       "Fixed       41.1\n",
       "Name: Cost, dtype: float64"
      ]
     },
     "execution_count": 787,
     "metadata": {},
     "output_type": "execute_result"
    }
   ],
   "source": [
    "# Calculate the percentage of the cost for each classification\n",
    "classification_percentages = ((classification_costs / classification_costs.sum()) * 100).round(2)\n",
    "classification_percentages"
   ]
  },
  {
   "cell_type": "code",
   "execution_count": 788,
   "metadata": {},
   "outputs": [
    {
     "data": {
      "image/png": "[encoded data removed]",
      "text/plain": [
       "<Figure size 640x480 with 1 Axes>"
      ]
     },
     "metadata": {},
     "output_type": "display_data"
    }
   ],
   "source": [
    "# Create a bar chart of the total cost for each category\n",
    "fig, ax = plt.subplots()\n",
    "ax.bar(category_costs.index, category_costs)\n",
    "\n",
    "# Set the title and axis labels\n",
    "ax.set_title('Total Cost per Category')\n",
    "ax.set_xlabel('Category')\n",
    "ax.set_ylabel('Total Cost (Euro)')\n",
    "\n",
    "# Rotate the x-axis tick labels for better readability\n",
    "plt.xticks(rotation=45)\n",
    "\n",
    "# Show the plot\n",
    "plt.show()"
   ]
  },
  {
   "cell_type": "code",
   "execution_count": 789,
   "metadata": {},
   "outputs": [
    {
     "data": {
      "image/png": "[encoded data removed]",
      "text/plain": [
       "<Figure size 640x480 with 1 Axes>"
      ]
     },
     "metadata": {},
     "output_type": "display_data"
    }
   ],
   "source": [
    "# Create a pie chart of the percentage of the total cost for each category\n",
    "fig, ax = plt.subplots()\n",
    "ax.pie(category_percentages, labels=category_costs.index, autopct='%1.1f%%', startangle=90)\n",
    "\n",
    "# Set the title\n",
    "ax.set_title('Total Cost per Category')\n",
    "\n",
    "# Show the plot\n",
    "plt.show()"
   ]
  },
  {
   "cell_type": "code",
   "execution_count": 790,
   "metadata": {},
   "outputs": [
    {
     "data": {
      "image/png": "[encoded data removed]",
      "text/plain": [
       "<Figure size 640x480 with 1 Axes>"
      ]
     },
     "metadata": {},
     "output_type": "display_data"
    }
   ],
   "source": [
    "# Create a pie chart of the percentage of the Nice to Have vs Necessary\n",
    "fig, ax = plt.subplots()\n",
    "ax.pie(type_percentages, labels=type_percentages.index, autopct='%1.1f%%', startangle=90)\n",
    "\n",
    "# Set the title\n",
    "ax.set_title('Nice to Have vs Necessary')\n",
    "\n",
    "# Show the plot\n",
    "plt.show()"
   ]
  },
  {
   "cell_type": "code",
   "execution_count": 791,
   "metadata": {},
   "outputs": [
    {
     "data": {
      "image/png": "[encoded data removed]",
      "text/plain": [
       "<Figure size 640x480 with 1 Axes>"
      ]
     },
     "metadata": {},
     "output_type": "display_data"
    }
   ],
   "source": [
    "# Create a pie chart of the percentage of the variables vs fixed costs\n",
    "fig, ax = plt.subplots()\n",
    "ax.pie(classification_percentages, labels=classification_percentages.index, autopct='%1.1f%%', startangle=90)\n",
    "\n",
    "# Set the title\n",
    "ax.set_title('Fixed vs Variable costs')\n",
    "\n",
    "# Show the plot\n",
    "plt.show()"
   ]
  },
  {
   "attachments": {},
   "cell_type": "markdown",
   "metadata": {},
   "source": [
    "#### Looking it at it in a month by month basis"
   ]
  },
  {
   "cell_type": "code",
   "execution_count": 792,
   "metadata": {},
   "outputs": [],
   "source": [
    "# set date column as the index\n",
    "df01.set_index('Date', inplace=True)"
   ]
  },
  {
   "cell_type": "code",
   "execution_count": 793,
   "metadata": {},
   "outputs": [
    {
     "data": {
      "image/png": "[encoded data removed]",
      "text/plain": [
       "<Figure size 640x480 with 1 Axes>"
      ]
     },
     "metadata": {},
     "output_type": "display_data"
    }
   ],
   "source": [
    "# groupby and sum by month, excluding July\n",
    "monthly_cost = df01.loc[df01.index.month != 7, 'Cost'].resample('M').sum()\n",
    "\n",
    "# modify the x-axis labels\n",
    "x_labels = ['Aug 22', 'Sep 22', 'Oct 22', 'Nov 22', 'Dec 22', 'Jan 22', 'Feb 22']\n",
    "\n",
    "# plot the monthly cost as a bar chart\n",
    "ax = monthly_cost.plot.bar(y=monthly_cost.values)\n",
    "\n",
    "# set the x-axis tick labels\n",
    "ax.set_xticklabels(x_labels)\n",
    "\n",
    "# set the axis labels and title\n",
    "ax.set_xlabel('Month')\n",
    "ax.set_ylabel('Total Cost')\n",
    "ax.set_title('Monthly Cost (excluding July)')\n",
    "\n",
    "# display the chart\n",
    "plt.show()"
   ]
  }
 ],
 "metadata": {
  "kernelspec": {
   "display_name": "py310",
   "language": "python",
   "name": "py310"
  },
  "language_info": {
   "codemirror_mode": {
    "name": "ipython",
    "version": 3
   },
   "file_extension": ".py",
   "mimetype": "text/x-python",
   "name": "python",
   "nbconvert_exporter": "python",
   "pygments_lexer": "ipython3",
   "version": "3.9.13"
  },
  "orig_nbformat": 4,
  "vscode": {
   "interpreter": {
    "hash": "63d10bd90fcb75d3e3fff2b3fd48214af6a02618a076037a7f9d8a6eed4b6a0a"
   }
  }
 },
 "nbformat": 4,
 "nbformat_minor": 2
}
