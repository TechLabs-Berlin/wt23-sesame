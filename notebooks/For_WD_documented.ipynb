{
 "cells": [
  {
   "attachments": {},
   "cell_type": "markdown",
   "metadata": {},
   "source": [
    "# Notebook : Financial spendings dataset"
   ]
  },
  {
   "attachments": {},
   "cell_type": "markdown",
   "metadata": {},
   "source": [
    "This notebook is intended for WD team. For each line code, a description of what has been done and why is provided."
   ]
  },
  {
   "attachments": {},
   "cell_type": "markdown",
   "metadata": {},
   "source": [
    "By importing the most important libraries, the code is making it possible to perform a wide range of data analysis and visualization tasks using Python.\n",
    "\n",
    "- \"pandas\": provides data structures for efficiently storing and manipulating large datasets\n",
    "- \"numpy\": provides tools for performing numerical operations on arrays and matrices\n",
    "- \"matplotlib.pyplot\": provides functions for creating visualizations, such as plots and charts\n",
    "- \"seaborn\": provides a high-level interface for creating statistical graphics, such as heatmaps and scatterplots\n",
    "- \"os\": provides a way to interact with the operating system, such as navigating directories and accessing files."
   ]
  },
  {
   "cell_type": "code",
   "execution_count": 1,
   "metadata": {},
   "outputs": [
    {
     "ename": "ModuleNotFoundError",
     "evalue": "No module named 'pandas'",
     "output_type": "error",
     "traceback": [
      "\u001b[1;31m---------------------------------------------------------------------------\u001b[0m",
      "\u001b[1;31mModuleNotFoundError\u001b[0m                       Traceback (most recent call last)",
      "Cell \u001b[1;32mIn[1], line 3\u001b[0m\n\u001b[0;32m      1\u001b[0m \u001b[39m#Importing necessary libraries\u001b[39;00m\n\u001b[1;32m----> 3\u001b[0m \u001b[39mimport\u001b[39;00m \u001b[39mpandas\u001b[39;00m \u001b[39mas\u001b[39;00m \u001b[39mpd\u001b[39;00m\n\u001b[0;32m      4\u001b[0m \u001b[39mimport\u001b[39;00m \u001b[39mnumpy\u001b[39;00m \u001b[39mas\u001b[39;00m \u001b[39mnp\u001b[39;00m\n\u001b[0;32m      5\u001b[0m \u001b[39mimport\u001b[39;00m \u001b[39mmatplotlib\u001b[39;00m\u001b[39m.\u001b[39;00m\u001b[39mpyplot\u001b[39;00m \u001b[39mas\u001b[39;00m \u001b[39mplt\u001b[39;00m\n",
      "\u001b[1;31mModuleNotFoundError\u001b[0m: No module named 'pandas'"
     ]
    }
   ],
   "source": [
    "#Importing necessary libraries\n",
    "\n",
    "import pandas as pd\n",
    "import numpy as np\n",
    "import matplotlib.pyplot as plt\n",
    "import seaborn as sns\n",
    "import os"
   ]
  },
  {
   "attachments": {},
   "cell_type": "markdown",
   "metadata": {},
   "source": [
    "# Dataset Pre-processing"
   ]
  },
  {
   "attachments": {},
   "cell_type": "markdown",
   "metadata": {},
   "source": [
    "Importing data as a CSV file into Python\n",
    "We do these lines of code to get the current working directory, define a variable to store the path to a CSV file, and read the data from the CSV file into a pandas DataFrame. This is a typical data loading process for a data analysis or machine learning project, where we need to load data into memory to start working with it.\n",
    "\n"
   ]
  },
  {
   "cell_type": "code",
   "execution_count": null,
   "metadata": {},
   "outputs": [],
   "source": [
    "# Reading in the CSV\n",
    "# This is a function call to the os module, which provides a way to interact with the operating system. The getcwd() function returns the current working directory as a string.\n",
    "os.getcwd()\n",
    "file_path01 = r\"../data/cristina_dataset/Cristina_Dataset_230316.csv\"\n",
    "# This line reads the CSV file specified by file_path01 into a pandas DataFrame and assigns it to the variable df. The pd prefix indicates that the pandas module has been imported and is being used to read the CSV file. The resulting DataFrame can be manipulated and analyzed using pandas functions and methods.\n",
    "df = pd.read_csv(file_path01)"
   ]
  },
  {
   "attachments": {},
   "cell_type": "markdown",
   "metadata": {},
   "source": [
    "\"df\" stands for \"dataframe\", which is a tabular data structure provided by the Pandas library.\n",
    "It prints an overview of the rows and columns."
   ]
  },
  {
   "cell_type": "code",
   "execution_count": null,
   "metadata": {},
   "outputs": [
    {
     "data": {
      "text/html": [
       "<div>\n",
       "<style scoped>\n",
       "    .dataframe tbody tr th:only-of-type {\n",
       "        vertical-align: middle;\n",
       "    }\n",
       "\n",
       "    .dataframe tbody tr th {\n",
       "        vertical-align: top;\n",
       "    }\n",
       "\n",
       "    .dataframe thead th {\n",
       "        text-align: right;\n",
       "    }\n",
       "</style>\n",
       "<table border=\"1\" class=\"dataframe\">\n",
       "  <thead>\n",
       "    <tr style=\"text-align: right;\">\n",
       "      <th></th>\n",
       "      <th>Category</th>\n",
       "      <th>Detail</th>\n",
       "      <th>Cost</th>\n",
       "      <th>Date</th>\n",
       "    </tr>\n",
       "  </thead>\n",
       "  <tbody>\n",
       "    <tr>\n",
       "      <th>0</th>\n",
       "      <td>Eating Out</td>\n",
       "      <td>Brunch</td>\n",
       "      <td>€15.00</td>\n",
       "      <td>25-Jul-2022</td>\n",
       "    </tr>\n",
       "    <tr>\n",
       "      <th>1</th>\n",
       "      <td>Shopping</td>\n",
       "      <td>Uniqlo</td>\n",
       "      <td>€144.50</td>\n",
       "      <td>25-Jul-2022</td>\n",
       "    </tr>\n",
       "    <tr>\n",
       "      <th>2</th>\n",
       "      <td>Hobbies</td>\n",
       "      <td>Salsa Class</td>\n",
       "      <td>€130.00</td>\n",
       "      <td>27-Jul-2022</td>\n",
       "    </tr>\n",
       "    <tr>\n",
       "      <th>3</th>\n",
       "      <td>Groceries</td>\n",
       "      <td>Groceries</td>\n",
       "      <td>€6.78</td>\n",
       "      <td>27-Jul-2022</td>\n",
       "    </tr>\n",
       "    <tr>\n",
       "      <th>4</th>\n",
       "      <td>Eating Out</td>\n",
       "      <td>Ditsch</td>\n",
       "      <td>€2.00</td>\n",
       "      <td>27-Jul-2022</td>\n",
       "    </tr>\n",
       "    <tr>\n",
       "      <th>...</th>\n",
       "      <td>...</td>\n",
       "      <td>...</td>\n",
       "      <td>...</td>\n",
       "      <td>...</td>\n",
       "    </tr>\n",
       "    <tr>\n",
       "      <th>324</th>\n",
       "      <td>Groceries</td>\n",
       "      <td>Groceries</td>\n",
       "      <td>€8.26</td>\n",
       "      <td>21-Feb-2023</td>\n",
       "    </tr>\n",
       "    <tr>\n",
       "      <th>325</th>\n",
       "      <td>Groceries</td>\n",
       "      <td>Groceries</td>\n",
       "      <td>€27.25</td>\n",
       "      <td>22-Feb-2023</td>\n",
       "    </tr>\n",
       "    <tr>\n",
       "      <th>326</th>\n",
       "      <td>Groceries</td>\n",
       "      <td>Groceries</td>\n",
       "      <td>€13.69</td>\n",
       "      <td>23-Feb-2023</td>\n",
       "    </tr>\n",
       "    <tr>\n",
       "      <th>327</th>\n",
       "      <td>Rent + Bills</td>\n",
       "      <td>Phone Norway</td>\n",
       "      <td>€4.50</td>\n",
       "      <td>24-Feb-2023</td>\n",
       "    </tr>\n",
       "    <tr>\n",
       "      <th>328</th>\n",
       "      <td>Eating Out</td>\n",
       "      <td>Coffee</td>\n",
       "      <td>€4.31</td>\n",
       "      <td>24-Feb-2023</td>\n",
       "    </tr>\n",
       "  </tbody>\n",
       "</table>\n",
       "<p>329 rows × 4 columns</p>\n",
       "</div>"
      ],
      "text/plain": [
       "         Category        Detail     Cost         Date\n",
       "0      Eating Out        Brunch   €15.00  25-Jul-2022\n",
       "1        Shopping        Uniqlo  €144.50  25-Jul-2022\n",
       "2         Hobbies   Salsa Class  €130.00  27-Jul-2022\n",
       "3       Groceries     Groceries    €6.78  27-Jul-2022\n",
       "4      Eating Out        Ditsch    €2.00  27-Jul-2022\n",
       "..            ...           ...      ...          ...\n",
       "324     Groceries     Groceries    €8.26  21-Feb-2023\n",
       "325     Groceries     Groceries   €27.25  22-Feb-2023\n",
       "326     Groceries     Groceries   €13.69  23-Feb-2023\n",
       "327  Rent + Bills  Phone Norway    €4.50  24-Feb-2023\n",
       "328    Eating Out        Coffee    €4.31  24-Feb-2023\n",
       "\n",
       "[329 rows x 4 columns]"
      ]
     },
     "execution_count": 126,
     "metadata": {},
     "output_type": "execute_result"
    }
   ],
   "source": [
    "#Looking at the dataset\n",
    "df"
   ]
  },
  {
   "attachments": {},
   "cell_type": "markdown",
   "metadata": {},
   "source": [
    "## Data Inspection and cleaning"
   ]
  },
  {
   "attachments": {},
   "cell_type": "markdown",
   "metadata": {},
   "source": [
    "### Checking for NA values\n",
    "The code is composed of three method calls chained together using the dot notation:\n",
    "\n",
    "df.isna(): This method returns a DataFrame of the same shape as df, where each element is a boolean value indicating whether that element is missing (i.e., NaN or None) or not.\n",
    "\n",
    ".sum(): This method is then called on the boolean DataFrame returned by df.isna(). It calculates the sum of all True values along each column, effectively counting the number of missing values in each column."
   ]
  },
  {
   "cell_type": "code",
   "execution_count": null,
   "metadata": {},
   "outputs": [
    {
     "data": {
      "text/plain": [
       "Category    0\n",
       "Detail      0\n",
       "Cost        0\n",
       "Date        0\n",
       "dtype: int64"
      ]
     },
     "execution_count": 127,
     "metadata": {},
     "output_type": "execute_result"
    }
   ],
   "source": [
    "#Checking for NA values\n",
    "#Return a Pandas Series object that contains the count of missing values in each column of the DataFrame df.\n",
    "df.isna().sum()"
   ]
  },
  {
   "cell_type": "code",
   "execution_count": null,
   "metadata": {},
   "outputs": [
    {
     "data": {
      "text/plain": [
       "Category    object\n",
       "Detail      object\n",
       "Cost        object\n",
       "Date        object\n",
       "dtype: object"
      ]
     },
     "execution_count": 128,
     "metadata": {},
     "output_type": "execute_result"
    }
   ],
   "source": [
    "#Checking data types\n",
    "df.dtypes"
   ]
  },
  {
   "cell_type": "code",
   "execution_count": null,
   "metadata": {},
   "outputs": [
    {
     "name": "stdout",
     "output_type": "stream",
     "text": [
      "The dataframe has 329 rows and 4 columns.\n"
     ]
    }
   ],
   "source": [
    "# Checking the shape of the dataframe\n",
    "print(\"The dataframe has \" +str(df.shape[0]) +\" rows and \" +str(df.shape[1])+ \" columns.\")"
   ]
  },
  {
   "cell_type": "code",
   "execution_count": null,
   "metadata": {},
   "outputs": [
    {
     "name": "stdout",
     "output_type": "stream",
     "text": [
      "Empty DataFrame\n",
      "Columns: [Category, Detail, Cost, Date]\n",
      "Index: []\n"
     ]
    }
   ],
   "source": [
    "# check for duplicate rows where every column value is duplicated\n",
    "duplicate_rows = df[df.duplicated(subset=df.columns, keep=False)]\n",
    "\n",
    "# print the duplicate rows\n",
    "print(duplicate_rows)"
   ]
  },
  {
   "attachments": {},
   "cell_type": "markdown",
   "metadata": {},
   "source": [
    "### Conversion of date \n",
    "This line of code converts the 'Date' column in a pandas DataFrame df from a string format to a datetime format using the pd.to_datetime() function from the Pandas library.\n",
    "\n",
    "The pd.to_datetime() function is important because datetime objects are a more suitable format for working with dates in data analysis and machine learning tasks. With datetime objects, you can easily manipulate dates and perform operations such as calculating time differences between dates.\n",
    "\n",
    "Additionally, having the dates in datetime format allows for easier sorting and filtering of the data based on dates. This can be useful for tasks such as time series analysis or plotting data over time."
   ]
  },
  {
   "cell_type": "code",
   "execution_count": null,
   "metadata": {},
   "outputs": [],
   "source": [
    "# Convert the 'Date' column to datetime\n",
    "df['Date'] = pd.to_datetime(df['Date'])"
   ]
  },
  {
   "attachments": {},
   "cell_type": "markdown",
   "metadata": {},
   "source": [
    "### Conversion from string to float\n",
    "\n",
    "This line of code is important because it is converting a string column 'Cost' in a pandas DataFrame df to a numeric (float) data type.\n",
    "\n",
    "The code is doing this by first replacing the Euro sign '€' in each cell of the 'Cost' column with an empty string, effectively removing it. Then it is using the astype() method to convert the resulting strings to float data type.\n",
    "\n",
    "This is important because many statistical and machine learning operations require numeric data. By converting the 'Cost' column from a string data type to a float data type, we can perform mathematical operations on it and use it in modeling tasks.\n",
    "\n",
    "Without this line of code, the 'Cost' column would have remained as strings, and any mathematical operations on it would have resulted in errors."
   ]
  },
  {
   "cell_type": "code",
   "execution_count": null,
   "metadata": {},
   "outputs": [],
   "source": [
    "# Convert the 'cost' column to float\n",
    "df['Cost'] = df['Cost'].str.replace('€', '').astype(float)"
   ]
  },
  {
   "cell_type": "code",
   "execution_count": null,
   "metadata": {},
   "outputs": [
    {
     "data": {
      "text/plain": [
       "Category            object\n",
       "Detail              object\n",
       "Cost               float64\n",
       "Date        datetime64[ns]\n",
       "dtype: object"
      ]
     },
     "execution_count": 133,
     "metadata": {},
     "output_type": "execute_result"
    }
   ],
   "source": [
    "# Checking code worked\n",
    "df.dtypes"
   ]
  },
  {
   "attachments": {},
   "cell_type": "markdown",
   "metadata": {},
   "source": [
    "### The first and last day of the dataset\n",
    "By finding the minimum and maximum values in the Date column, you can get a sense of the range of dates covered by the data in the DataFrame. This information can be useful for data exploration and analysis, as it can help you understand how far back in time your data goes, and whether there are any missing dates in the dataset.\n",
    "\n",
    "Additionally, knowing the range of dates can help you determine if your data is complete and if you need to fill in any gaps"
   ]
  },
  {
   "cell_type": "code",
   "execution_count": null,
   "metadata": {},
   "outputs": [
    {
     "data": {
      "text/plain": [
       "(Timestamp('2022-07-25 00:00:00'), Timestamp('2023-02-24 00:00:00'))"
      ]
     },
     "execution_count": 134,
     "metadata": {},
     "output_type": "execute_result"
    }
   ],
   "source": [
    "# Checking the first and last day of the dataset\n",
    "df.Date.min(),df.Date.max()"
   ]
  },
  {
   "attachments": {},
   "cell_type": "markdown",
   "metadata": {},
   "source": [
    "### Count of data points per month\n",
    " Displays the count of values in the \"Category\" column for each month of the year. This can provide valuable insights into the frequency and distribution of different categories throughout the year, which may be useful for trend analysis. As you can see below, July has only 13 data points."
   ]
  },
  {
   "cell_type": "code",
   "execution_count": null,
   "metadata": {},
   "outputs": [
    {
     "data": {
      "text/plain": [
       "Date\n",
       "1     40\n",
       "2     46\n",
       "7     13\n",
       "8     53\n",
       "9     47\n",
       "10    44\n",
       "11    46\n",
       "12    40\n",
       "Name: Category, dtype: int64"
      ]
     },
     "execution_count": 135,
     "metadata": {},
     "output_type": "execute_result"
    }
   ],
   "source": [
    "# Count of data points per month\n",
    "df.groupby(df.Date.dt.month)['Category'].count()"
   ]
  },
  {
   "attachments": {},
   "cell_type": "markdown",
   "metadata": {},
   "source": [
    "### Classification by month period\n",
    "\n",
    "The following lines of code creates a new column named \"Month_period\" in a pandas DataFrame called \"df\". The purpose of this new column is to label each row of the DataFrame with a period corresponding to the month in which the row's date falls.\n",
    "\n",
    "The script defines a dictionary named \"periods\" that maps each period label to a tuple of start and end dates. These dates define the time span of each period, which runs from the 25th of one month to the 24th of the following month. The script then sorts the keys of the \"periods\" dictionary in chronological order based on the start date of each period.\n",
    "\n",
    "Next, the script iterates over the \"periods\" dictionary and uses the start and end dates to create a boolean mask that selects the rows of the DataFrame that fall within each period. The script then assigns the corresponding period label to a new column named \"Month_period\" for each selected row.\n",
    "\n",
    "Finally, the script prints the head of the DataFrame to check the new column has been added correctly.\n",
    "\n",
    "The script is important because it enables the labeling of rows in the DataFrame with a period, which can facilitate the analysis of data over time. This approach of creating a period label based on fixed start and end dates can also help to standardize the analysis of data that spans multiple months."
   ]
  },
  {
   "cell_type": "code",
   "execution_count": null,
   "metadata": {},
   "outputs": [
    {
     "data": {
      "text/html": [
       "<div>\n",
       "<style scoped>\n",
       "    .dataframe tbody tr th:only-of-type {\n",
       "        vertical-align: middle;\n",
       "    }\n",
       "\n",
       "    .dataframe tbody tr th {\n",
       "        vertical-align: top;\n",
       "    }\n",
       "\n",
       "    .dataframe thead th {\n",
       "        text-align: right;\n",
       "    }\n",
       "</style>\n",
       "<table border=\"1\" class=\"dataframe\">\n",
       "  <thead>\n",
       "    <tr style=\"text-align: right;\">\n",
       "      <th></th>\n",
       "      <th>Category</th>\n",
       "      <th>Detail</th>\n",
       "      <th>Cost</th>\n",
       "      <th>Date</th>\n",
       "      <th>Month_period</th>\n",
       "    </tr>\n",
       "  </thead>\n",
       "  <tbody>\n",
       "    <tr>\n",
       "      <th>0</th>\n",
       "      <td>Eating Out</td>\n",
       "      <td>Brunch</td>\n",
       "      <td>15.00</td>\n",
       "      <td>2022-07-25</td>\n",
       "      <td>Jul - Aug 22</td>\n",
       "    </tr>\n",
       "    <tr>\n",
       "      <th>1</th>\n",
       "      <td>Shopping</td>\n",
       "      <td>Uniqlo</td>\n",
       "      <td>144.50</td>\n",
       "      <td>2022-07-25</td>\n",
       "      <td>Jul - Aug 22</td>\n",
       "    </tr>\n",
       "    <tr>\n",
       "      <th>2</th>\n",
       "      <td>Hobbies</td>\n",
       "      <td>Salsa Class</td>\n",
       "      <td>130.00</td>\n",
       "      <td>2022-07-27</td>\n",
       "      <td>Jul - Aug 22</td>\n",
       "    </tr>\n",
       "    <tr>\n",
       "      <th>3</th>\n",
       "      <td>Groceries</td>\n",
       "      <td>Groceries</td>\n",
       "      <td>6.78</td>\n",
       "      <td>2022-07-27</td>\n",
       "      <td>Jul - Aug 22</td>\n",
       "    </tr>\n",
       "    <tr>\n",
       "      <th>4</th>\n",
       "      <td>Eating Out</td>\n",
       "      <td>Ditsch</td>\n",
       "      <td>2.00</td>\n",
       "      <td>2022-07-27</td>\n",
       "      <td>Jul - Aug 22</td>\n",
       "    </tr>\n",
       "  </tbody>\n",
       "</table>\n",
       "</div>"
      ],
      "text/plain": [
       "     Category       Detail    Cost       Date  Month_period\n",
       "0  Eating Out       Brunch   15.00 2022-07-25  Jul - Aug 22\n",
       "1    Shopping       Uniqlo  144.50 2022-07-25  Jul - Aug 22\n",
       "2     Hobbies  Salsa Class  130.00 2022-07-27  Jul - Aug 22\n",
       "3   Groceries    Groceries    6.78 2022-07-27  Jul - Aug 22\n",
       "4  Eating Out       Ditsch    2.00 2022-07-27  Jul - Aug 22"
      ]
     },
     "execution_count": 136,
     "metadata": {},
     "output_type": "execute_result"
    }
   ],
   "source": [
    "# Defining the start and end dates for each period.\n",
    "# Pay day falls close to or on the 25th of every month.  \n",
    "# Period starts on the 25th until the 24th of the following month.\n",
    "periods = {'Jul - Aug 22': ('2022-07-25', '2022-08-24'),\n",
    "           'Aug - Sep 22': ('2022-08-25', '2022-09-24'),\n",
    "           'Sep - Oct 22': ('2022-09-25', '2022-10-24'),\n",
    "           'Oct - Nov 22': ('2022-10-25', '2022-11-24'),\n",
    "           'Nov - Dec 22': ('2022-11-25', '2022-12-24'),\n",
    "           'Dec - Jan 22': ('2022-12-25', '2023-01-24'),\n",
    "           'Jan - Feb 23': ('2023-01-25', '2023-02-24')}\n",
    "\n",
    "# Sort the keys in chronological order\n",
    "periods = dict(sorted(periods.items(), key=lambda x: pd.to_datetime(x[1][0])))\n",
    "\n",
    "# Iterating over the periods and creating a new column with the corresponding period label\n",
    "for period, dates in periods.items():\n",
    "    start_date = pd.to_datetime(dates[0])\n",
    "    end_date = pd.to_datetime(dates[1])\n",
    "    mask = (df['Date'] >= start_date) & (df['Date'] <= end_date)\n",
    "    df.loc[mask, 'Month_period'] = period\n",
    "\n",
    "# Checking the new column\n",
    "df.head()"
   ]
  },
  {
   "attachments": {},
   "cell_type": "markdown",
   "metadata": {},
   "source": [
    "### Monthly Period vs Cost vs Category"
   ]
  },
  {
   "attachments": {},
   "cell_type": "markdown",
   "metadata": {},
   "source": [
    "These lines of code perform two operations:\n",
    "\n",
    "- Grouping: The first line groups the rows of a Pandas DataFrame df by the values in the column 'Month_period', and calculates the sum of the corresponding values in the 'Cost' column for each group. The resulting object month_period_costs is a Pandas Series that contains the total costs for each unique month_period.\n",
    "\n",
    "- Sorting: The second line sorts the values in month_period_costs according to the chronological order of the periods. The ordering is determined by the periods dictionary, which presumably maps the month_period values to their corresponding chronological order.\n",
    "\n",
    "The output of these operations is a Pandas Series object month_period_costs that contains the total costs for each unique month_period, sorted in chronological order.\n",
    "\n",
    "These lines of code are important for several reasons. Firstly, they allow for quick and efficient analysis of large datasets by grouping and summarizing data. Secondly, by sorting the data in chronological order, it is easier to identify trends and patterns over time. Finally, the use of the Pandas library in Python is highly effective for handling and analyzing tabular data, making it a powerful tool for data analysis and scientific research.\n"
   ]
  },
  {
   "cell_type": "code",
   "execution_count": null,
   "metadata": {},
   "outputs": [
    {
     "name": "stdout",
     "output_type": "stream",
     "text": [
      "Month_period\n",
      "Jul - Aug 22    1728.87\n",
      "Aug - Sep 22    1776.55\n",
      "Sep - Oct 22    1631.22\n",
      "Oct - Nov 22    1098.53\n",
      "Nov - Dec 22    1374.09\n",
      "Dec - Jan 22    1178.47\n",
      "Jan - Feb 23    1593.46\n",
      "Name: Cost, dtype: float64\n"
     ]
    }
   ],
   "source": [
    "# Grouping by month_period and summing the costs\n",
    "month_period_costs = df.groupby('Month_period')['Cost'].sum().round(2)\n",
    "\n",
    "# Sort the results by the chronological order of the periods\n",
    "month_period_costs = month_period_costs.reindex(list(periods.keys()))\n",
    "\n",
    "print(month_period_costs)"
   ]
  },
  {
   "cell_type": "code",
   "execution_count": null,
   "metadata": {},
   "outputs": [
    {
     "name": "stdout",
     "output_type": "stream",
     "text": [
      "Month_period  Category    \n",
      "Jul - Aug 22  Eating Out      116.40\n",
      "              Shopping        201.29\n",
      "              Hobbies         174.34\n",
      "              Groceries       362.07\n",
      "              Rent + Bills    637.75\n",
      "                               ...  \n",
      "Jan - Feb 23  Transport       180.77\n",
      "              Student Loan     82.43\n",
      "              Travel          290.62\n",
      "              Healthcare       67.11\n",
      "              Selfcare           NaN\n",
      "Name: Cost, Length: 77, dtype: float64\n"
     ]
    }
   ],
   "source": [
    "# Grouping by month_period and category and summing the costs, then sorting in chronological order\n",
    "month_period_category_costs = df.groupby(['Month_period', 'Category'])['Cost'].sum().round(2)\n",
    "month_period_category_costs = month_period_category_costs.reindex(pd.MultiIndex.from_product([periods.keys(), df['Category'].unique()], names=['Month_period', 'Category']))\n",
    "\n",
    "print(month_period_category_costs)"
   ]
  },
  {
   "cell_type": "markdown",
   "metadata": {},
   "source": [
    "# Visualizations"
   ]
  },
  {
   "attachments": {},
   "cell_type": "markdown",
   "metadata": {},
   "source": [
    "**Bar chart**"
   ]
  },
  {
   "attachments": {},
   "cell_type": "markdown",
   "metadata": {},
   "source": [
    "These lines of code create a stacked bar chart that displays the total cost by category for each month period. The chart also includes a dotted horizontal line at the average cost per month period.\n",
    "\n",
    "These lines of code are important because they allow us to quickly visualize and analyze the cost data by category and month period. The stacked bar chart makes it easy to compare the relative costs of each category across different periods, and the dotted line provides a reference for the average cost per period. This kind of visualization can help identify trends, patterns, and outliers in the data, as well as inform decision-making and resource allocation."
   ]
  },
  {
   "cell_type": "code",
   "execution_count": null,
   "metadata": {},
   "outputs": [
    {
     "data": {
      "image/png": "[encoded data removed]",
      "text/plain": [
       "<Figure size 1000x600 with 1 Axes>"
      ]
     },
     "metadata": {},
     "output_type": "display_data"
    }
   ],
   "source": [
    "# Grouping by month_period and category and summing the costs, then sorting in chronological order\n",
    "month_period_category_costs = df.groupby(['Month_period', 'Category'])['Cost'].sum().round(2)\n",
    "month_period_category_costs = month_period_category_costs.unstack(level=-1).reindex(list(periods.keys()))\n",
    "\n",
    "# Calculate the total cost per month period\n",
    "total_cost = month_period_category_costs.sum(axis=1)\n",
    "\n",
    "# Calculate the average cost per month period to show in a dotted line\n",
    "avg_cost = total_cost.mean()\n",
    "\n",
    "# Create a stacked bar chart\n",
    "ax = month_period_category_costs.plot(kind='bar', stacked=True, figsize=(10, 6))\n",
    "\n",
    "# Add a dotted horizontal line at the average cost per month period\n",
    "ax.axhline(y=avg_cost, color='black', linestyle='--')\n",
    "\n",
    "# Add labels and a legend\n",
    "ax.set_title('Monthly Costs by Category')\n",
    "ax.set_xlabel('Month Period')\n",
    "ax.set_ylabel('Cost')\n",
    "ax.legend(title='Category', bbox_to_anchor=(1, 1))\n",
    "\n",
    "# Show the plot\n",
    "plt.show()\n",
    "\n"
   ]
  }
 ],
 "metadata": {
  "kernelspec": {
   "display_name": "Python 3",
   "language": "python",
   "name": "python3"
  },
  "language_info": {
   "codemirror_mode": {
    "name": "ipython",
    "version": 3
   },
   "file_extension": ".py",
   "mimetype": "text/x-python",
   "name": "python",
   "nbconvert_exporter": "python",
   "pygments_lexer": "ipython3",
   "version": "3.10.10"
  },
  "orig_nbformat": 4
 },
 "nbformat": 4,
 "nbformat_minor": 2
}
