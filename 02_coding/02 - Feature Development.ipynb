{
 "cells": [
  {
   "cell_type": "code",
   "execution_count": 1,
   "metadata": {},
   "outputs": [],
   "source": [
    "import pandas as pd\n",
    "import os\n",
    "import pytesseract\n",
    "import PIL.Image\n",
    "import cv2"
   ]
  },
  {
   "cell_type": "code",
   "execution_count": 2,
   "metadata": {},
   "outputs": [
    {
     "data": {
      "text/plain": [
       "'c:\\\\Users\\\\wasy\\\\Desktop\\\\SESAME\\\\02_coding'"
      ]
     },
     "execution_count": 2,
     "metadata": {},
     "output_type": "execute_result"
    }
   ],
   "source": [
    "os.getcwd()"
   ]
  },
  {
   "attachments": {},
   "cell_type": "markdown",
   "metadata": {},
   "source": [
    "# Pytesseract for Optical Character Recognition"
   ]
  },
  {
   "cell_type": "code",
   "execution_count": 3,
   "metadata": {},
   "outputs": [],
   "source": [
    "#embed the location of tesseract.exe\n",
    "pytesseract.pytesseract.tesseract_cmd = r'C:\\Program Files\\Tesseract-OCR\\tesseract.exe'"
   ]
  },
  {
   "cell_type": "code",
   "execution_count": 7,
   "metadata": {},
   "outputs": [
    {
     "data": {
      "text/plain": [
       "'c:\\\\Users\\\\wasy\\\\Desktop\\\\SESAME\\\\02_coding'"
      ]
     },
     "execution_count": 7,
     "metadata": {},
     "output_type": "execute_result"
    }
   ],
   "source": [
    "os.getcwd()"
   ]
  },
  {
   "cell_type": "code",
   "execution_count": 8,
   "metadata": {},
   "outputs": [
    {
     "name": "stdout",
     "output_type": "stream",
     "text": [
      "; , WE\n",
      "Rheinstr. 30\n",
      "12161 Berlin\n",
      "\n",
      "Telefon: 030 / 85074370\n",
      "UID Nr. : DE812706034\n",
      "\n",
      "RUCOTELLA KAESE 4°03 B\n",
      "Handeingabe E-Bon 0,193 kg\n",
      "FEIGENSENFSAUCE 4,29 B\n",
      "Versch. Sorten 2,19 B\n",
      "CIABATTA 0,99 B\n",
      "PANE RUSTICO 1,39 B\n",
      "CRACKER PAPRIKA 2,49 B\n",
      "TS CRACK. SALT 2,49 B .\n",
      "HUMMUS NATUR 2, (0B\n",
      "ZITRONE BIO 1,58 B\n",
      "\n",
      "2 Stk x Q, 79\n",
      "SALAT SALATTRIO 1,79 B\n",
      "GURKE MINI 1,96 B\n",
      "\n",
      "4 Stk x 0, 49\n",
      "BIO EIJER KL. M-L 2,39 B\n",
      "FR. BIO HEUMI. 1,99 B\n",
      "ESSIGESSENZ HELL 1,49 B\n",
      "SALTLETTS 2,19 B\n",
      "UNIV MEGAPERLS 4,59 A\n",
      "KLAPPBOX 8,99 A\n",
      "SUMME EUR 47,54\n",
      "Geg. Maestro EUR 47,54\n",
      "\n",
      "* x Kundenbeleg * *\n",
      "\n",
      "Datum: 11. 02. 2023\n",
      "Unr zeit 14:01:06 thy\n",
      "Lom ra Ni.\n",
      "\n",
      ", * Amerie\n",
      "\n"
     ]
    }
   ],
   "source": [
    "#potential modes for psm (1,3,4,5,6,11,12)\n",
    "myconfig = r\"--psm 6--oem 3\"\n",
    "text = pytesseract.image_to_string(PIL.Image.open(r\"..\\01_data\\sample_receipt\\IMG-4652.jpg\"), config=myconfig)\n",
    "print(text)"
   ]
  },
  {
   "cell_type": "code",
   "execution_count": 9,
   "metadata": {},
   "outputs": [
    {
     "ename": "AttributeError",
     "evalue": "'NoneType' object has no attribute 'shape'",
     "output_type": "error",
     "traceback": [
      "\u001b[1;31m---------------------------------------------------------------------------\u001b[0m",
      "\u001b[1;31mAttributeError\u001b[0m                            Traceback (most recent call last)",
      "\u001b[1;32m~\\AppData\\Local\\Temp\\ipykernel_21648\\3426304441.py\u001b[0m in \u001b[0;36m<cell line: 2>\u001b[1;34m()\u001b[0m\n\u001b[0;32m      1\u001b[0m \u001b[0mimg\u001b[0m \u001b[1;33m=\u001b[0m \u001b[0mcv2\u001b[0m\u001b[1;33m.\u001b[0m\u001b[0mimread\u001b[0m\u001b[1;33m(\u001b[0m\u001b[1;34mr\".\\01_data\\sample_receipt\\IMG-4652.jpg\"\u001b[0m\u001b[1;33m)\u001b[0m\u001b[1;33m\u001b[0m\u001b[1;33m\u001b[0m\u001b[0m\n\u001b[1;32m----> 2\u001b[1;33m \u001b[0mheight\u001b[0m\u001b[1;33m,\u001b[0m \u001b[0mwidth\u001b[0m\u001b[1;33m,\u001b[0m \u001b[0m_\u001b[0m \u001b[1;33m=\u001b[0m \u001b[0mimg\u001b[0m\u001b[1;33m.\u001b[0m\u001b[0mshape\u001b[0m\u001b[1;33m\u001b[0m\u001b[1;33m\u001b[0m\u001b[0m\n\u001b[0m\u001b[0;32m      3\u001b[0m \u001b[0mboxes\u001b[0m \u001b[1;33m=\u001b[0m \u001b[0mpytesseract\u001b[0m\u001b[1;33m.\u001b[0m\u001b[0mimage_to_boxes\u001b[0m\u001b[1;33m(\u001b[0m\u001b[0mimg\u001b[0m\u001b[1;33m,\u001b[0m \u001b[0mconfig\u001b[0m\u001b[1;33m=\u001b[0m\u001b[0mmyconfig\u001b[0m\u001b[1;33m)\u001b[0m\u001b[1;33m\u001b[0m\u001b[1;33m\u001b[0m\u001b[0m\n\u001b[0;32m      4\u001b[0m \u001b[1;31m#print(boxes)\u001b[0m\u001b[1;33m\u001b[0m\u001b[1;33m\u001b[0m\u001b[0m\n\u001b[0;32m      5\u001b[0m \u001b[1;33m\u001b[0m\u001b[0m\n",
      "\u001b[1;31mAttributeError\u001b[0m: 'NoneType' object has no attribute 'shape'"
     ]
    }
   ],
   "source": [
    "img = cv2.imread(r\".\\01_data\\sample_receipt\\IMG-4652.jpg\")\n",
    "height, width, _ = img.shape\n",
    "boxes = pytesseract.image_to_boxes(img, config=myconfig)\n",
    "#print(boxes)\n",
    "\n",
    "for box in boxes.splitlines():\n",
    "\n",
    "    box = box.split(\" \")\n",
    "    img = cv2.rectangle(img, (int(box[1]), height - int(box[2])), (int(box[3]), height-int(box[4])), (0,255,0), 2)\n",
    "\n",
    "cv2.imshow(\"img\", img)\n",
    "cv2.waitKey(0)\n",
    "\n",
    "\n"
   ]
  },
  {
   "cell_type": "markdown",
   "metadata": {},
   "source": []
  }
 ],
 "metadata": {
  "kernelspec": {
   "display_name": "py310",
   "language": "python",
   "name": "py310"
  },
  "language_info": {
   "codemirror_mode": {
    "name": "ipython",
    "version": 3
   },
   "file_extension": ".py",
   "mimetype": "text/x-python",
   "name": "python",
   "nbconvert_exporter": "python",
   "pygments_lexer": "ipython3",
   "version": "3.10.8"
  },
  "orig_nbformat": 4
 },
 "nbformat": 4,
 "nbformat_minor": 2
}
